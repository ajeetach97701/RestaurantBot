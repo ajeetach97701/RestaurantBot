{
 "cells": [
  {
   "cell_type": "markdown",
   "metadata": {},
   "source": [
    "## Workflow:\n",
    "1. The bot greets the user and shows him menu(For now lets not consider bot showing menu. The bot greets the user and asks for order.)\n",
    "2. User enters his query. The query can be anything:\n",
    "    - The user might enter a food name only(Burger).\n",
    "    - The user might query with full sentence for order like: I'd like to have a Pizza please.\n",
    "    - The user might query to ask for the price.\n",
    "    - The user might query to ask for recipe of a food item."
   ]
  },
  {
   "cell_type": "code",
   "execution_count": 1,
   "metadata": {},
   "outputs": [],
   "source": [
    "import os\n",
    "from dotenv import load_dotenv\n",
    "from langchain_community.vectorstores import Chroma\n",
    "from langchain_core.runnables import RunnableMap, RunnablePassthrough\n",
    "from langchain_core.output_parsers import JsonOutputParser\n",
    "from langchain_openai import ChatOpenAI\n",
    "from langchain_community.document_loaders import CSVLoader\n",
    "from langchain_community.embeddings.sentence_transformer import SentenceTransformerEmbeddings\n",
    "from langchain_core.prompts import PromptTemplate, ChatPromptTemplate\n",
    "from langchain.agents import AgentExecutor, create_tool_calling_agent, initialize_agent, AgentType\n",
    "from langchain.tools.retriever import create_retriever_tool\n",
    "from langchain_text_splitters import  RecursiveCharacterTextSplitter\n",
    "from langchain.chains import LLMChain, create_tagging_chain_pydantic\n",
    "from langchain_core.tools import Tool\n",
    "from langchain.memory import ConversationBufferMemory\n",
    "from pydantic import BaseModel, Field\n",
    "from langchain.chains.conversation.memory import ConversationBufferMemory\n",
    "from langchain.chains import ConversationChain\n",
    "load_dotenv()\n",
    "llm = ChatOpenAI(temperature = 0, model_name = 'gpt-3.5-turbo')\n"
   ]
  },
  {
   "cell_type": "code",
   "execution_count": 2,
   "metadata": {},
   "outputs": [],
   "source": [
    "loader = CSVLoader('./Datasets/menu.csv')\n",
    "docs = loader.load()\n",
    "text_splitter = RecursiveCharacterTextSplitter(chunk_size = 1000,chunk_overlap = 200)\n",
    "splits = text_splitter.split_documents(docs)\n",
    "# # embeddings = GoogleGenerativeAIEmbeddings(model = 'models/embedding-001')\n",
    "embeddings = SentenceTransformerEmbeddings(model_name=\"all-MiniLM-L6-v2\")\n",
    "from database import vector_store\n",
    "# vector_store = Chroma.from_documents(documents=splits, embedding=embeddings,collection_name='menu_data' ,persist_directory = './Chroma/')"
   ]
  },
  {
   "cell_type": "code",
   "execution_count": 3,
   "metadata": {},
   "outputs": [],
   "source": [
    "# from langchain.vectorstores.milvus import Milvus\n",
    "# load_dotenv()\n",
    "# host = os.getenv('HOST')\n",
    "# port = os.getenv('PORT')\n",
    "# # vector_store = Milvus(embeddings,connection_args={'host':host,'port':port},collection_name=\"Food_Menu\")"
   ]
  },
  {
   "cell_type": "code",
   "execution_count": 4,
   "metadata": {},
   "outputs": [
    {
     "data": {
      "text/plain": [
       "<langchain_community.vectorstores.milvus.Milvus at 0x17e2a1450>"
      ]
     },
     "execution_count": 4,
     "metadata": {},
     "output_type": "execute_result"
    }
   ],
   "source": [
    "vector_store"
   ]
  },
  {
   "cell_type": "markdown",
   "metadata": {},
   "source": [
    "## 1. Receipt Generator tool  - Tool number one - Calculate_receipt"
   ]
  },
  {
   "cell_type": "code",
   "execution_count": 5,
   "metadata": {},
   "outputs": [],
   "source": [
    "def calculate_receipt(user_query):\n",
    "    order_details = [\n",
    "    {\"food_name\": \"Pizza\", \"price\": 10.99},\n",
    "    {\"food_name\": \"Burger\", \"price\": 5.99},\n",
    "    {\"food_name\": \"Salad\", \"price\": 7.5},\n",
    "    {\"food_name\": \"Pasta\", \"price\": 8.75},\n",
    "    {\"food_name\": \"Steak\", \"price\": 15.99},\n",
    "    {\"food_name\": \"Sushi\", \"price\": 12.5}\n",
    "    ]\n",
    "    template = \"\"\"Given a List containing food_name and price, fetch all the price and add all the prices to return a total price. The list is given in three backticks. \n",
    "    ```{order_details}```\n",
    "    ##User query is: ``{user_query}``\n",
    "    The output should be of JSON.\"\"\"\n",
    "\n",
    "    total_price_calculator_prompt = PromptTemplate(input_variables=[\"user_query\"], template=template)\n",
    "    total_price_calculator_chain = LLMChain(llm = llm, prompt=total_price_calculator_prompt)\n",
    "    total_sum = total_price_calculator_chain.run({\"user_query\":user_query, \"order_details\": order_details})\n",
    "    print(\"receipt_tool\")\n",
    "    return total_sum\n",
    "\n",
    "\n",
    "receipt_tool = Tool(\n",
    "        name = \"ReceiptCalculator\",\n",
    "        func= calculate_receipt,\n",
    "        description = \"A tool that returns total price when the user asks for receipt or bill.\"\n",
    "    )\n",
    "\n",
    "# # memory = ConversationBufferMemory(memory_key = \"chat_history\", return_messages= True)\n",
    "\n",
    "# prompt_receipt = ChatPromptTemplate.from_messages(\n",
    "#     [\n",
    "#         (\n",
    "#             \"system\",\n",
    "#             \"You are a helpful assistant. Make sure to use the tool for providing receipt for the user.\",\n",
    "#         ),\n",
    "#         (\"placeholder\", \"{chat_history}\"),\n",
    "#         (\"human\", \"{input}\"),\n",
    "#         (\"placeholder\", \"{agent_scratchpad}\"),\n",
    "#     ]\n",
    "# )\n",
    "\n",
    "# # Construct the Tools agent\n",
    "# # agent = create_tool_calling_agent(llm, receipt_tool, prompt_receipt)\n",
    "\n",
    "# # agent_executor = AgentExecutor( tools = receipt_tool, agent= agent)\n",
    "# # agent_executor.invoke({\"input\":\"I need my receipt\"})"
   ]
  },
  {
   "cell_type": "markdown",
   "metadata": {},
   "source": [
    "## 2. Receipe Generator Tool - tool number 2 recipe"
   ]
  },
  {
   "cell_type": "code",
   "execution_count": 6,
   "metadata": {},
   "outputs": [],
   "source": [
    "# 1. Create a tool\n",
    "def recipe(user_input):\n",
    "    \n",
    "    recipe_retriever = vector_store.as_retriever(search_type = 'mmr', k= 5)\n",
    "    recipe_template = \"\"\"### Instruction ###\n",
    "        You are a good Virtual Assistant . When a user asks you about recipe/ingredients or price of a particular item you have to answer him the recipe or price of the food item based on the context and make sure\n",
    "        to provide all the details.\n",
    "        Context is given in triple back ticks: ```{context}```\n",
    "        Question is given in double back ticks:  ``{question}``\n",
    "        If the question is out of context, do not provide the wrong answer just say I am sorry i can't answer to that question.\n",
    "        ### Your Response must be in JSON FORMAT and similar to like this:\n",
    "        We have multiple options for Sandwich: \n",
    "        1.Chicken Breast Sandwich Recipe: \"Marinate chicken breasts in olive oil, lemon juice, garlic, and herbs. Grill until cooked through. Toast sandwich buns and assemble with grilled chicken, lettuce, tomato, and mayonnaise. Optionally, add toppings like avocado or bacon. Serve warm for a delicious and wholesome Chicken Breast Sandwich.\"\n",
    "    \"\"\"\n",
    "    prompt_recipe = PromptTemplate(\n",
    "        input_variables=[\"context\",\"question\"],\n",
    "        template=recipe_template\n",
    "    ) \n",
    "    recipe_chain = (\n",
    "        {\"context\":recipe_retriever, \"question\":RunnablePassthrough()}\n",
    "        | prompt_recipe\n",
    "        | llm\n",
    "        | JsonOutputParser()\n",
    "    )\n",
    "    print(\"recipe tool\")\n",
    "    return recipe_chain.invoke(user_input)\n",
    "\n",
    "recipe_tool = Tool(\n",
    "    name = \"RecipeTool\",\n",
    "    func = recipe,\n",
    "    description=\"A Tool that returns recipe of a food\"\n",
    "    \n",
    ")\n",
    "\n",
    "\n",
    "# # 2. Prompt for agent\n",
    "# prompt = ChatPromptTemplate.from_messages(\n",
    "#     [\n",
    "#     (\n",
    "#         \"system\", \n",
    "#         \"You are an assistant that returns recipe. Please use the tool for answering the questions. Return the response as specified in tool .\"\n",
    "#     ),\n",
    "#     (\"human\",\"{question}\"),\n",
    "#     (\"placeholder\",\"{agent_scratchpad}\"),\n",
    "#     (\"placeholder\",\"{tool_names}\"),\n",
    "#     (\"placeholder\",\"{tools}\"),\n",
    "#     ]\n",
    "# )\n",
    "\n",
    "# # # 3. Initialize an agent, AgentExecutor and run it \n",
    "# tools = [recipe_tool]\n",
    "\n",
    "# agent = create_tool_calling_agent(llm = llm, tools= tools, prompt= prompt)\n",
    "# agent_executor = AgentExecutor(\n",
    "#     tools= tools, \n",
    "#     agent= agent, \n",
    "#     max_iterations= 5, \n",
    "#     return_intermediate_steps= False, \n",
    "#     verbose=True, \n",
    "#     early_stopping_method ='generate')\n",
    "# ag_response = agent_executor.invoke({\"question\":\"what is the recipe and price of Cali Chicken Sandwich?\"})"
   ]
  },
  {
   "cell_type": "code",
   "execution_count": 7,
   "metadata": {},
   "outputs": [],
   "source": [
    "def chit_chat(user_query):\n",
    "    first_prompt = ChatPromptTemplate.from_template(\n",
    "       \"\"\"You are a waiter at a restaurant. You should have conversation with the user.\n",
    "        First greet the user and welcome the user to our restaurant and ask him if he would like to order something.\n",
    "        Explain you need take the food order from the user.\n",
    "        ### ask_for : ```food_name```\n",
    "        Current conversation:\n",
    "        {history}\n",
    "        Human: {input}\n",
    "        AI Assistant:\n",
    "        # \"\"\"\n",
    "    )\n",
    "    \n",
    "    # info_chain = LLMChain(llm = llm, prompt=first_prompt, verbose=True)\n",
    "    conversation_chain = ConversationChain(llm= llm, verbose = True,prompt = first_prompt, memory = ConversationBufferMemory(ai_prefix= \"AI Assistant\"))\n",
    "    ai_chat = conversation_chain.run(user_query)\n",
    "    print(\"Crete order tool\")\n",
    "    return ai_chat"
   ]
  },
  {
   "cell_type": "code",
   "execution_count": 8,
   "metadata": {},
   "outputs": [],
   "source": [
    "# chit_chat(\"Hello\")"
   ]
  },
  {
   "cell_type": "code",
   "execution_count": 9,
   "metadata": {},
   "outputs": [],
   "source": [
    "# class OrderFetch(BaseModel):\n",
    "#     food_name: str = Field(\n",
    "#         description=\"This is the food that user will order.\",\n",
    "#     )\n",
    "\n",
    "\n",
    "# def food_chain_tool(user_query):    \n",
    "#     food_chain = create_tagging_chain_pydantic(OrderFetch,llm)\n",
    "#     output =food_chain.run(user_query)\n",
    "#     return output.food_name\n",
    "\n",
    "\n",
    "# food_tool = Tool( \n",
    "#     func=food_chain_tool,\n",
    "#     name=\"foodOrderTool\",\n",
    "#     description=\"You are an assistant that creates an order. Please use the tool for performing action. Do not look up for answer elsewhere only use the tool to look for answer.\"\n",
    "# )\n",
    "\n"
   ]
  },
  {
   "cell_type": "code",
   "execution_count": 10,
   "metadata": {},
   "outputs": [],
   "source": [
    "# def record_response(user_query):\n",
    "#     user_input = input(create_order(user_query))\n",
    "#     chain = create_tagging_chain_pydantic(OrderFetch,llm)\n",
    "#     user_response = chain.run(user_input)\n",
    "#     return user_response\n",
    "    "
   ]
  },
  {
   "cell_type": "code",
   "execution_count": 11,
   "metadata": {},
   "outputs": [],
   "source": [
    "\n",
    "# template = \"\"\"You are a virtual Restaurant Waiter. Your task is to check if the given food_name is present in the context or not. \n",
    "# If the food is available in the context and has multiple foods for it, show the user with all the available food names with its price.\n",
    "# The output should be of JSON FORMAT without any backticks which is given in four backticks return only :\n",
    "# If not tell them that the option is not available and ask them if they would like to order something else?\n",
    "# Context is given in three backticks: ```{context}```\n",
    "# User provided food name is given in double backticks: ``{input}``\n",
    "# \"\"\"\n",
    "# food_verify_tool = create_retriever_tool(\n",
    "#     vector_store.as_retriever(search_typ'similarity'),\n",
    "#     name = \"OrderCreationTool\",\n",
    "#     description=template\n",
    "# )\n",
    "# food_order_prompt = ChatPromptTemplate.from_messages(\n",
    "#     [\n",
    "#     (\n",
    "#         \"assistant\", \n",
    "#         \"You are an restaurant waiter that verifies food name. Please use the tool for answering the questions.Do not look up for answer elsewhere only use the tool to look for answer .\"\n",
    "#     ),\n",
    "#     (\"human\",\"{input}\"),\n",
    "#     (\"placeholder\",\"{agent_scratchpad}\"),\n",
    "#     (\"placeholder\",\"{tool_names}\"),\n",
    "#     (\"placeholder\",\"{tools}\"),\n",
    "#     ]\n",
    "# )"
   ]
  },
  {
   "cell_type": "markdown",
   "metadata": {},
   "source": [
    "## Tool number 3 - Food verify"
   ]
  },
  {
   "cell_type": "code",
   "execution_count": 12,
   "metadata": {},
   "outputs": [],
   "source": [
    "# food_name_retriever = vector_store.as_retriever(search_type= 'mmr', kwargs=6)\n",
    "# food_name_retriever.invoke('Burger')"
   ]
  },
  {
   "cell_type": "code",
   "execution_count": 13,
   "metadata": {},
   "outputs": [],
   "source": [
    "food_name_retriever = vector_store.as_retriever(search_type= 'mmr', kwargs=6)\n",
    "# food_name_retriever = vector_store.similarity_search(user_input)\n",
    "food_template = \"\"\"You are a virtual Restaurant Waiter. Your task is to check if the given food_name is present in the context or not. \n",
    "If the food is available in the context and has multiple foods for it, show the user with all the available food names with its price.\n",
    "The output should be of JSON FORMAT without any backticks which is given in four backticks return only :\n",
    "If not tell them that the option is not available and ask them if they would like to order something else?\n",
    "Context is given in three backticks: ```{context}```\n",
    "User provided food name is given in double backticks: ``{input}``\n",
    "\"\"\"\n",
    "prompt_recipe = PromptTemplate(\n",
    "    input_variables=[\"context\",\"input\"],\n",
    "    template=food_template\n",
    ")\n",
    "chain = RunnableMap({\n",
    "    \"context\": lambda x: vector_store.similarity_search(x['input'], k=8),\n",
    "    \"input\": lambda x: x['input']\n",
    "}) | prompt_recipe | llm | JsonOutputParser()\n",
    "\n",
    "# chain.invoke({\"input\":\"I want to order a burger\"})"
   ]
  },
  {
   "cell_type": "code",
   "execution_count": 14,
   "metadata": {},
   "outputs": [],
   "source": [
    "# chain.invoke({\"input\":\"I want to order a Momo\"})"
   ]
  },
  {
   "cell_type": "code",
   "execution_count": 15,
   "metadata": {},
   "outputs": [],
   "source": [
    "# food_verify_tool = create_retriever_tool(\n",
    "#     vector_store.as_retriever(search_type = 'similarity'),\n",
    "#     name = \"OrderCreationTool\",\n",
    "#     description=template\n",
    "# )\n",
    "\n",
    "\n",
    "def food_verify(user_input):\n",
    "    print(user_input)\n",
    "    # food_name_retriever = vector_store.as_retriever(search_type= 'mmr', kwargs=6)\n",
    "    # food_name_retriever = vector_store.similarity_search(user_input)\n",
    "    food_template = \"\"\"You are a virtual Restaurant Waiter. Your task is to check if the given food_name is present in the context or not. \n",
    "    If the food is available in the context and has multiple foods for it, show the user with all the available food names with its price.\n",
    "    The output should be of JSON FORMAT without any backticks which is given in four backticks return only :\n",
    "    If not tell them that the option is not available and ask them if they would like to order something else?\n",
    "    Context is given in three backticks: ```{context}```\n",
    "    User provided food name is given in double backticks: ``{input}``\n",
    "    \"\"\"\n",
    "    prompt_recipe = PromptTemplate(\n",
    "        input_variables=[\"context\",\"input\"],\n",
    "        template=food_template\n",
    "    )\n",
    "    chain = RunnableMap({\n",
    "        \"context\": lambda x: vector_store.similarity_search(x['input'], k=8),\n",
    "        \"input\": lambda x: x['input']\n",
    "    }) | prompt_recipe | llm | JsonOutputParser()\n",
    "\n",
    "    return chain.invoke({\"input\":\"I want to order a burger\"})\n",
    "# food_chain\n",
    "\n",
    "food_tool = Tool(\n",
    "    name = \"FoodverifyTool\",\n",
    "    func = food_verify,\n",
    "    description=\"A tool that checks for food availability in the context\"\n",
    "    \n",
    ")\n",
    "\n",
    "\n",
    "\n",
    "# food_prompt = ChatPromptTemplate.from_messages(\n",
    "#     [\n",
    "#     (\n",
    "#         \"assistant\", \n",
    "#         \"You are an restaurant waiter that returns food from the context. Please use the tool for answering the questions.Do not look up for answer elsewhere only use the tool to look for answer .\"\n",
    "#     ),\n",
    "#     (\"human\",\"{input}\"),\n",
    "#     (\"placeholder\",\"{agent_scratchpad}\"),\n",
    "#     (\"placeholder\",\"{tool_names}\"),\n",
    "#     (\"placeholder\",\"{tools}\"),\n",
    "#     ]\n",
    "# )\n",
    "\n",
    "\n",
    "# agent = create_tool_calling_agent(llm = llm, tools= [food_tool], prompt= food_prompt)\n",
    "# agent_executor = AgentExecutor(\n",
    "#     tools= [food_tool], \n",
    "#     agent= agent, \n",
    "#     max_iterations= 5, \n",
    "#     return_intermediate_steps= False, \n",
    "#     verbose=True, \n",
    "#     early_stopping_method ='generate')\n",
    "# ag=agent_executor.invoke({\"input\":\"I want to have a Burger\"})\n",
    "# ag"
   ]
  },
  {
   "cell_type": "code",
   "execution_count": 16,
   "metadata": {},
   "outputs": [],
   "source": [
    "# food_verify('Burger')"
   ]
  },
  {
   "cell_type": "code",
   "execution_count": 17,
   "metadata": {},
   "outputs": [],
   "source": [
    "# template = \"\"\"You are a waiter at a restaurant. Below is are some things to ask the user for in a coversation way. \n",
    "#         you should only ask one question at a time even if you don't get all the info \n",
    "#         don't ask as a list! First greet the user and welcome the user to our restaurant in a friendly way!\n",
    "#         Explain you need take the food order from the user.\n",
    "#         ask_for list: \n",
    "#         Current conversation:\n",
    "#         {history}\n",
    "#         Human: {input}\n",
    "#         AI Assistant:\n",
    "#         \"\"\"\n",
    "        \n",
    "# prompt = PromptTemplate(input_variables=[\"ask_for\",\"history\", \"input\"], template=template)\n",
    "# conversation = ConversationChain(llm= llm, verbose = True,prompt = prompt, memory = ConversationBufferMemory(ai_prefix= \"AI Assistant\"))"
   ]
  },
  {
   "cell_type": "code",
   "execution_count": 19,
   "metadata": {},
   "outputs": [],
   "source": [
    "from langchain_core.prompts import ChatPromptTemplate\n",
    "from langchain.agents import AgentExecutor, create_tool_calling_agent\n",
    "from langchain.chains import LLMChain, create_tagging_chain_pydantic\n",
    "from langchain_core.tools import Tool\n",
    "from langchain_core.prompts import PromptTemplate, ChatPromptTemplate\n",
    "from langchain_core.runnables.history import RunnableWithMessageHistory\n",
    "from pydantic import BaseModel, Field\n",
    "from langchain.memory import ChatMessageHistory\n",
    "memory = ChatMessageHistory(session_id=\"test-session\")\n",
    "from langchain.chains import ConversationChain\n",
    "\n",
    "from llm.model import llm\n",
    "from langchain_core.output_parsers import JsonOutputParser, StrOutputParser, PydanticOutputParser\n",
    "\n",
    "\n",
    "class address(BaseModel):\n",
    "    address:str=Field(description=\"This is the address of the customers in case of delivery.\")\n",
    "                                                                                              \n",
    "parser = PydanticOutputParser(pydantic_object=address)\n",
    "\n",
    "# address_chain=create_tagging_chain_pydantic(address,llm)\n",
    "\n",
    "def ask_user():\n",
    "    ask_for=['service']\n",
    "    first_prompt = ChatPromptTemplate.from_template(\n",
    "        f'''You are a smart waiter at a restaurant. First  you should ask the user in conversational ways whether the user's order is delivery or dine-in.\n",
    "        Don not ask addtional information just ask whether the order is delivery or dine-in.\n",
    "        # Example:\"Would you like to have a dine-in or delivery?\"\n",
    "        # ask_for:{ask_for}\n",
    "        '''\n",
    "    )   \n",
    "    chain = LLMChain(llm=llm, prompt=first_prompt, verbose=False)\n",
    "    conv = chain.run(ask_for=ask_for) \n",
    "    return conv\n",
    "\n",
    "def ask_services():\n",
    "    service_type=input(ask_user())\n",
    "    # partial_variables={\"format_instructions\": parser.get_format_instructions()\n",
    "    \n",
    "    \n",
    "    first_prompt1 = PromptTemplate(\n",
    "        template= f\"\"\" You are a smart assistant waiter in a ABC restaurant.After the order, the user is asked whether he/she wants  delivery or dine-in.Your role is mentioned below:\n",
    "       \n",
    "        If the user wants delivery then tell them to provide their delivery address(only in case of delivery) \n",
    "       \n",
    "        If the user wants dine-in then do nothing simply say thank you and enjoy the meal in our restaurant. \n",
    "        \n",
    "        \n",
    "       Provide staright forward answer related to whether the order is to be deliver or dine-in and do not ask any unwanted additional information\n",
    "       \n",
    "       # ask_for :{service_type}\n",
    "      \"\"\"     ,\n",
    "        input_variables=[\"query\"],\n",
    "        partial_variables={\"format_instructions\": parser.get_format_instructions()},\n",
    "    )\n",
    "    \n",
    "    chain = LLMChain(llm = llm, prompt=first_prompt1, verbose=False)\n",
    "    convs = chain.run(ask_for=service_type)\n",
    "    return convs\n",
    "\n",
    "\n",
    "def record_address(user_input):\n",
    "    user_input=input(ask_services())\n",
    "    chain=create_tagging_chain_pydantic(address,llm)\n",
    "    response=chain.run(user_input)\n",
    "    print(response)\n",
    "    return response\n",
    "\n",
    "address_tool=Tool(\n",
    "    name='deliveryaddress',\n",
    "    func=record_address,\n",
    "    description=\n",
    "    \"You are a smart assistant waiter in a ABC restaurant. When the user says he has finished his ordering, ask the  whether he/she wants  delivery or dine-in.Your role is mentioned below:\\\n",
    "        If the user wants delivery then tell them to provide their delivery address(only in case of delivery)\\\n",
    "        If the user wants dine-in then do nothing simply say thank you .\\\n",
    "       Provide staright forward answer related to whether the order is to be deliver or dine-in and do not ask any unwanted additional information\"  \n",
    ")\n",
    "\n",
    "\n",
    "# address_prompt = ChatPromptTemplate.from_messages(\n",
    "#      [\n",
    "#     (\n",
    "#         \"system\", \n",
    "#         \"You are a smart assistant waiter in a ABC restaurant.After the order, the user is asked whether he/she wants  delivery or dine-in.Your role is mentioned below:\\\n",
    "#         If the user wants delivery then tell them to provide their delivery address(only in case of delivery)\\\n",
    "#         If the user wants dine-in then do nothing simply say thank you .\\\n",
    "#         Provide staright forward answer related to whether the order is to be deliver or dine-in and do not ask any unwanted additional information\"\n",
    "       \n",
    "#     ),\n",
    "#     (\"human\",\"{input}\"),\n",
    "#     (\"placeholder\",\"{agent_scratchpad}\"),\n",
    "#     (\"placeholder\",\"{tool_names}\"),\n",
    "#     (\"placeholder\",\"{tools}\"),\n",
    "#     ]\n",
    "# )\n",
    "\n",
    "# memory = ChatMessageHistory(session_id=\"test-session\")\n",
    "# tools = [address_tool]\n",
    "# agent = create_tool_calling_agent(llm, tools, address_prompt)\n",
    "\n",
    "# agent_executor = AgentExecutor( tools = tools, agent= agent,return_immediate_steps = False)\n",
    "# agent_with_chat_history = RunnableWithMessageHistory(\n",
    "#     agent_executor,\n",
    "#     # This is needed because in most real world scenarios, a session id is needed\n",
    "#     # It isn't really used here because we are using a simple in memory ChatMessageHistory\n",
    "#     lambda session_id: memory,\n",
    "#     input_messages_key=\"input\",\n",
    "#     history_messages_key=\"chat_history\",\n",
    "# )\n",
    "# # agent_executor.invoke({\"input\":\"I want to have a delivery in Kapan\"})\n",
    "\n",
    "# agent_output = agent_with_chat_history.invoke({\"input\":\"Burger.\"},\n",
    "#     config={\"configurable\": {\"session_id\": \"<foo>\"}},\n",
    "#                                )"
   ]
  },
  {
   "cell_type": "code",
   "execution_count": null,
   "metadata": {},
   "outputs": [],
   "source": []
  },
  {
   "cell_type": "code",
   "execution_count": 20,
   "metadata": {},
   "outputs": [],
   "source": [
    "chit_chat_tool = Tool(\n",
    "        name = \"ChitChatTool\",\n",
    "        func= chit_chat,\n",
    "        description = \"A tool that does conversation with the user, greets the user and has conversation with the user.\"\n",
    "    )\n",
    "\n",
    "tools = [\n",
    "    receipt_tool,\n",
    "    recipe_tool,\n",
    "    food_tool,\n",
    "    address_tool,\n",
    "]\n",
    "\n",
    "prompt = ChatPromptTemplate.from_messages(\n",
    "    [\n",
    "        (\n",
    "            \"system\",\n",
    "            \"You are a waiter at a restaurant. You should have conversation with the user.\\\n",
    "            First greet the user and welcome the user to our restaurant and ask him if he would like to order something.\\\n",
    "            Look up for tools to answer the user query do not make up your own answers. Only use tools to answer the user query \\\n",
    "            Always return the response in JSON format as output with double quotation(\\\") but not single quotation(\\') with no \\n in the outputs\",\n",
    "        ),\n",
    "        (\"placeholder\", \"{chat_history}\"),\n",
    "        (\"human\", \"{input}\"),\n",
    "        (\"placeholder\", \"{agent_scratchpad}\"),\n",
    "    ]\n",
    ")\n",
    "\n",
    "# # Construct the Tools agent\n",
    "agent = create_tool_calling_agent(llm, tools, prompt)\n",
    "\n",
    "agent_executor = AgentExecutor(\n",
    "    tools= tools, \n",
    "    agent= agent, \n",
    "    max_iterations= 5, \n",
    "    return_intermediate_steps= False, \n",
    "    verbose=True, \n",
    "    early_stopping_method ='generate')\n",
    "\n",
    "from langchain.memory import ChatMessageHistory\n",
    "memory = ChatMessageHistory(session_id=\"test-session\")\n",
    "from langchain_core.runnables.history import RunnableWithMessageHistory\n",
    "\n",
    "agent_with_chat_history = RunnableWithMessageHistory(\n",
    "    agent_executor,\n",
    "    # This is needed because in most real world scenarios, a session id is needed\n",
    "    # It isn't really used here because we are using a simple in memory ChatMessageHistory\n",
    "    lambda session_id: memory,\n",
    "    input_messages_key=\"input\",\n",
    "    history_messages_key=\"chat_history\",\n",
    ")\n",
    "# output = agent_executor.invoke({\"input\":\"I want to have a Burger\"})\n",
    "\n",
    "# agent_with_chat_history.invoke({\"input\":\"I want to order a Burger\"},\n",
    "#     config={\"configurable\": {\"session_id\": \"<foo>\"}},\n",
    "#                                )"
   ]
  },
  {
   "cell_type": "code",
   "execution_count": 21,
   "metadata": {},
   "outputs": [
    {
     "name": "stdout",
     "output_type": "stream",
     "text": [
      "\n",
      "\n",
      "\u001b[1m> Entering new AgentExecutor chain...\u001b[0m\n",
      "\u001b[32;1m\u001b[1;3m\n",
      "Invoking: `FoodverifyTool` with `Burger`\n",
      "responded: {\"message\": \"Welcome to our restaurant! Would you like to order something?\"}\n",
      "\n",
      "\u001b[0mBurger\n",
      "\u001b[38;5;200m\u001b[1;3m{'response': 'Which type of burger would you like to order? Here are the available options:', 'available_options': [{'food_name': 'Cheese Burger', 'price': 13.95}, {'food_name': 'Bacon and Cheddar Burger', 'price': 14.95}, {'food_name': 'Blue cheese Burger', 'price': 17.2}, {'food_name': 'Mushroom cheddar Burger', 'price': 14.95}, {'food_name': 'Mini Burger Sampler', 'price': 14.95}, {'food_name': 'Mexi Burger', 'price': 13.95}, {'food_name': 'Whiskey BBQ Burger', 'price': 15}]}\u001b[0m\u001b[32;1m\u001b[1;3m{\"message\": \"Which type of burger would you like to order? Here are the available\u001b[0m\n",
      "\n",
      "\u001b[1m> Finished chain.\u001b[0m\n",
      "<class 'dict'>\n"
     ]
    },
    {
     "data": {
      "text/plain": [
       "{'input': 'I want to order a Burger',\n",
       " 'chat_history': [],\n",
       " 'output': '{\"message\": \"Which type of burger would you like to order? Here are the available'}"
      ]
     },
     "execution_count": 21,
     "metadata": {},
     "output_type": "execute_result"
    }
   ],
   "source": [
    "\n",
    "output = agent_with_chat_history.invoke({\"input\":\"I want to order a Burger\"},\n",
    "    config={\"configurable\": {\"session_id\": \"<foo>\"}},\n",
    "                               )\n",
    "print(type(output))\n",
    "output"
   ]
  },
  {
   "cell_type": "code",
   "execution_count": 23,
   "metadata": {},
   "outputs": [],
   "source": [
    "# 'output': '{\"message\": \"Which type of burger would you like to order? Here are the available options:\", \"available_options\": [{\"food_name\": \"Cheese Burger\", \"price\": 13.95}, {\"food_name\": \"Bacon and Cheddar Burger\", \"price\": 14.95}, {\"food_name\": \"Blue cheese Burger\", \"price\": 17.2}, {\"food_name\": \"Mushroom cheddar Burger\", \"price\": 14.95}, {\"food_name\": \"Mini Burger Sampler\", \"price\": 14.95}, {\"food_name\": \"Mexi Burger\", \"price\": 13.95}, {\"food_name\": \"Whiskey BBQ Burger\", \"price\": 15}]}\\n{\"message\": \"Welcome to our restaurant! Would you like to order something?\"}'}"
   ]
  },
  {
   "cell_type": "code",
   "execution_count": 24,
   "metadata": {},
   "outputs": [
    {
     "name": "stdout",
     "output_type": "stream",
     "text": [
      "\n",
      "\n",
      "\u001b[1m> Entering new AgentExecutor chain...\u001b[0m\n",
      "\u001b[32;1m\u001b[1;3m\n",
      "Invoking: `FoodverifyTool` with `Burger`\n",
      "responded: {\"message\": \"Which type of burger would you like to order? Here are the available options: Veg Burger, Chicken Burger, or Beef Burger. And for Momo, we have Veg Momo and Chicken Momo. Please specify your choices.\"}\n",
      "\n",
      "\u001b[0mBurger\n",
      "\u001b[38;5;200m\u001b[1;3m{'response': 'Which type of burger would you like to order? We have the following options available: Cheese Burger, Bacon and Cheddar Burger, Blue Cheese Burger, Mushroom Cheddar Burger, Mini Burger Sampler, Mexi Burger, and Whiskey BBQ Burger. Please let me know your choice.'}\u001b[0m\u001b[32;1m\u001b[1;3m\n",
      "Invoking: `FoodverifyTool` with `Momo`\n",
      "\n",
      "\n",
      "\u001b[0mMomo\n",
      "\u001b[38;5;200m\u001b[1;3m{'response': 'Which type of burger would you like to order? Here are the available options:', 'available_options': [{'food_name': 'Cheese Burger', 'price': 13.95}, {'food_name': 'Bacon and Cheddar Burger', 'price': 14.95}, {'food_name': 'Blue cheese Burger', 'price': 17.2}, {'food_name': 'Mushroom cheddar Burger', 'price': 14.95}, {'food_name': 'Mini Burger Sampler', 'price': 14.95}, {'food_name': 'Mexi Burger', 'price': 13.95}, {'food_name': 'Whiskey BBQ Burger', 'price': 15}]}\u001b[0m\u001b[32;1m\u001b[1;3m\n",
      "Invoking: `RecipeTool` with `Cheese Burger`\n",
      "responded: {\"message\": \"Which type of Momo would you like to order? We have Veg Momo and Chicken Momo. Please specify your choice.\"}\n",
      "\n",
      "\u001b[0mrecipe tool\n",
      "\u001b[33;1m\u001b[1;3m{'Cheese Burger': {'Item': 'Cheese Burger', 'Description': 'Cheese Burger, a classic American favorite featuring a juicy beef patty, melted cheese, crisp lettuce, ripe tomatoes, and tangy pickles.', 'Price': '$13.95', 'Label': 'Main', 'Serving': '1', 'Recipe': 'Season ground beef with salt and pepper, form into patties, and grill to desired doneness. Toast burger buns and assemble with lettuce, tomato slices, pickles, and melted cheese. Add condiments like ketchup and mustard if desired. Serve hot and juicy, ready to satisfy any cheeseburger craving.'}}\u001b[0m\u001b[32;1m\u001b[1;3m\n",
      "Invoking: `RecipeTool` with `Veg Momo`\n",
      "responded: {\"message\": \"Which type of Momo would you like to order? We have Veg Momo and Chicken Momo. Please specify your choice.\"}\n",
      "\n",
      "\u001b[0mrecipe tool\n",
      "\u001b[33;1m\u001b[1;3m{'response': \"I am sorry i can't answer to that question.\"}\u001b[0m\u001b[32;1m\u001b[1;3m\n",
      "Invoking: `deliveryaddress` with `delivery`\n",
      "responded: {\"message\": \"Great choice! Here are the details of your order:\\n- Cheese Burger: Cheese Burger, a classic American favorite featuring a juicy beef patty, melted cheese, crisp lettuce, ripe tomatoes, and tangy pickles. Price: $13.95\\n- Veg Momo: Unfortunately, I couldn't retrieve the recipe for Veg Momo at the moment. Would you like to proceed with this order?\"}\n",
      "\n",
      "\u001b[0maddress='delivery'\n",
      "\u001b[36;1m\u001b[1;3maddress='delivery'\u001b[0m\u001b[32;1m\u001b[1;3m{\"message\": \"Please provide your delivery address for the order.\"}\u001b[0m\n",
      "\n",
      "\u001b[1m> Finished chain.\u001b[0m\n"
     ]
    },
    {
     "data": {
      "text/plain": [
       "{'input': ' I want to order burger and  Momo',\n",
       " 'chat_history': [HumanMessage(content='I want to order a Burger'),\n",
       "  AIMessage(content='{\"message\": \"Which type of burger would you like to order? Here are the available')],\n",
       " 'output': '{\"message\": \"Please provide your delivery address for the order.\"}'}"
      ]
     },
     "execution_count": 24,
     "metadata": {},
     "output_type": "execute_result"
    }
   ],
   "source": [
    "agent_with_chat_history.invoke({\"input\":\" I want to order burger and  Momo\"},\n",
    "    config={\"configurable\": {\"session_id\": \"<foo>\"}})"
   ]
  },
  {
   "cell_type": "code",
   "execution_count": 25,
   "metadata": {},
   "outputs": [
    {
     "name": "stdout",
     "output_type": "stream",
     "text": [
      "\n",
      "\n",
      "\u001b[1m> Entering new AgentExecutor chain...\u001b[0m\n",
      "\u001b[32;1m\u001b[1;3m\n",
      "Invoking: `FoodverifyTool` with `fried chicken sandwich`\n",
      "\n",
      "\n",
      "\u001b[0mfried chicken sandwich\n",
      "\u001b[38;5;200m\u001b[1;3m{'response': 'Which type of burger would you like to order? Here are the available options:', 'available_options': [{'food_name': 'Cheese Burger', 'price': 13.95}, {'food_name': 'Bacon and Cheddar Burger', 'price': 14.95}, {'food_name': 'Blue cheese Burger', 'price': 17.2}, {'food_name': 'Mushroom cheddar Burger', 'price': 14.95}, {'food_name': 'Mini Burger Sampler', 'price': 14.95}, {'food_name': 'Mexi Burger', 'price': 13.95}, {'food_name': 'Whiskey BBQ Burger', 'price': 15}]}\u001b[0m\u001b[32;1m\u001b[1;3m{\"message\": \"We don't have fried chicken sandwich. Would you like to order something else? Here are the available options for burgers:\", \"available_options\": [{\"food_name\": \"Cheese Burger\", \"price\": 13.95}, {\"food_name\": \"Bacon and Cheddar Burger\", \"price\": 14.95}, {\"food_name\": \"Blue cheese Burger\", \"price\": 17.2}, {\"food_name\": \"Mushroom cheddar Burger\", \"price\": 14.95}, {\"food_name\": \"Mini Burger Sampler\", \"price\": 14.95}, {\"food_name\": \"Mexi Burger\", \"price\": 13.95}, {\"food_name\": \"Whiskey BBQ Burger\", \"price\": 15}]}\u001b[0m\n",
      "\n",
      "\u001b[1m> Finished chain.\u001b[0m\n"
     ]
    },
    {
     "data": {
      "text/plain": [
       "{'input': 'Do you have fried chicken sandwich?',\n",
       " 'chat_history': [HumanMessage(content='I want to order a Burger'),\n",
       "  AIMessage(content='{\"message\": \"Which type of burger would you like to order? Here are the available'),\n",
       "  HumanMessage(content=' I want to order burger and  Momo'),\n",
       "  AIMessage(content='{\"message\": \"Please provide your delivery address for the order.\"}')],\n",
       " 'output': '{\"message\": \"We don\\'t have fried chicken sandwich. Would you like to order something else? Here are the available options for burgers:\", \"available_options\": [{\"food_name\": \"Cheese Burger\", \"price\": 13.95}, {\"food_name\": \"Bacon and Cheddar Burger\", \"price\": 14.95}, {\"food_name\": \"Blue cheese Burger\", \"price\": 17.2}, {\"food_name\": \"Mushroom cheddar Burger\", \"price\": 14.95}, {\"food_name\": \"Mini Burger Sampler\", \"price\": 14.95}, {\"food_name\": \"Mexi Burger\", \"price\": 13.95}, {\"food_name\": \"Whiskey BBQ Burger\", \"price\": 15}]}'}"
      ]
     },
     "execution_count": 25,
     "metadata": {},
     "output_type": "execute_result"
    }
   ],
   "source": [
    "agent_with_chat_history.invoke({\"input\":\"Do you have fried chicken sandwich?\"},\n",
    "    config={\"configurable\": {\"session_id\": \"<foo>\"}},\n",
    "                               )\n"
   ]
  },
  {
   "cell_type": "code",
   "execution_count": 26,
   "metadata": {},
   "outputs": [
    {
     "name": "stdout",
     "output_type": "stream",
     "text": [
      "\n",
      "\n",
      "\u001b[1m> Entering new AgentExecutor chain...\u001b[0m\n",
      "\u001b[32;1m\u001b[1;3m{\"message\": \"Please provide your delivery address for the order.\"}\u001b[0m\n",
      "\n",
      "\u001b[1m> Finished chain.\u001b[0m\n"
     ]
    },
    {
     "data": {
      "text/plain": [
       "{'input': 'I want to order momo',\n",
       " 'chat_history': [HumanMessage(content='I want to order a Burger'),\n",
       "  AIMessage(content='{\"message\": \"Which type of burger would you like to order? Here are the available'),\n",
       "  HumanMessage(content=' I want to order burger and  Momo'),\n",
       "  AIMessage(content='{\"message\": \"Please provide your delivery address for the order.\"}'),\n",
       "  HumanMessage(content='Do you have fried chicken sandwich?'),\n",
       "  AIMessage(content='{\"message\": \"We don\\'t have fried chicken sandwich. Would you like to order something else? Here are the available options for burgers:\", \"available_options\": [{\"food_name\": \"Cheese Burger\", \"price\": 13.95}, {\"food_name\": \"Bacon and Cheddar Burger\", \"price\": 14.95}, {\"food_name\": \"Blue cheese Burger\", \"price\": 17.2}, {\"food_name\": \"Mushroom cheddar Burger\", \"price\": 14.95}, {\"food_name\": \"Mini Burger Sampler\", \"price\": 14.95}, {\"food_name\": \"Mexi Burger\", \"price\": 13.95}, {\"food_name\": \"Whiskey BBQ Burger\", \"price\": 15}]}')],\n",
       " 'output': '{\"message\": \"Please provide your delivery address for the order.\"}'}"
      ]
     },
     "execution_count": 26,
     "metadata": {},
     "output_type": "execute_result"
    }
   ],
   "source": [
    "agent_with_chat_history.invoke({\"input\":\"I want to order momo\"},\n",
    "    config={\"configurable\": {\"session_id\": \"<foo>\"}})\n"
   ]
  },
  {
   "cell_type": "code",
   "execution_count": 40,
   "metadata": {},
   "outputs": [
    {
     "name": "stdout",
     "output_type": "stream",
     "text": [
      "\n",
      "\n",
      "\u001b[1m> Entering new AgentExecutor chain...\u001b[0m\n",
      "\u001b[32;1m\u001b[1;3m{\"message\": \"We have a variety of shakes available. Here are some options:\", \"available_options\": [{\"shake_name\": \"Chocolate Shake\", \"price\": 5.95}, {\"shake_name\": \"Vanilla Shake\", \"price\": 5.95}, {\"shake_name\": \"Strawberry Shake\", \"price\": 5.95}, {\"shake_name\": \"Banana Shake\", \"price\": 5.95}, {\"shake_name\": \"Mango Shake\", \"price\": 5.95}]}\u001b[0m\n",
      "\n",
      "\u001b[1m> Finished chain.\u001b[0m\n"
     ]
    },
    {
     "data": {
      "text/plain": [
       "{'input': 'Suggest me some Shakes',\n",
       " 'chat_history': [HumanMessage(content='I want to order a Burger'),\n",
       "  AIMessage(content='{\"message\": \"Which type of burger would you like to order? Here are the available'),\n",
       "  HumanMessage(content=' I want to order burger and  Momo'),\n",
       "  AIMessage(content='{\"message\": \"Please provide your delivery address for the order.\"}'),\n",
       "  HumanMessage(content='Do you have fried chicken sandwich?'),\n",
       "  AIMessage(content='{\"message\": \"We don\\'t have fried chicken sandwich. Would you like to order something else? Here are the available options for burgers:\", \"available_options\": [{\"food_name\": \"Cheese Burger\", \"price\": 13.95}, {\"food_name\": \"Bacon and Cheddar Burger\", \"price\": 14.95}, {\"food_name\": \"Blue cheese Burger\", \"price\": 17.2}, {\"food_name\": \"Mushroom cheddar Burger\", \"price\": 14.95}, {\"food_name\": \"Mini Burger Sampler\", \"price\": 14.95}, {\"food_name\": \"Mexi Burger\", \"price\": 13.95}, {\"food_name\": \"Whiskey BBQ Burger\", \"price\": 15}]}'),\n",
       "  HumanMessage(content='I want to order momo'),\n",
       "  AIMessage(content='{\"message\": \"Please provide your delivery address for the order.\"}'),\n",
       "  HumanMessage(content='Suggest me some Shakes'),\n",
       "  AIMessage(content='{\"message\": \"We have a variety of shakes available. Here are some options:\", \"available_options\": [{\"shake_name\": \"Chocolate Shake\", \"price\": 5.95}, {\"shake_name\": \"Vanilla Shake\", \"price\": 5.95}, {\"shake_name\": \"Strawberry Shake\", \"price\": 5.95}, {\"shake_name\": \"Banana Shake\", \"price\": 5.95}, {\"shake_name\": \"Mango Shake\", \"price\": 5.95}]}'),\n",
       "  HumanMessage(content='Cheese Pizza.'),\n",
       "  AIMessage(content='{\"message\": \"We don\\'t have Cheese Pizza. Would you like to order something else? Here are the available options for shakes:\", \"available_options\": [{\"shake_name\": \"Chocolate Shake\", \"price\": 5.95}, {\"shake_name\": \"Vanilla Shake\", \"price\": 5.95}, {\"shake_name\": \"Strawberry Shake\", \"price\": 5.95}, {\"shake_name\": \"Banana Shake\", \"price\": 5.95}, {\"shake_name\": \"Mango Shake\", \"price\": 5.95}]}'),\n",
       "  HumanMessage(content='Cheese Pizza.'),\n",
       "  AIMessage(content='{\"message\": \"We don\\'t have Cheese Pizza. Would you like to order something else? Here are the available options for shakes:\", \"available_options\": [{\"shake_name\": \"Chocolate Shake\", \"price\": 5.95}, {\"shake_name\": \"Vanilla Shake\", \"price\": 5.95}, {\"shake_name\": \"Strawberry Shake\", \"price\": 5.95}, {\"shake_name\": \"Banana Shake\", \"price\": 5.95}, {\"shake_name\": \"Mango Shake\", \"price\": 5.95}]}'),\n",
       "  HumanMessage(content='Cheese Pizza.'),\n",
       "  AIMessage(content='{\"message\": \"We don\\'t have Cheese Pizza. Would you like to order something else? Here are the available options for burgers:\", \"available_options\": [{\"food_name\": \"Cheese Burger\", \"price\": 13.95}, {\"food_name\": \"Bacon and Cheddar Burger\", \"price\": 14.95}, {\"food_name\": \"Blue cheese Burger\", \"price\": 17.2}, {\"food_name\": \"Mushroom cheddar Burger\", \"price\": 14.95}, {\"food_name\": \"Mini Burger Sampler\", \"price\": 14.95}, {\"food_name\": \"Mexi Burger\", \"price\": 13.95}, {\"food_name\": \"Whiskey BBQ Burger\", \"price\": 15}]}'),\n",
       "  HumanMessage(content='Cheese Pizza.'),\n",
       "  AIMessage(content='{\"message\": \"We don\\'t have Cheese Pizza. Would you like to order something else? Here are the available options for burgers:\", \"available_options\": [{\"food_name\": \"Cheese Burger\", \"price\": 13.95}, {\"food_name\": \"Bacon and Cheddar Burger\", \"price\": 14.95}, {\"food_name\": \"Blue cheese Burger\", \"price\": 17.2}, {\"food_name\": \"Mushroom cheddar Burger\", \"price\": 14.95}, {\"food_name\": \"Mini Burger Sampler\", \"price\": 14.95}, {\"food_name\": \"Mexi Burger\", \"price\": 13.95}, {\"food_name\": \"Whiskey BBQ Burger\", \"price\": 15}]}'),\n",
       "  HumanMessage(content='Cheese Pizza.'),\n",
       "  AIMessage(content='{\"message\": \"We don\\'t have Cheese Pizza. Would you like to order something else? Here are the available options for burgers:\", \"available_options\": [{\"food_name\": \"Cheese Burger\", \"price\": 13.95}, {\"food_name\": \"Bacon and Cheddar Burger\", \"price\": 14.95}, {\"food_name\": \"Blue cheese Burger\", \"price\": 17.2}, {\"food_name\": \"Mushroom cheddar Burger\", \"price\": 14.95}, {\"food_name\": \"Mini Burger Sampler\", \"price\": 14.95}, {\"food_name\": \"Mexi Burger\", \"price\": 13.95}, {\"food_name\": \"Whiskey BBQ Burger\", \"price\": 15}]}'),\n",
       "  HumanMessage(content='Cheese Pizza.'),\n",
       "  AIMessage(content='{\"message\": \"We don\\'t have Cheese Pizza. Would you like to order something else? Here are the available options for burgers:\", \"available_options\": [{\"food_name\": \"Cheese Burger\", \"price\": 13.95}, {\"food_name\": \"Bacon and Cheddar Burger\", \"price\": 14.95}, {\"food_name\": \"Blue cheese Burger\", \"price\": 17.2}, {\"food_name\": \"Mushroom cheddar Burger\", \"price\": 14.95}, {\"food_name\": \"Mini Burger Sampler\", \"price\": 14.95}, {\"food_name\": \"Mexi Burger\", \"price\": 13.95}, {\"food_name\": \"Whiskey BBQ Burger\", \"price\": 15}]}'),\n",
       "  HumanMessage(content='Cheese Pizza.'),\n",
       "  AIMessage(content='{\"message\": \"We don\\'t have Cheese Pizza. Would you like to order something else? Here are the available options for burgers:\", \"available_options\": [{\"food_name\": \"Cheese Burger\", \"price\": 13.95}, {\"food_name\": \"Bacon and Cheddar Burger\", \"price\": 14.95}, {\"food_name\": \"Blue cheese Burger\", \"price\": 17.2}, {\"food_name\": \"Mushroom cheddar Burger\", \"price\": 14.95}, {\"food_name\": \"Mini Burger Sampler\", \"price\": 14.95}, {\"food_name\": \"Mexi Burger\", \"price\": 13.95}, {\"food_name\": \"Whiskey BBQ Burger\", \"price\": 15}]}'),\n",
       "  HumanMessage(content='Cheese Pizza.'),\n",
       "  AIMessage(content='{\"message\": \"We don\\'t have Cheese Pizza. Would you like to order something else? Here are the available options for burgers:\", \"available_options\": [{\"food_name\": \"Cheese Burger\", \"price\": 13.95}, {\"food_name\": \"Bacon and Cheddar Burger\", \"price\": 14.95}, {\"food_name\": \"Blue cheese Burger\", \"price\": 17.2}, {\"food_name\": \"Mushroom cheddar Burger\", \"price\": 14.95}, {\"food_name\": \"Mini Burger Sampler\", \"price\": 14.95}, {\"food_name\": \"Mexi Burger\", \"price\": 13.95}, {\"food_name\": \"Whiskey BBQ Burger\", \"price\": 15}]}'),\n",
       "  HumanMessage(content='Cheese Pizza.'),\n",
       "  AIMessage(content='{\"message\": \"We don\\'t have Cheese Pizza. Would you like to order something else? Here are the available options for burgers:\", \"available_options\": [{\"food_name\": \"Cheese Burger\", \"price\": 13.95}, {\"food_name\": \"Bacon and Cheddar Burger\", \"price\": 14.95}, {\"food_name\": \"Blue cheese Burger\", \"price\": 17.2}, {\"food_name\": \"Mushroom cheddar Burger\", \"price\": 14.95}, {\"food_name\": \"Mini Burger Sampler\", \"price\": 14.95}, {\"food_name\": \"Mexi Burger\", \"price\": 13.95}, {\"food_name\": \"Whiskey BBQ Burger\", \"price\": 15}]}'),\n",
       "  HumanMessage(content='Cheese Pizza.'),\n",
       "  AIMessage(content='{\"message\": \"We don\\'t have Cheese Pizza. Would you like to order something else? Here are the available options for burgers:\", \"available_options\": [{\"food_name\": \"Cheese Burger\", \"price\": 13.95}, {\"food_name\": \"Bacon and Cheddar Burger\", \"price\": 14.95}, {\"food_name\": \"Blue cheese Burger\", \"price\": 17.2}, {\"food_name\": \"Mushroom cheddar Burger\", \"price\": 14.95}, {\"food_name\": \"Mini Burger Sampler\", \"price\": 14.95}, {\"food_name\": \"Mexi Burger\", \"price\": 13.95}, {\"food_name\": \"Whiskey BBQ Burger\", \"price\": 15}]}'),\n",
       "  HumanMessage(content='Cheese Pizza.'),\n",
       "  AIMessage(content='{\"message\": \"We don\\'t have Cheese Pizza. Would you like to order something else? Here are the available options for burgers:\", \"available_options\": [{\"food_name\": \"Cheese Burger\", \"price\": 13.95}, {\"food_name\": \"Bacon and Cheddar Burger\", \"price\": 14.95}, {\"food_name\": \"Blue cheese Burger\", \"price\": 17.2}, {\"food_name\": \"Mushroom cheddar Burger\", \"price\": 14.95}, {\"food_name\": \"Mini Burger Sampler\", \"price\": 14.95}, {\"food_name\": \"Mexi Burger\", \"price\": 13.95}, {\"food_name\": \"Whiskey BBQ Burger\", \"price\": 15}]}')],\n",
       " 'output': '{\"message\": \"We have a variety of shakes available. Here are some options:\", \"available_options\": [{\"shake_name\": \"Chocolate Shake\", \"price\": 5.95}, {\"shake_name\": \"Vanilla Shake\", \"price\": 5.95}, {\"shake_name\": \"Strawberry Shake\", \"price\": 5.95}, {\"shake_name\": \"Banana Shake\", \"price\": 5.95}, {\"shake_name\": \"Mango Shake\", \"price\": 5.95}]}'}"
      ]
     },
     "execution_count": 40,
     "metadata": {},
     "output_type": "execute_result"
    }
   ],
   "source": [
    "outp  = agent_with_chat_history.invoke({\"input\":\"Suggest me some Shakes\"},\n",
    "    config={\"configurable\": {\"session_id\": \"<foo>\"}})\n",
    "outp"
   ]
  },
  {
   "cell_type": "code",
   "execution_count": 39,
   "metadata": {},
   "outputs": [
    {
     "name": "stdout",
     "output_type": "stream",
     "text": [
      "\n",
      "\n",
      "\u001b[1m> Entering new AgentExecutor chain...\u001b[0m\n",
      "\u001b[32;1m\u001b[1;3m{\"message\": \"We don't have Cheese Pizza. Would you like to order something else? Here are the available options for burgers:\", \"available_options\": [{\"food_name\": \"Cheese Burger\", \"price\": 13.95}, {\"food_name\": \"Bacon and Cheddar Burger\", \"price\": 14.95}, {\"food_name\": \"Blue cheese Burger\", \"price\": 17.2}, {\"food_name\": \"Mushroom cheddar Burger\", \"price\": 14.95}, {\"food_name\": \"Mini Burger Sampler\", \"price\": 14.95}, {\"food_name\": \"Mexi Burger\", \"price\": 13.95}, {\"food_name\": \"Whiskey BBQ Burger\", \"price\": 15}]}\u001b[0m\n",
      "\n",
      "\u001b[1m> Finished chain.\u001b[0m\n"
     ]
    },
    {
     "data": {
      "text/plain": [
       "{'message': \"We don't have Cheese Pizza. Would you like to order something else? Here are the available options for burgers:\",\n",
       " 'available_options': [{'food_name': 'Cheese Burger', 'price': 13.95},\n",
       "  {'food_name': 'Bacon and Cheddar Burger', 'price': 14.95},\n",
       "  {'food_name': 'Blue cheese Burger', 'price': 17.2},\n",
       "  {'food_name': 'Mushroom cheddar Burger', 'price': 14.95},\n",
       "  {'food_name': 'Mini Burger Sampler', 'price': 14.95},\n",
       "  {'food_name': 'Mexi Burger', 'price': 13.95},\n",
       "  {'food_name': 'Whiskey BBQ Burger', 'price': 15}]}"
      ]
     },
     "execution_count": 39,
     "metadata": {},
     "output_type": "execute_result"
    }
   ],
   "source": [
    "output = agent_with_chat_history.invoke({\"input\":\"Cheese Pizza.\"},\n",
    "    config={\"configurable\": {\"session_id\": \"<foo>\"}})\n",
    "import json\n",
    "json.loads(output.get('output'))\n"
   ]
  },
  {
   "cell_type": "code",
   "execution_count": null,
   "metadata": {},
   "outputs": [],
   "source": []
  },
  {
   "cell_type": "code",
   "execution_count": 28,
   "metadata": {},
   "outputs": [],
   "source": []
  },
  {
   "cell_type": "code",
   "execution_count": null,
   "metadata": {},
   "outputs": [],
   "source": []
  },
  {
   "cell_type": "code",
   "execution_count": null,
   "metadata": {},
   "outputs": [
    {
     "name": "stdout",
     "output_type": "stream",
     "text": [
      "\n",
      "\n",
      "\u001b[1m> Entering new AgentExecutor chain...\u001b[0m\n",
      "\u001b[32;1m\u001b[1;3m\n",
      "Invoking: `deliveryaddress` with `delivery`\n",
      "\n",
      "\n",
      "\u001b[0m\n",
      "\n",
      "\u001b[1m> Entering new LLMChain chain...\u001b[0m\n",
      "Prompt after formatting:\n",
      "\u001b[32;1m\u001b[1;3mHuman:  You are a smart assistant waiter in a ABC restaurant.When the user says he is finished with ordering, Ask the user whether he/she wants delivery or dine-in.Your role is mentioned below:\n",
      "       Ask the user for their address if the user says delivery. The user input is given in three backticks: ```delivery```\n",
      "       If the user says dine-in tell them Thankyou and ask no further question.\n",
      "      \u001b[0m\n",
      "\n",
      "\u001b[1m> Finished chain.\u001b[0m\n",
      "address='yes'\n",
      "\u001b[36;1m\u001b[1;3maddress='yes'\u001b[0m\u001b[32;1m\u001b[1;3mPlease provide your delivery address.\u001b[0m\n",
      "\n",
      "\u001b[1m> Finished chain.\u001b[0m\n"
     ]
    },
    {
     "data": {
      "text/plain": [
       "{'input': 'delivery', 'output': 'Please provide your delivery address.'}"
      ]
     },
     "execution_count": 30,
     "metadata": {},
     "output_type": "execute_result"
    }
   ],
   "source": [
    "{\n",
    "    \"response\": \"Burger is available in the menu. Here are the available options:\",\n",
    "    \"available_options\": [\n",
    "        {\n",
    "            \"food_name\": \"Cheese Burger\",\n",
    "            \"price\": 13.95\n",
    "        },\n",
    "        {\n",
    "            \"food_name\": \"Bacon and Cheddar Burger\",\n",
    "            \"price\": 14.95\n",
    "        },\n",
    "        {\n",
    "            \"food_name\": \"Blue cheese Burger\",\n",
    "            \"price\": 17.2\n",
    "        },\n",
    "        {\n",
    "            \"food_name\": \"Mushroom cheddar Burger\",\n",
    "            \"price\": 14.95\n",
    "        },\n",
    "        {\n",
    "            \"food_name\": \"Mini Burger Sampler\",\n",
    "            \"price\": 14.95\n",
    "        },\n",
    "        {\n",
    "            \"food_name\": \"Mexi Burger\",\n",
    "            \"price\": 13.95\n",
    "        },\n",
    "        {\n",
    "            \"food_name\": \"Whiskey BBQ Burger\",\n",
    "            \"price\": 15\n",
    "        }\n",
    "    ]\n",
    "}\n",
    "\n",
    "def ask_services():\n",
    "    first_prompt1 = ChatPromptTemplate.from_template(\n",
    "       \"\"\" You are a smart assistant waiter in a ABC restaurant.When the user says he is finished with ordering, Ask the user whether he/she wants delivery or dine-in.Your role is mentioned below:\n",
    "       Ask the user for their address if the user says delivery. The user input is given in three backticks: ```{input}```\n",
    "       If the user says dine-in tell them Thankyou and ask no further question.\n",
    "      \"\"\"\n",
    "    )\n",
    "    chain = LLMChain(llm = llm, prompt=first_prompt1, verbose=True)\n",
    "    convs = chain.run(\"delivery\")\n",
    "    return convs\n",
    "\n",
    "class address(BaseModel):\n",
    "    address:str=Field(description=\"This is the address of the customers in case of delivery.\")\n",
    "\n",
    "\n",
    "def record_address(user_input):\n",
    "    user_input=input(ask_services())\n",
    "    chain=create_tagging_chain_pydantic(address,llm)\n",
    "    response=chain.run(user_input)\n",
    "    print(response)\n",
    "    return response\n",
    "\n",
    "\n",
    "delivery_tool=Tool(\n",
    "    name='deliveryaddress',\n",
    "    func=record_address,\n",
    "    description=\"A tool that asks for address if user says delivery.\"\n",
    ")\n",
    "\n",
    "\n",
    "agent = create_tool_calling_agent(llm, tools, prompt)\n",
    "\n",
    "agent_executor = AgentExecutor(\n",
    "    tools= tools, \n",
    "    agent= agent, \n",
    "    max_iterations= 5, \n",
    "    return_intermediate_steps= False, \n",
    "    verbose=True, \n",
    "    early_stopping_method ='generate')\n",
    "agent_executor.invoke({\"input\":\"delivery\"})"
   ]
  },
  {
   "cell_type": "code",
   "execution_count": null,
   "metadata": {},
   "outputs": [],
   "source": []
  },
  {
   "cell_type": "code",
   "execution_count": null,
   "metadata": {},
   "outputs": [],
   "source": []
  },
  {
   "cell_type": "code",
   "execution_count": null,
   "metadata": {},
   "outputs": [],
   "source": []
  },
  {
   "cell_type": "code",
   "execution_count": null,
   "metadata": {},
   "outputs": [],
   "source": []
  },
  {
   "cell_type": "code",
   "execution_count": null,
   "metadata": {},
   "outputs": [],
   "source": []
  },
  {
   "cell_type": "code",
   "execution_count": null,
   "metadata": {},
   "outputs": [],
   "source": []
  },
  {
   "cell_type": "code",
   "execution_count": null,
   "metadata": {},
   "outputs": [],
   "source": []
  }
 ],
 "metadata": {
  "kernelspec": {
   "display_name": "Python 3",
   "language": "python",
   "name": "python3"
  },
  "language_info": {
   "codemirror_mode": {
    "name": "ipython",
    "version": 3
   },
   "file_extension": ".py",
   "mimetype": "text/x-python",
   "name": "python",
   "nbconvert_exporter": "python",
   "pygments_lexer": "ipython3",
   "version": "3.11.0"
  }
 },
 "nbformat": 4,
 "nbformat_minor": 2
}
