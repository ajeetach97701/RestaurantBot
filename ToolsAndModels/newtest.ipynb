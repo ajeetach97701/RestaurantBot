{
 "cells": [
  {
   "cell_type": "markdown",
   "metadata": {},
   "source": [
    "## Workflow:\n",
    "1. The bot greets the user and shows him menu(For now lets not consider bot showing menu. The bot greets the user and asks for order.)\n",
    "2. User enters his query. The query can be anything:\n",
    "    - The user might enter a food name only(Burger).\n",
    "    - The user might query with full sentence for order like: I'd like to have a Pizza please.\n",
    "    - The user might query to ask for the price.\n",
    "    - The user might query to ask for recipe of a food item."
   ]
  },
  {
   "cell_type": "code",
   "execution_count": 1,
   "metadata": {},
   "outputs": [],
   "source": [
    "import os\n",
    "from dotenv import load_dotenv\n",
    "from langchain_community.vectorstores import Chroma\n",
    "from langchain_core.runnables import RunnableMap, RunnablePassthrough\n",
    "from langchain_core.output_parsers import JsonOutputParser\n",
    "from langchain_openai import ChatOpenAI\n",
    "from langchain_community.document_loaders import CSVLoader\n",
    "from langchain_community.embeddings.sentence_transformer import SentenceTransformerEmbeddings\n",
    "from langchain_core.prompts import PromptTemplate, ChatPromptTemplate\n",
    "from langchain.agents import AgentExecutor, create_tool_calling_agent, initialize_agent, AgentType\n",
    "from langchain.tools.retriever import create_retriever_tool\n",
    "from langchain_text_splitters import  RecursiveCharacterTextSplitter\n",
    "from langchain.chains import LLMChain, create_tagging_chain_pydantic\n",
    "from langchain_core.tools import Tool\n",
    "from langchain.memory import ConversationBufferMemory\n",
    "from pydantic import BaseModel, Field\n",
    "from langchain.chains.conversation.memory import ConversationBufferMemory\n",
    "from langchain.chains import ConversationChain\n",
    "load_dotenv()\n",
    "llm = ChatOpenAI(temperature = 0, model_name = 'gpt-3.5-turbo')\n"
   ]
  },
  {
   "cell_type": "code",
   "execution_count": 2,
   "metadata": {},
   "outputs": [],
   "source": [
    "loader = CSVLoader('./Datasets/menu.csv')\n",
    "docs = loader.load()\n",
    "text_splitter = RecursiveCharacterTextSplitter(chunk_size = 1000,chunk_overlap = 200)\n",
    "splits = text_splitter.split_documents(docs)\n",
    "# # embeddings = GoogleGenerativeAIEmbeddings(model = 'models/embedding-001')\n",
    "embeddings = SentenceTransformerEmbeddings(model_name=\"all-MiniLM-L6-v2\")\n",
    "from database import vector_store\n",
    "# vector_store = Chroma.from_documents(documents=splits, embedding=embeddings,collection_name='menu_data' ,persist_directory = './Chroma/')"
   ]
  },
  {
   "cell_type": "code",
   "execution_count": 3,
   "metadata": {},
   "outputs": [],
   "source": [
    "# from langchain.vectorstores.milvus import Milvus\n",
    "# load_dotenv()\n",
    "# host = os.getenv('HOST')\n",
    "# port = os.getenv('PORT')\n",
    "# # vector_store = Milvus(embeddings,connection_args={'host':host,'port':port},collection_name=\"Food_Menu\")"
   ]
  },
  {
   "cell_type": "code",
   "execution_count": 4,
   "metadata": {},
   "outputs": [
    {
     "data": {
      "text/plain": [
       "<langchain_community.vectorstores.milvus.Milvus at 0x104298c90>"
      ]
     },
     "execution_count": 4,
     "metadata": {},
     "output_type": "execute_result"
    }
   ],
   "source": [
    "vector_store"
   ]
  },
  {
   "cell_type": "markdown",
   "metadata": {},
   "source": [
    "## 1. Receipt Generator tool  - Tool number one - Calculate_receipt"
   ]
  },
  {
   "cell_type": "code",
   "execution_count": 5,
   "metadata": {},
   "outputs": [],
   "source": [
    "def calculate_receipt(user_query):\n",
    "    order_details = [\n",
    "    {\"food_name\": \"Pizza\", \"price\": 10.99},\n",
    "    {\"food_name\": \"Burger\", \"price\": 5.99},\n",
    "    {\"food_name\": \"Salad\", \"price\": 7.5},\n",
    "    {\"food_name\": \"Pasta\", \"price\": 8.75},\n",
    "    {\"food_name\": \"Steak\", \"price\": 15.99},\n",
    "    {\"food_name\": \"Sushi\", \"price\": 12.5}\n",
    "    ]\n",
    "    template = \"\"\"Given a List containing food_name and price, fetch all the price and add all the prices to return a total price. The list is given in three backticks. \n",
    "    ```{order_details}```\n",
    "    ##User query is: ``{user_query}``\n",
    "    The output should be of JSON.\"\"\"\n",
    "\n",
    "    total_price_calculator_prompt = PromptTemplate(input_variables=[\"user_query\"], template=template)\n",
    "    total_price_calculator_chain = LLMChain(llm = llm, prompt=total_price_calculator_prompt)\n",
    "    total_sum = total_price_calculator_chain.run({\"user_query\":user_query, \"order_details\": order_details})\n",
    "    print(\"receipt_tool\")\n",
    "    return total_sum\n",
    "\n",
    "\n",
    "receipt_tool = Tool(\n",
    "        name = \"ReceiptCalculator\",\n",
    "        func= calculate_receipt,\n",
    "        description = \"A tool that returns total price when the user asks for receipt or bill.\"\n",
    "    )\n",
    "\n",
    "# # memory = ConversationBufferMemory(memory_key = \"chat_history\", return_messages= True)\n",
    "\n",
    "# prompt_receipt = ChatPromptTemplate.from_messages(\n",
    "#     [\n",
    "#         (\n",
    "#             \"system\",\n",
    "#             \"You are a helpful assistant. Make sure to use the tool for providing receipt for the user.\",\n",
    "#         ),\n",
    "#         (\"placeholder\", \"{chat_history}\"),\n",
    "#         (\"human\", \"{input}\"),\n",
    "#         (\"placeholder\", \"{agent_scratchpad}\"),\n",
    "#     ]\n",
    "# )\n",
    "\n",
    "# # Construct the Tools agent\n",
    "# # agent = create_tool_calling_agent(llm, receipt_tool, prompt_receipt)\n",
    "\n",
    "# # agent_executor = AgentExecutor( tools = receipt_tool, agent= agent)\n",
    "# # agent_executor.invoke({\"input\":\"I need my receipt\"})"
   ]
  },
  {
   "cell_type": "markdown",
   "metadata": {},
   "source": [
    "## 2. Receipe Generator Tool - tool number 2 recipe"
   ]
  },
  {
   "cell_type": "code",
   "execution_count": 6,
   "metadata": {},
   "outputs": [],
   "source": [
    "# 1. Create a tool\n",
    "def recipe(user_input):\n",
    "    \n",
    "    recipe_retriever = vector_store.as_retriever(search_type = 'mmr', k= 5)\n",
    "    recipe_template = \"\"\"### Instruction ###\n",
    "        You are a good Virtual Assistant . When a user asks you about recipe/ingredients or price of a particular item you have to answer him the recipe or price of the food item based on the context and make sure\n",
    "        to provide all the details.\n",
    "        Context is given in triple back ticks: ```{context}```\n",
    "        Question is given in double back ticks:  ``{question}``\n",
    "        If the question is out of context, do not provide the wrong answer just say I am sorry i can't answer to that question.\n",
    "        ### Your Response must be in JSON FORMAT and similar to like this:\n",
    "        We have multiple options for Sandwich: \n",
    "        1.Chicken Breast Sandwich Recipe: \"Marinate chicken breasts in olive oil, lemon juice, garlic, and herbs. Grill until cooked through. Toast sandwich buns and assemble with grilled chicken, lettuce, tomato, and mayonnaise. Optionally, add toppings like avocado or bacon. Serve warm for a delicious and wholesome Chicken Breast Sandwich.\"\n",
    "    \"\"\"\n",
    "    prompt_recipe = PromptTemplate(\n",
    "        input_variables=[\"context\",\"question\"],\n",
    "        template=recipe_template\n",
    "    ) \n",
    "    recipe_chain = (\n",
    "        {\"context\":recipe_retriever, \"question\":RunnablePassthrough()}\n",
    "        | prompt_recipe\n",
    "        | llm\n",
    "        | JsonOutputParser()\n",
    "    )\n",
    "    print(\"recipe tool\")\n",
    "    return recipe_chain.invoke(user_input)\n",
    "\n",
    "recipe_tool = Tool(\n",
    "    name = \"RecipeTool\",\n",
    "    func = recipe,\n",
    "    description=\"A Tool that returns recipe of a food\"\n",
    "    \n",
    ")\n",
    "\n",
    "\n",
    "# # 2. Prompt for agent\n",
    "# prompt = ChatPromptTemplate.from_messages(\n",
    "#     [\n",
    "#     (\n",
    "#         \"system\", \n",
    "#         \"You are an assistant that returns recipe. Please use the tool for answering the questions. Return the response as specified in tool .\"\n",
    "#     ),\n",
    "#     (\"human\",\"{question}\"),\n",
    "#     (\"placeholder\",\"{agent_scratchpad}\"),\n",
    "#     (\"placeholder\",\"{tool_names}\"),\n",
    "#     (\"placeholder\",\"{tools}\"),\n",
    "#     ]\n",
    "# )\n",
    "\n",
    "# # # 3. Initialize an agent, AgentExecutor and run it \n",
    "# tools = [recipe_tool]\n",
    "\n",
    "# agent = create_tool_calling_agent(llm = llm, tools= tools, prompt= prompt)\n",
    "# agent_executor = AgentExecutor(\n",
    "#     tools= tools, \n",
    "#     agent= agent, \n",
    "#     max_iterations= 5, \n",
    "#     return_intermediate_steps= False, \n",
    "#     verbose=True, \n",
    "#     early_stopping_method ='generate')\n",
    "# ag_response = agent_executor.invoke({\"question\":\"what is the recipe and price of Cali Chicken Sandwich?\"})"
   ]
  },
  {
   "cell_type": "code",
   "execution_count": 7,
   "metadata": {},
   "outputs": [],
   "source": [
    "def chit_chat(user_query):\n",
    "    first_prompt = ChatPromptTemplate.from_template(\n",
    "       \"\"\"You are a waiter at a restaurant. You should have conversation with the user.\n",
    "        First greet the user and welcome the user to our restaurant and ask him if he would like to order something.\n",
    "        Explain you need take the food order from the user.\n",
    "        ### ask_for : ```food_name```\n",
    "        Current conversation:\n",
    "        {history}\n",
    "        Human: {input}\n",
    "        AI Assistant:\n",
    "        # \"\"\"\n",
    "    )\n",
    "    \n",
    "    # info_chain = LLMChain(llm = llm, prompt=first_prompt, verbose=True)\n",
    "    conversation_chain = ConversationChain(llm= llm, verbose = True,prompt = first_prompt, memory = ConversationBufferMemory(ai_prefix= \"AI Assistant\"))\n",
    "    ai_chat = conversation_chain.run(user_query)\n",
    "    print(\"Crete order tool\")\n",
    "    return ai_chat"
   ]
  },
  {
   "cell_type": "code",
   "execution_count": 8,
   "metadata": {},
   "outputs": [],
   "source": [
    "# chit_chat(\"Hello\")"
   ]
  },
  {
   "cell_type": "code",
   "execution_count": 9,
   "metadata": {},
   "outputs": [],
   "source": [
    "# class OrderFetch(BaseModel):\n",
    "#     food_name: str = Field(\n",
    "#         description=\"This is the food that user will order.\",\n",
    "#     )\n",
    "\n",
    "\n",
    "# def food_chain_tool(user_query):    \n",
    "#     food_chain = create_tagging_chain_pydantic(OrderFetch,llm)\n",
    "#     output =food_chain.run(user_query)\n",
    "#     return output.food_name\n",
    "\n",
    "\n",
    "# food_tool = Tool( \n",
    "#     func=food_chain_tool,\n",
    "#     name=\"foodOrderTool\",\n",
    "#     description=\"You are an assistant that creates an order. Please use the tool for performing action. Do not look up for answer elsewhere only use the tool to look for answer.\"\n",
    "# )\n",
    "\n"
   ]
  },
  {
   "cell_type": "code",
   "execution_count": 10,
   "metadata": {},
   "outputs": [],
   "source": [
    "# def record_response(user_query):\n",
    "#     user_input = input(create_order(user_query))\n",
    "#     chain = create_tagging_chain_pydantic(OrderFetch,llm)\n",
    "#     user_response = chain.run(user_input)\n",
    "#     return user_response\n",
    "    "
   ]
  },
  {
   "cell_type": "code",
   "execution_count": 11,
   "metadata": {},
   "outputs": [],
   "source": [
    "\n",
    "# template = \"\"\"You are a virtual Restaurant Waiter. Your task is to check if the given food_name is present in the context or not. \n",
    "# If the food is available in the context and has multiple foods for it, show the user with all the available food names with its price.\n",
    "# The output should be of JSON FORMAT without any backticks which is given in four backticks return only :\n",
    "# If not tell them that the option is not available and ask them if they would like to order something else?\n",
    "# Context is given in three backticks: ```{context}```\n",
    "# User provided food name is given in double backticks: ``{input}``\n",
    "# \"\"\"\n",
    "# food_verify_tool = create_retriever_tool(\n",
    "#     vector_store.as_retriever(search_typ'similarity'),\n",
    "#     name = \"OrderCreationTool\",\n",
    "#     description=template\n",
    "# )\n",
    "# food_order_prompt = ChatPromptTemplate.from_messages(\n",
    "#     [\n",
    "#     (\n",
    "#         \"assistant\", \n",
    "#         \"You are an restaurant waiter that verifies food name. Please use the tool for answering the questions.Do not look up for answer elsewhere only use the tool to look for answer .\"\n",
    "#     ),\n",
    "#     (\"human\",\"{input}\"),\n",
    "#     (\"placeholder\",\"{agent_scratchpad}\"),\n",
    "#     (\"placeholder\",\"{tool_names}\"),\n",
    "#     (\"placeholder\",\"{tools}\"),\n",
    "#     ]\n",
    "# )"
   ]
  },
  {
   "cell_type": "markdown",
   "metadata": {},
   "source": [
    "## Tool number 3 - Food verify"
   ]
  },
  {
   "cell_type": "code",
   "execution_count": 12,
   "metadata": {},
   "outputs": [],
   "source": [
    "# food_name_retriever = vector_store.as_retriever(search_type= 'mmr', kwargs=6)\n",
    "# food_name_retriever.invoke('Burger')"
   ]
  },
  {
   "cell_type": "code",
   "execution_count": 13,
   "metadata": {},
   "outputs": [],
   "source": [
    "food_name_retriever = vector_store.as_retriever(search_type= 'mmr', kwargs=6)\n",
    "# food_name_retriever = vector_store.similarity_search(user_input)\n",
    "food_template = \"\"\"You are a virtual Restaurant Waiter. Your task is to check if the given food_name is present in the context or not. \n",
    "If the food is available in the context and has multiple foods for it, show the user with all the available food names with its price.\n",
    "The output should be of JSON FORMAT without any backticks which is given in four backticks return only :\n",
    "If not tell them that the option is not available and ask them if they would like to order something else?\n",
    "Context is given in three backticks: ```{context}```\n",
    "User provided food name is given in double backticks: ``{input}``\n",
    "\"\"\"\n",
    "prompt_recipe = PromptTemplate(\n",
    "    input_variables=[\"context\",\"input\"],\n",
    "    template=food_template\n",
    ")\n",
    "chain = RunnableMap({\n",
    "    \"context\": lambda x: vector_store.similarity_search(x['input'], k=8),\n",
    "    \"input\": lambda x: x['input']\n",
    "}) | prompt_recipe | llm | JsonOutputParser()\n",
    "\n",
    "# chain.invoke({\"input\":\"I want to order a burger\"})"
   ]
  },
  {
   "cell_type": "code",
   "execution_count": 14,
   "metadata": {},
   "outputs": [],
   "source": [
    "# chain.invoke({\"input\":\"I want to order a Momo\"})"
   ]
  },
  {
   "cell_type": "code",
   "execution_count": 15,
   "metadata": {},
   "outputs": [],
   "source": [
    "# food_verify_tool = create_retriever_tool(\n",
    "#     vector_store.as_retriever(search_type = 'similarity'),\n",
    "#     name = \"OrderCreationTool\",\n",
    "#     description=template\n",
    "# )\n",
    "\n",
    "\n",
    "def food_verify(user_input):\n",
    "    print(user_input)\n",
    "    # food_name_retriever = vector_store.as_retriever(search_type= 'mmr', kwargs=6)\n",
    "    # food_name_retriever = vector_store.similarity_search(user_input)\n",
    "    food_template = \"\"\"You are a virtual Restaurant Waiter. Your task is to check if the given food_name is present in the context or not. \n",
    "    If the food is available in the context and has multiple foods for it, show the user with all the available food names with its price.\n",
    "    The output should be of JSON FORMAT without any backticks which is given in four backticks return only :\n",
    "    If not tell them that the option is not available and ask them if they would like to order something else?\n",
    "    Context is given in three backticks: ```{context}```\n",
    "    User provided food name is given in double backticks: ``{input}``\n",
    "    \"\"\"\n",
    "    prompt_recipe = PromptTemplate(\n",
    "        input_variables=[\"context\",\"input\"],\n",
    "        template=food_template\n",
    "    )\n",
    "    chain = RunnableMap({\n",
    "        \"context\": lambda x: vector_store.similarity_search(x['input'], k=8),\n",
    "        \"input\": lambda x: x['input']\n",
    "    }) | prompt_recipe | llm | JsonOutputParser()\n",
    "\n",
    "    return chain.invoke({\"input\":\"I want to order a burger\"})\n",
    "# food_chain\n",
    "\n",
    "food_tool = Tool(\n",
    "    name = \"FoodverifyTool\",\n",
    "    func = food_verify,\n",
    "    description=\"A tool that checks for food availability in the context\"\n",
    "    \n",
    ")\n",
    "\n",
    "\n",
    "\n",
    "# food_prompt = ChatPromptTemplate.from_messages(\n",
    "#     [\n",
    "#     (\n",
    "#         \"assistant\", \n",
    "#         \"You are an restaurant waiter that returns food from the context. Please use the tool for answering the questions.Do not look up for answer elsewhere only use the tool to look for answer .\"\n",
    "#     ),\n",
    "#     (\"human\",\"{input}\"),\n",
    "#     (\"placeholder\",\"{agent_scratchpad}\"),\n",
    "#     (\"placeholder\",\"{tool_names}\"),\n",
    "#     (\"placeholder\",\"{tools}\"),\n",
    "#     ]\n",
    "# )\n",
    "\n",
    "\n",
    "# agent = create_tool_calling_agent(llm = llm, tools= [food_tool], prompt= food_prompt)\n",
    "# agent_executor = AgentExecutor(\n",
    "#     tools= [food_tool], \n",
    "#     agent= agent, \n",
    "#     max_iterations= 5, \n",
    "#     return_intermediate_steps= False, \n",
    "#     verbose=True, \n",
    "#     early_stopping_method ='generate')\n",
    "# ag=agent_executor.invoke({\"input\":\"I want to have a Burger\"})\n",
    "# ag"
   ]
  },
  {
   "cell_type": "code",
   "execution_count": 16,
   "metadata": {},
   "outputs": [],
   "source": [
    "# food_verify('Burger')"
   ]
  },
  {
   "cell_type": "code",
   "execution_count": 17,
   "metadata": {},
   "outputs": [],
   "source": [
    "# template = \"\"\"You are a waiter at a restaurant. Below is are some things to ask the user for in a coversation way. \n",
    "#         you should only ask one question at a time even if you don't get all the info \n",
    "#         don't ask as a list! First greet the user and welcome the user to our restaurant in a friendly way!\n",
    "#         Explain you need take the food order from the user.\n",
    "#         ask_for list: \n",
    "#         Current conversation:\n",
    "#         {history}\n",
    "#         Human: {input}\n",
    "#         AI Assistant:\n",
    "#         \"\"\"\n",
    "        \n",
    "# prompt = PromptTemplate(input_variables=[\"ask_for\",\"history\", \"input\"], template=template)\n",
    "# conversation = ConversationChain(llm= llm, verbose = True,prompt = prompt, memory = ConversationBufferMemory(ai_prefix= \"AI Assistant\"))"
   ]
  },
  {
   "cell_type": "code",
   "execution_count": 26,
   "metadata": {},
   "outputs": [
    {
     "name": "stdout",
     "output_type": "stream",
     "text": [
      "address='delivery address'\n"
     ]
    },
    {
     "data": {
      "text/plain": [
       "{'input': 'I have finished ordering and i want delivery.',\n",
       " 'chat_history': [],\n",
       " 'output': 'What is your delivery address?'}"
      ]
     },
     "execution_count": 26,
     "metadata": {},
     "output_type": "execute_result"
    }
   ],
   "source": [
    "from langchain_core.prompts import ChatPromptTemplate\n",
    "from langchain.agents import AgentExecutor, create_tool_calling_agent\n",
    "from langchain.chains import LLMChain, create_tagging_chain_pydantic\n",
    "from langchain_core.tools import Tool\n",
    "from langchain_core.prompts import PromptTemplate, ChatPromptTemplate\n",
    "from langchain_core.runnables.history import RunnableWithMessageHistory\n",
    "from pydantic import BaseModel, Field\n",
    "from langchain.memory import ChatMessageHistory\n",
    "memory = ChatMessageHistory(session_id=\"test-session\")\n",
    "from langchain.chains import ConversationChain\n",
    "\n",
    "from llm.model import llm\n",
    "from langchain_core.output_parsers import JsonOutputParser, StrOutputParser, PydanticOutputParser\n",
    "\n",
    "\n",
    "class address(BaseModel):\n",
    "    address:str=Field(description=\"This is the address of the customers in case of delivery.\")\n",
    "                                                                                              \n",
    "parser = PydanticOutputParser(pydantic_object=address)\n",
    "\n",
    "# address_chain=create_tagging_chain_pydantic(address,llm)\n",
    "\n",
    "# def ask_user():\n",
    "#     ask_for=['service']\n",
    "#     first_prompt = ChatPromptTemplate.from_template(\n",
    "#         f'''You are a smart waiter at a restaurant. First  you should ask the user in conversational ways whether the user's order is delivery or dine-in.\n",
    "#         Don not ask addtional information just ask whether the order is delivery or dine-in.\n",
    "#         # Example:\"Would you like to have a dine-in or delivery?\"\n",
    "#         # ask_for:{ask_for}\n",
    "#         '''\n",
    "#     )   \n",
    "#     chain = LLMChain(llm=llm, prompt=first_prompt, verbose=False)\n",
    "#     conv = chain.run(ask_for=ask_for) \n",
    "#     return conv\n",
    "\n",
    "def ask_services():\n",
    "    # service_type=input(ask_user())\n",
    "    # partial_variables={\"format_instructions\": parser.get_format_instructions()\n",
    "    \n",
    "    \n",
    "    first_prompt1 = PromptTemplate(\n",
    "        template= \"\"\" You are a smart assistant waiter in a ABC restaurant. When the user says he wants delivery, Ask him what his delivery address is.\n",
    "       Provide staright forward answer related to the user query given in three backticks do not ask any unwanted additional information.\n",
    "       ```{input}``` \n",
    "      \"\"\",\n",
    "        input_variables=[\"input\"],\n",
    "        partial_variables={\"format_instructions\": parser.get_format_instructions()},\n",
    "    )\n",
    "    \n",
    "    chain = LLMChain(llm = llm, prompt=first_prompt1, verbose=False)\n",
    "    convs = chain.run()\n",
    "    return convs\n",
    "\n",
    "\n",
    "def record_address(user_input):\n",
    "    # user_input = input(ask_services())\n",
    "    chain=create_tagging_chain_pydantic(address,llm)\n",
    "    response=chain.run(user_input)\n",
    "    print(response)\n",
    "    return response\n",
    "\n",
    "address_tool=Tool(\n",
    "    name='deliveryaddress',\n",
    "    func=record_address,\n",
    "    description= \" You are a smart assistant waiter in a ABC restaurant. When the user says he wants delivery, Ask him what his delivery address is.\\\n",
    "       Provide staright forward answer given do not ask any unwanted additional information.\\ \"\n",
    ")\n",
    "\n",
    "\n",
    "address_prompt = ChatPromptTemplate.from_messages(\n",
    "     [\n",
    "    (\n",
    "        \"system\", \n",
    "        \"You are a smart assistant waiter in a ABC restaurant. Use the tool to answer the user query related to delivery\"\n",
    "       \n",
    "    ),\n",
    "    (\"human\",\"{input}\"),\n",
    "    (\"placeholder\",\"{agent_scratchpad}\"),\n",
    "    (\"placeholder\",\"{tool_names}\"),\n",
    "    (\"placeholder\",\"{tools}\"),\n",
    "    ]\n",
    ")\n",
    "\n",
    "memory = ChatMessageHistory(session_id=\"test-session\")\n",
    "tools = [address_tool]\n",
    "agent = create_tool_calling_agent(llm, tools, address_prompt)\n",
    "\n",
    "agent_executor = AgentExecutor( tools = tools, agent= agent,return_immediate_steps = False)\n",
    "agent_with_chat_history = RunnableWithMessageHistory(\n",
    "    agent_executor,\n",
    "    # This is needed because in most real world scenarios, a session id is needed\n",
    "    # It isn't really used here because we are using a simple in memory ChatMessageHistory\n",
    "    lambda session_id: memory,\n",
    "    input_messages_key=\"input\",\n",
    "    history_messages_key=\"chat_history\",\n",
    ")\n",
    "# agent_ou = agent_executor.invoke({\"input\":\"I want delivery.\"})\n",
    "\n",
    "agent_output = agent_with_chat_history.invoke({\"input\":\"I have finished ordering and i want delivery.\"},\n",
    "    config={\"configurable\": {\"session_id\": \"<foo>\"}},\n",
    "                               )\n",
    "agent_output"
   ]
  },
  {
   "cell_type": "code",
   "execution_count": 27,
   "metadata": {},
   "outputs": [
    {
     "name": "stdout",
     "output_type": "stream",
     "text": [
      "address='Kapan'\n"
     ]
    }
   ],
   "source": [
    "agent_output = agent_with_chat_history.invoke({\"input\":\"Please delivery it to Kapan.\"},\n",
    "    config={\"configurable\": {\"session_id\": \"<foo>\"}})"
   ]
  },
  {
   "cell_type": "code",
   "execution_count": 20,
   "metadata": {},
   "outputs": [],
   "source": [
    "chit_chat_tool = Tool(\n",
    "        name = \"ChitChatTool\",\n",
    "        func= chit_chat,\n",
    "        description = \"A tool that does conversation with the user, greets the user and has conversation with the user.\"\n",
    "    )\n",
    "\n",
    "tools = [\n",
    "    receipt_tool,\n",
    "    recipe_tool,\n",
    "    food_tool,\n",
    "    address_tool,\n",
    "]\n",
    "\n",
    "prompt = ChatPromptTemplate.from_messages(\n",
    "    [\n",
    "        (\n",
    "            \"system\",\n",
    "            \"You are a waiter at a restaurant. You should have conversation with the user.\\\n",
    "            First greet the user and welcome the user to our restaurant and ask him if he would like to order something.\\\n",
    "            Look up for tools to answer the user query do not make up your own answers. Only use tools to answer the user query \\\n",
    "            Always return the response in JSON format as output with double quotation(\\\") but not single quotation(\\') with no \\n in the outputs\",\n",
    "        ),\n",
    "        (\"placeholder\", \"{chat_history}\"),\n",
    "        (\"human\", \"{input}\"),\n",
    "        (\"placeholder\", \"{agent_scratchpad}\"),\n",
    "    ]\n",
    ")\n",
    "\n",
    "# # Construct the Tools agent\n",
    "agent = create_tool_calling_agent(llm, tools, prompt)\n",
    "\n",
    "agent_executor = AgentExecutor(\n",
    "    tools= tools, \n",
    "    agent= agent, \n",
    "    max_iterations= 5, \n",
    "    return_intermediate_steps= False, \n",
    "    verbose=True, \n",
    "    early_stopping_method ='generate')\n",
    "\n",
    "from langchain.memory import ChatMessageHistory\n",
    "memory = ChatMessageHistory(session_id=\"test-session\")\n",
    "from langchain_core.runnables.history import RunnableWithMessageHistory\n",
    "\n",
    "agent_with_chat_history = RunnableWithMessageHistory(\n",
    "    agent_executor,\n",
    "    # This is needed because in most real world scenarios, a session id is needed\n",
    "    # It isn't really used here because we are using a simple in memory ChatMessageHistory\n",
    "    lambda session_id: memory,\n",
    "    input_messages_key=\"input\",\n",
    "    history_messages_key=\"chat_history\",\n",
    ")\n",
    "# output = agent_executor.invoke({\"input\":\"I want to have a Burger\"})\n",
    "\n",
    "# agent_with_chat_history.invoke({\"input\":\"I want to order a Burger\"},\n",
    "#     config={\"configurable\": {\"session_id\": \"<foo>\"}},\n",
    "#                                )"
   ]
  },
  {
   "cell_type": "code",
   "execution_count": 21,
   "metadata": {},
   "outputs": [
    {
     "name": "stdout",
     "output_type": "stream",
     "text": [
      "\n",
      "\n",
      "\u001b[1m> Entering new AgentExecutor chain...\u001b[0m\n",
      "\u001b[32;1m\u001b[1;3m{\"tool_uses\":{\"tool_1\":{\"recipient_name\":\"functions.FoodverifyTool\",\"parameters\":{\"__arg1\":\"Burger\"}}}}\n",
      "Welcome to our restaurant! I see you would like to order a Burger. Let me check if we have that available on our menu.\u001b[0m\n",
      "\n",
      "\u001b[1m> Finished chain.\u001b[0m\n",
      "<class 'dict'>\n"
     ]
    },
    {
     "data": {
      "text/plain": [
       "{'input': 'I want to order a Burger',\n",
       " 'chat_history': [],\n",
       " 'output': '{\"tool_uses\":{\"tool_1\":{\"recipient_name\":\"functions.FoodverifyTool\",\"parameters\":{\"__arg1\":\"Burger\"}}}}\\nWelcome to our restaurant! I see you would like to order a Burger. Let me check if we have that available on our menu.'}"
      ]
     },
     "execution_count": 21,
     "metadata": {},
     "output_type": "execute_result"
    }
   ],
   "source": [
    "\n",
    "output = agent_with_chat_history.invoke({\"input\":\"I want to order a Burger\"},\n",
    "    config={\"configurable\": {\"session_id\": \"<foo>\"}},\n",
    "                               )\n",
    "print(type(output))\n",
    "output"
   ]
  },
  {
   "cell_type": "code",
   "execution_count": 22,
   "metadata": {},
   "outputs": [],
   "source": [
    "# 'output': '{\"message\": \"Which type of burger would you like to order? Here are the available options:\", \"available_options\": [{\"food_name\": \"Cheese Burger\", \"price\": 13.95}, {\"food_name\": \"Bacon and Cheddar Burger\", \"price\": 14.95}, {\"food_name\": \"Blue cheese Burger\", \"price\": 17.2}, {\"food_name\": \"Mushroom cheddar Burger\", \"price\": 14.95}, {\"food_name\": \"Mini Burger Sampler\", \"price\": 14.95}, {\"food_name\": \"Mexi Burger\", \"price\": 13.95}, {\"food_name\": \"Whiskey BBQ Burger\", \"price\": 15}]}\\n{\"message\": \"Welcome to our restaurant! Would you like to order something?\"}'}"
   ]
  },
  {
   "cell_type": "code",
   "execution_count": 23,
   "metadata": {},
   "outputs": [
    {
     "name": "stdout",
     "output_type": "stream",
     "text": [
      "\n",
      "\n",
      "\u001b[1m> Entering new AgentExecutor chain...\u001b[0m\n",
      "\u001b[32;1m\u001b[1;3m\n",
      "Invoking: `FoodverifyTool` with `Burger`\n",
      "responded: {\"tool_uses\":{\"tool_1\":{\"recipient_name\":\"functions.FoodverifyTool\",\"parameters\":{\"__arg1\":\"Burger\"}},\"tool_2\":{\"recipient_name\":\"functions.FoodverifyTool\",\"parameters\":{\"__arg1\":\"Momo\"}}}}\n",
      "Welcome to our restaurant! I see you would like to order a Burger and Momo. Let me check if we have both items available on our menu.\n",
      "\n",
      "\u001b[0mBurger\n",
      "\u001b[38;5;200m\u001b[1;3m{'response': 'Which type of burger would you like to order? Here are the available options:', 'available_options': [{'food_name': 'Cheese Burger', 'price': 13.95}, {'food_name': 'Bacon and Cheddar Burger', 'price': 14.95}, {'food_name': 'Blue cheese Burger', 'price': 17.2}, {'food_name': 'Mushroom cheddar Burger', 'price': 14.95}, {'food_name': 'Mini Burger Sampler', 'price': 14.95}, {'food_name': 'Mexi Burger', 'price': 13.95}, {'food_name': 'Whiskey BBQ Burger', 'price': 15}]}\u001b[0m\u001b[32;1m\u001b[1;3m\n",
      "Invoking: `FoodverifyTool` with `Momo`\n",
      "\n",
      "\n",
      "\u001b[0mMomo\n",
      "\u001b[38;5;200m\u001b[1;3m{'response': 'Which type of burger would you like to order? Here are the available options: Cheese Burger - $13.95, Bacon and Cheddar Burger - $14.95, Blue cheese Burger - $17.2, Mushroom cheddar Burger - $14.95, Mini Burger Sampler - $14.95, Mexi Burger - $13.95, Whiskey BBQ Burger - $15'}\u001b[0m"
     ]
    },
    {
     "ename": "KeyboardInterrupt",
     "evalue": "",
     "output_type": "error",
     "traceback": [
      "\u001b[0;31m---------------------------------------------------------------------------\u001b[0m",
      "\u001b[0;31mKeyboardInterrupt\u001b[0m                         Traceback (most recent call last)",
      "Cell \u001b[0;32mIn[23], line 1\u001b[0m\n\u001b[0;32m----> 1\u001b[0m \u001b[43magent_with_chat_history\u001b[49m\u001b[38;5;241;43m.\u001b[39;49m\u001b[43minvoke\u001b[49m\u001b[43m(\u001b[49m\u001b[43m{\u001b[49m\u001b[38;5;124;43m\"\u001b[39;49m\u001b[38;5;124;43minput\u001b[39;49m\u001b[38;5;124;43m\"\u001b[39;49m\u001b[43m:\u001b[49m\u001b[38;5;124;43m\"\u001b[39;49m\u001b[38;5;124;43m I want to order burger and  Momo\u001b[39;49m\u001b[38;5;124;43m\"\u001b[39;49m\u001b[43m}\u001b[49m\u001b[43m,\u001b[49m\n\u001b[1;32m      2\u001b[0m \u001b[43m    \u001b[49m\u001b[43mconfig\u001b[49m\u001b[38;5;241;43m=\u001b[39;49m\u001b[43m{\u001b[49m\u001b[38;5;124;43m\"\u001b[39;49m\u001b[38;5;124;43mconfigurable\u001b[39;49m\u001b[38;5;124;43m\"\u001b[39;49m\u001b[43m:\u001b[49m\u001b[43m \u001b[49m\u001b[43m{\u001b[49m\u001b[38;5;124;43m\"\u001b[39;49m\u001b[38;5;124;43msession_id\u001b[39;49m\u001b[38;5;124;43m\"\u001b[39;49m\u001b[43m:\u001b[49m\u001b[43m \u001b[49m\u001b[38;5;124;43m\"\u001b[39;49m\u001b[38;5;124;43m<foo>\u001b[39;49m\u001b[38;5;124;43m\"\u001b[39;49m\u001b[43m}\u001b[49m\u001b[43m}\u001b[49m\u001b[43m)\u001b[49m\n",
      "File \u001b[0;32m/Volumes/Ajeet/RestaurantBot/RestEnv/lib/python3.11/site-packages/langchain_core/runnables/base.py:4525\u001b[0m, in \u001b[0;36mRunnableBindingBase.invoke\u001b[0;34m(self, input, config, **kwargs)\u001b[0m\n\u001b[1;32m   4519\u001b[0m \u001b[38;5;28;01mdef\u001b[39;00m \u001b[38;5;21minvoke\u001b[39m(\n\u001b[1;32m   4520\u001b[0m     \u001b[38;5;28mself\u001b[39m,\n\u001b[1;32m   4521\u001b[0m     \u001b[38;5;28minput\u001b[39m: Input,\n\u001b[1;32m   4522\u001b[0m     config: Optional[RunnableConfig] \u001b[38;5;241m=\u001b[39m \u001b[38;5;28;01mNone\u001b[39;00m,\n\u001b[1;32m   4523\u001b[0m     \u001b[38;5;241m*\u001b[39m\u001b[38;5;241m*\u001b[39mkwargs: Optional[Any],\n\u001b[1;32m   4524\u001b[0m ) \u001b[38;5;241m-\u001b[39m\u001b[38;5;241m>\u001b[39m Output:\n\u001b[0;32m-> 4525\u001b[0m     \u001b[38;5;28;01mreturn\u001b[39;00m \u001b[38;5;28;43mself\u001b[39;49m\u001b[38;5;241;43m.\u001b[39;49m\u001b[43mbound\u001b[49m\u001b[38;5;241;43m.\u001b[39;49m\u001b[43minvoke\u001b[49m\u001b[43m(\u001b[49m\n\u001b[1;32m   4526\u001b[0m \u001b[43m        \u001b[49m\u001b[38;5;28;43minput\u001b[39;49m\u001b[43m,\u001b[49m\n\u001b[1;32m   4527\u001b[0m \u001b[43m        \u001b[49m\u001b[38;5;28;43mself\u001b[39;49m\u001b[38;5;241;43m.\u001b[39;49m\u001b[43m_merge_configs\u001b[49m\u001b[43m(\u001b[49m\u001b[43mconfig\u001b[49m\u001b[43m)\u001b[49m\u001b[43m,\u001b[49m\n\u001b[1;32m   4528\u001b[0m \u001b[43m        \u001b[49m\u001b[38;5;241;43m*\u001b[39;49m\u001b[38;5;241;43m*\u001b[39;49m\u001b[43m{\u001b[49m\u001b[38;5;241;43m*\u001b[39;49m\u001b[38;5;241;43m*\u001b[39;49m\u001b[38;5;28;43mself\u001b[39;49m\u001b[38;5;241;43m.\u001b[39;49m\u001b[43mkwargs\u001b[49m\u001b[43m,\u001b[49m\u001b[43m \u001b[49m\u001b[38;5;241;43m*\u001b[39;49m\u001b[38;5;241;43m*\u001b[39;49m\u001b[43mkwargs\u001b[49m\u001b[43m}\u001b[49m\u001b[43m,\u001b[49m\n\u001b[1;32m   4529\u001b[0m \u001b[43m    \u001b[49m\u001b[43m)\u001b[49m\n",
      "File \u001b[0;32m/Volumes/Ajeet/RestaurantBot/RestEnv/lib/python3.11/site-packages/langchain_core/runnables/base.py:4525\u001b[0m, in \u001b[0;36mRunnableBindingBase.invoke\u001b[0;34m(self, input, config, **kwargs)\u001b[0m\n\u001b[1;32m   4519\u001b[0m \u001b[38;5;28;01mdef\u001b[39;00m \u001b[38;5;21minvoke\u001b[39m(\n\u001b[1;32m   4520\u001b[0m     \u001b[38;5;28mself\u001b[39m,\n\u001b[1;32m   4521\u001b[0m     \u001b[38;5;28minput\u001b[39m: Input,\n\u001b[1;32m   4522\u001b[0m     config: Optional[RunnableConfig] \u001b[38;5;241m=\u001b[39m \u001b[38;5;28;01mNone\u001b[39;00m,\n\u001b[1;32m   4523\u001b[0m     \u001b[38;5;241m*\u001b[39m\u001b[38;5;241m*\u001b[39mkwargs: Optional[Any],\n\u001b[1;32m   4524\u001b[0m ) \u001b[38;5;241m-\u001b[39m\u001b[38;5;241m>\u001b[39m Output:\n\u001b[0;32m-> 4525\u001b[0m     \u001b[38;5;28;01mreturn\u001b[39;00m \u001b[38;5;28;43mself\u001b[39;49m\u001b[38;5;241;43m.\u001b[39;49m\u001b[43mbound\u001b[49m\u001b[38;5;241;43m.\u001b[39;49m\u001b[43minvoke\u001b[49m\u001b[43m(\u001b[49m\n\u001b[1;32m   4526\u001b[0m \u001b[43m        \u001b[49m\u001b[38;5;28;43minput\u001b[39;49m\u001b[43m,\u001b[49m\n\u001b[1;32m   4527\u001b[0m \u001b[43m        \u001b[49m\u001b[38;5;28;43mself\u001b[39;49m\u001b[38;5;241;43m.\u001b[39;49m\u001b[43m_merge_configs\u001b[49m\u001b[43m(\u001b[49m\u001b[43mconfig\u001b[49m\u001b[43m)\u001b[49m\u001b[43m,\u001b[49m\n\u001b[1;32m   4528\u001b[0m \u001b[43m        \u001b[49m\u001b[38;5;241;43m*\u001b[39;49m\u001b[38;5;241;43m*\u001b[39;49m\u001b[43m{\u001b[49m\u001b[38;5;241;43m*\u001b[39;49m\u001b[38;5;241;43m*\u001b[39;49m\u001b[38;5;28;43mself\u001b[39;49m\u001b[38;5;241;43m.\u001b[39;49m\u001b[43mkwargs\u001b[49m\u001b[43m,\u001b[49m\u001b[43m \u001b[49m\u001b[38;5;241;43m*\u001b[39;49m\u001b[38;5;241;43m*\u001b[39;49m\u001b[43mkwargs\u001b[49m\u001b[43m}\u001b[49m\u001b[43m,\u001b[49m\n\u001b[1;32m   4529\u001b[0m \u001b[43m    \u001b[49m\u001b[43m)\u001b[49m\n",
      "File \u001b[0;32m/Volumes/Ajeet/RestaurantBot/RestEnv/lib/python3.11/site-packages/langchain_core/runnables/base.py:2499\u001b[0m, in \u001b[0;36mRunnableSequence.invoke\u001b[0;34m(self, input, config)\u001b[0m\n\u001b[1;32m   2497\u001b[0m \u001b[38;5;28;01mtry\u001b[39;00m:\n\u001b[1;32m   2498\u001b[0m     \u001b[38;5;28;01mfor\u001b[39;00m i, step \u001b[38;5;129;01min\u001b[39;00m \u001b[38;5;28menumerate\u001b[39m(\u001b[38;5;28mself\u001b[39m\u001b[38;5;241m.\u001b[39msteps):\n\u001b[0;32m-> 2499\u001b[0m         \u001b[38;5;28minput\u001b[39m \u001b[38;5;241m=\u001b[39m \u001b[43mstep\u001b[49m\u001b[38;5;241;43m.\u001b[39;49m\u001b[43minvoke\u001b[49m\u001b[43m(\u001b[49m\n\u001b[1;32m   2500\u001b[0m \u001b[43m            \u001b[49m\u001b[38;5;28;43minput\u001b[39;49m\u001b[43m,\u001b[49m\n\u001b[1;32m   2501\u001b[0m \u001b[43m            \u001b[49m\u001b[38;5;66;43;03m# mark each step as a child run\u001b[39;49;00m\n\u001b[1;32m   2502\u001b[0m \u001b[43m            \u001b[49m\u001b[43mpatch_config\u001b[49m\u001b[43m(\u001b[49m\n\u001b[1;32m   2503\u001b[0m \u001b[43m                \u001b[49m\u001b[43mconfig\u001b[49m\u001b[43m,\u001b[49m\u001b[43m \u001b[49m\u001b[43mcallbacks\u001b[49m\u001b[38;5;241;43m=\u001b[39;49m\u001b[43mrun_manager\u001b[49m\u001b[38;5;241;43m.\u001b[39;49m\u001b[43mget_child\u001b[49m\u001b[43m(\u001b[49m\u001b[38;5;124;43mf\u001b[39;49m\u001b[38;5;124;43m\"\u001b[39;49m\u001b[38;5;124;43mseq:step:\u001b[39;49m\u001b[38;5;132;43;01m{\u001b[39;49;00m\u001b[43mi\u001b[49m\u001b[38;5;241;43m+\u001b[39;49m\u001b[38;5;241;43m1\u001b[39;49m\u001b[38;5;132;43;01m}\u001b[39;49;00m\u001b[38;5;124;43m\"\u001b[39;49m\u001b[43m)\u001b[49m\n\u001b[1;32m   2504\u001b[0m \u001b[43m            \u001b[49m\u001b[43m)\u001b[49m\u001b[43m,\u001b[49m\n\u001b[1;32m   2505\u001b[0m \u001b[43m        \u001b[49m\u001b[43m)\u001b[49m\n\u001b[1;32m   2506\u001b[0m \u001b[38;5;66;03m# finish the root run\u001b[39;00m\n\u001b[1;32m   2507\u001b[0m \u001b[38;5;28;01mexcept\u001b[39;00m \u001b[38;5;167;01mBaseException\u001b[39;00m \u001b[38;5;28;01mas\u001b[39;00m e:\n",
      "File \u001b[0;32m/Volumes/Ajeet/RestaurantBot/RestEnv/lib/python3.11/site-packages/langchain_core/runnables/base.py:4525\u001b[0m, in \u001b[0;36mRunnableBindingBase.invoke\u001b[0;34m(self, input, config, **kwargs)\u001b[0m\n\u001b[1;32m   4519\u001b[0m \u001b[38;5;28;01mdef\u001b[39;00m \u001b[38;5;21minvoke\u001b[39m(\n\u001b[1;32m   4520\u001b[0m     \u001b[38;5;28mself\u001b[39m,\n\u001b[1;32m   4521\u001b[0m     \u001b[38;5;28minput\u001b[39m: Input,\n\u001b[1;32m   4522\u001b[0m     config: Optional[RunnableConfig] \u001b[38;5;241m=\u001b[39m \u001b[38;5;28;01mNone\u001b[39;00m,\n\u001b[1;32m   4523\u001b[0m     \u001b[38;5;241m*\u001b[39m\u001b[38;5;241m*\u001b[39mkwargs: Optional[Any],\n\u001b[1;32m   4524\u001b[0m ) \u001b[38;5;241m-\u001b[39m\u001b[38;5;241m>\u001b[39m Output:\n\u001b[0;32m-> 4525\u001b[0m     \u001b[38;5;28;01mreturn\u001b[39;00m \u001b[38;5;28;43mself\u001b[39;49m\u001b[38;5;241;43m.\u001b[39;49m\u001b[43mbound\u001b[49m\u001b[38;5;241;43m.\u001b[39;49m\u001b[43minvoke\u001b[49m\u001b[43m(\u001b[49m\n\u001b[1;32m   4526\u001b[0m \u001b[43m        \u001b[49m\u001b[38;5;28;43minput\u001b[39;49m\u001b[43m,\u001b[49m\n\u001b[1;32m   4527\u001b[0m \u001b[43m        \u001b[49m\u001b[38;5;28;43mself\u001b[39;49m\u001b[38;5;241;43m.\u001b[39;49m\u001b[43m_merge_configs\u001b[49m\u001b[43m(\u001b[49m\u001b[43mconfig\u001b[49m\u001b[43m)\u001b[49m\u001b[43m,\u001b[49m\n\u001b[1;32m   4528\u001b[0m \u001b[43m        \u001b[49m\u001b[38;5;241;43m*\u001b[39;49m\u001b[38;5;241;43m*\u001b[39;49m\u001b[43m{\u001b[49m\u001b[38;5;241;43m*\u001b[39;49m\u001b[38;5;241;43m*\u001b[39;49m\u001b[38;5;28;43mself\u001b[39;49m\u001b[38;5;241;43m.\u001b[39;49m\u001b[43mkwargs\u001b[49m\u001b[43m,\u001b[49m\u001b[43m \u001b[49m\u001b[38;5;241;43m*\u001b[39;49m\u001b[38;5;241;43m*\u001b[39;49m\u001b[43mkwargs\u001b[49m\u001b[43m}\u001b[49m\u001b[43m,\u001b[49m\n\u001b[1;32m   4529\u001b[0m \u001b[43m    \u001b[49m\u001b[43m)\u001b[49m\n",
      "File \u001b[0;32m/Volumes/Ajeet/RestaurantBot/RestEnv/lib/python3.11/site-packages/langchain/chains/base.py:163\u001b[0m, in \u001b[0;36mChain.invoke\u001b[0;34m(self, input, config, **kwargs)\u001b[0m\n\u001b[1;32m    161\u001b[0m \u001b[38;5;28;01mexcept\u001b[39;00m \u001b[38;5;167;01mBaseException\u001b[39;00m \u001b[38;5;28;01mas\u001b[39;00m e:\n\u001b[1;32m    162\u001b[0m     run_manager\u001b[38;5;241m.\u001b[39mon_chain_error(e)\n\u001b[0;32m--> 163\u001b[0m     \u001b[38;5;28;01mraise\u001b[39;00m e\n\u001b[1;32m    164\u001b[0m run_manager\u001b[38;5;241m.\u001b[39mon_chain_end(outputs)\n\u001b[1;32m    166\u001b[0m \u001b[38;5;28;01mif\u001b[39;00m include_run_info:\n",
      "File \u001b[0;32m/Volumes/Ajeet/RestaurantBot/RestEnv/lib/python3.11/site-packages/langchain/chains/base.py:153\u001b[0m, in \u001b[0;36mChain.invoke\u001b[0;34m(self, input, config, **kwargs)\u001b[0m\n\u001b[1;32m    150\u001b[0m \u001b[38;5;28;01mtry\u001b[39;00m:\n\u001b[1;32m    151\u001b[0m     \u001b[38;5;28mself\u001b[39m\u001b[38;5;241m.\u001b[39m_validate_inputs(inputs)\n\u001b[1;32m    152\u001b[0m     outputs \u001b[38;5;241m=\u001b[39m (\n\u001b[0;32m--> 153\u001b[0m         \u001b[38;5;28;43mself\u001b[39;49m\u001b[38;5;241;43m.\u001b[39;49m\u001b[43m_call\u001b[49m\u001b[43m(\u001b[49m\u001b[43minputs\u001b[49m\u001b[43m,\u001b[49m\u001b[43m \u001b[49m\u001b[43mrun_manager\u001b[49m\u001b[38;5;241;43m=\u001b[39;49m\u001b[43mrun_manager\u001b[49m\u001b[43m)\u001b[49m\n\u001b[1;32m    154\u001b[0m         \u001b[38;5;28;01mif\u001b[39;00m new_arg_supported\n\u001b[1;32m    155\u001b[0m         \u001b[38;5;28;01melse\u001b[39;00m \u001b[38;5;28mself\u001b[39m\u001b[38;5;241m.\u001b[39m_call(inputs)\n\u001b[1;32m    156\u001b[0m     )\n\u001b[1;32m    158\u001b[0m     final_outputs: Dict[\u001b[38;5;28mstr\u001b[39m, Any] \u001b[38;5;241m=\u001b[39m \u001b[38;5;28mself\u001b[39m\u001b[38;5;241m.\u001b[39mprep_outputs(\n\u001b[1;32m    159\u001b[0m         inputs, outputs, return_only_outputs\n\u001b[1;32m    160\u001b[0m     )\n\u001b[1;32m    161\u001b[0m \u001b[38;5;28;01mexcept\u001b[39;00m \u001b[38;5;167;01mBaseException\u001b[39;00m \u001b[38;5;28;01mas\u001b[39;00m e:\n",
      "File \u001b[0;32m/Volumes/Ajeet/RestaurantBot/RestEnv/lib/python3.11/site-packages/langchain/agents/agent.py:1432\u001b[0m, in \u001b[0;36mAgentExecutor._call\u001b[0;34m(self, inputs, run_manager)\u001b[0m\n\u001b[1;32m   1430\u001b[0m \u001b[38;5;66;03m# We now enter the agent loop (until it returns something).\u001b[39;00m\n\u001b[1;32m   1431\u001b[0m \u001b[38;5;28;01mwhile\u001b[39;00m \u001b[38;5;28mself\u001b[39m\u001b[38;5;241m.\u001b[39m_should_continue(iterations, time_elapsed):\n\u001b[0;32m-> 1432\u001b[0m     next_step_output \u001b[38;5;241m=\u001b[39m \u001b[38;5;28;43mself\u001b[39;49m\u001b[38;5;241;43m.\u001b[39;49m\u001b[43m_take_next_step\u001b[49m\u001b[43m(\u001b[49m\n\u001b[1;32m   1433\u001b[0m \u001b[43m        \u001b[49m\u001b[43mname_to_tool_map\u001b[49m\u001b[43m,\u001b[49m\n\u001b[1;32m   1434\u001b[0m \u001b[43m        \u001b[49m\u001b[43mcolor_mapping\u001b[49m\u001b[43m,\u001b[49m\n\u001b[1;32m   1435\u001b[0m \u001b[43m        \u001b[49m\u001b[43minputs\u001b[49m\u001b[43m,\u001b[49m\n\u001b[1;32m   1436\u001b[0m \u001b[43m        \u001b[49m\u001b[43mintermediate_steps\u001b[49m\u001b[43m,\u001b[49m\n\u001b[1;32m   1437\u001b[0m \u001b[43m        \u001b[49m\u001b[43mrun_manager\u001b[49m\u001b[38;5;241;43m=\u001b[39;49m\u001b[43mrun_manager\u001b[49m\u001b[43m,\u001b[49m\n\u001b[1;32m   1438\u001b[0m \u001b[43m    \u001b[49m\u001b[43m)\u001b[49m\n\u001b[1;32m   1439\u001b[0m     \u001b[38;5;28;01mif\u001b[39;00m \u001b[38;5;28misinstance\u001b[39m(next_step_output, AgentFinish):\n\u001b[1;32m   1440\u001b[0m         \u001b[38;5;28;01mreturn\u001b[39;00m \u001b[38;5;28mself\u001b[39m\u001b[38;5;241m.\u001b[39m_return(\n\u001b[1;32m   1441\u001b[0m             next_step_output, intermediate_steps, run_manager\u001b[38;5;241m=\u001b[39mrun_manager\n\u001b[1;32m   1442\u001b[0m         )\n",
      "File \u001b[0;32m/Volumes/Ajeet/RestaurantBot/RestEnv/lib/python3.11/site-packages/langchain/agents/agent.py:1138\u001b[0m, in \u001b[0;36mAgentExecutor._take_next_step\u001b[0;34m(self, name_to_tool_map, color_mapping, inputs, intermediate_steps, run_manager)\u001b[0m\n\u001b[1;32m   1129\u001b[0m \u001b[38;5;28;01mdef\u001b[39;00m \u001b[38;5;21m_take_next_step\u001b[39m(\n\u001b[1;32m   1130\u001b[0m     \u001b[38;5;28mself\u001b[39m,\n\u001b[1;32m   1131\u001b[0m     name_to_tool_map: Dict[\u001b[38;5;28mstr\u001b[39m, BaseTool],\n\u001b[0;32m   (...)\u001b[0m\n\u001b[1;32m   1135\u001b[0m     run_manager: Optional[CallbackManagerForChainRun] \u001b[38;5;241m=\u001b[39m \u001b[38;5;28;01mNone\u001b[39;00m,\n\u001b[1;32m   1136\u001b[0m ) \u001b[38;5;241m-\u001b[39m\u001b[38;5;241m>\u001b[39m Union[AgentFinish, List[Tuple[AgentAction, \u001b[38;5;28mstr\u001b[39m]]]:\n\u001b[1;32m   1137\u001b[0m     \u001b[38;5;28;01mreturn\u001b[39;00m \u001b[38;5;28mself\u001b[39m\u001b[38;5;241m.\u001b[39m_consume_next_step(\n\u001b[0;32m-> 1138\u001b[0m         \u001b[43m[\u001b[49m\n\u001b[1;32m   1139\u001b[0m \u001b[43m            \u001b[49m\u001b[43ma\u001b[49m\n\u001b[1;32m   1140\u001b[0m \u001b[43m            \u001b[49m\u001b[38;5;28;43;01mfor\u001b[39;49;00m\u001b[43m \u001b[49m\u001b[43ma\u001b[49m\u001b[43m \u001b[49m\u001b[38;5;129;43;01min\u001b[39;49;00m\u001b[43m \u001b[49m\u001b[38;5;28;43mself\u001b[39;49m\u001b[38;5;241;43m.\u001b[39;49m\u001b[43m_iter_next_step\u001b[49m\u001b[43m(\u001b[49m\n\u001b[1;32m   1141\u001b[0m \u001b[43m                \u001b[49m\u001b[43mname_to_tool_map\u001b[49m\u001b[43m,\u001b[49m\n\u001b[1;32m   1142\u001b[0m \u001b[43m                \u001b[49m\u001b[43mcolor_mapping\u001b[49m\u001b[43m,\u001b[49m\n\u001b[1;32m   1143\u001b[0m \u001b[43m                \u001b[49m\u001b[43minputs\u001b[49m\u001b[43m,\u001b[49m\n\u001b[1;32m   1144\u001b[0m \u001b[43m                \u001b[49m\u001b[43mintermediate_steps\u001b[49m\u001b[43m,\u001b[49m\n\u001b[1;32m   1145\u001b[0m \u001b[43m                \u001b[49m\u001b[43mrun_manager\u001b[49m\u001b[43m,\u001b[49m\n\u001b[1;32m   1146\u001b[0m \u001b[43m            \u001b[49m\u001b[43m)\u001b[49m\n\u001b[1;32m   1147\u001b[0m \u001b[43m        \u001b[49m\u001b[43m]\u001b[49m\n\u001b[1;32m   1148\u001b[0m     )\n",
      "File \u001b[0;32m/Volumes/Ajeet/RestaurantBot/RestEnv/lib/python3.11/site-packages/langchain/agents/agent.py:1138\u001b[0m, in \u001b[0;36m<listcomp>\u001b[0;34m(.0)\u001b[0m\n\u001b[1;32m   1129\u001b[0m \u001b[38;5;28;01mdef\u001b[39;00m \u001b[38;5;21m_take_next_step\u001b[39m(\n\u001b[1;32m   1130\u001b[0m     \u001b[38;5;28mself\u001b[39m,\n\u001b[1;32m   1131\u001b[0m     name_to_tool_map: Dict[\u001b[38;5;28mstr\u001b[39m, BaseTool],\n\u001b[0;32m   (...)\u001b[0m\n\u001b[1;32m   1135\u001b[0m     run_manager: Optional[CallbackManagerForChainRun] \u001b[38;5;241m=\u001b[39m \u001b[38;5;28;01mNone\u001b[39;00m,\n\u001b[1;32m   1136\u001b[0m ) \u001b[38;5;241m-\u001b[39m\u001b[38;5;241m>\u001b[39m Union[AgentFinish, List[Tuple[AgentAction, \u001b[38;5;28mstr\u001b[39m]]]:\n\u001b[1;32m   1137\u001b[0m     \u001b[38;5;28;01mreturn\u001b[39;00m \u001b[38;5;28mself\u001b[39m\u001b[38;5;241m.\u001b[39m_consume_next_step(\n\u001b[0;32m-> 1138\u001b[0m         \u001b[43m[\u001b[49m\n\u001b[1;32m   1139\u001b[0m \u001b[43m            \u001b[49m\u001b[43ma\u001b[49m\n\u001b[1;32m   1140\u001b[0m \u001b[43m            \u001b[49m\u001b[38;5;28;43;01mfor\u001b[39;49;00m\u001b[43m \u001b[49m\u001b[43ma\u001b[49m\u001b[43m \u001b[49m\u001b[38;5;129;43;01min\u001b[39;49;00m\u001b[43m \u001b[49m\u001b[38;5;28;43mself\u001b[39;49m\u001b[38;5;241;43m.\u001b[39;49m\u001b[43m_iter_next_step\u001b[49m\u001b[43m(\u001b[49m\n\u001b[1;32m   1141\u001b[0m \u001b[43m                \u001b[49m\u001b[43mname_to_tool_map\u001b[49m\u001b[43m,\u001b[49m\n\u001b[1;32m   1142\u001b[0m \u001b[43m                \u001b[49m\u001b[43mcolor_mapping\u001b[49m\u001b[43m,\u001b[49m\n\u001b[1;32m   1143\u001b[0m \u001b[43m                \u001b[49m\u001b[43minputs\u001b[49m\u001b[43m,\u001b[49m\n\u001b[1;32m   1144\u001b[0m \u001b[43m                \u001b[49m\u001b[43mintermediate_steps\u001b[49m\u001b[43m,\u001b[49m\n\u001b[1;32m   1145\u001b[0m \u001b[43m                \u001b[49m\u001b[43mrun_manager\u001b[49m\u001b[43m,\u001b[49m\n\u001b[1;32m   1146\u001b[0m \u001b[43m            \u001b[49m\u001b[43m)\u001b[49m\n\u001b[1;32m   1147\u001b[0m \u001b[43m        \u001b[49m\u001b[43m]\u001b[49m\n\u001b[1;32m   1148\u001b[0m     )\n",
      "File \u001b[0;32m/Volumes/Ajeet/RestaurantBot/RestEnv/lib/python3.11/site-packages/langchain/agents/agent.py:1166\u001b[0m, in \u001b[0;36mAgentExecutor._iter_next_step\u001b[0;34m(self, name_to_tool_map, color_mapping, inputs, intermediate_steps, run_manager)\u001b[0m\n\u001b[1;32m   1163\u001b[0m     intermediate_steps \u001b[38;5;241m=\u001b[39m \u001b[38;5;28mself\u001b[39m\u001b[38;5;241m.\u001b[39m_prepare_intermediate_steps(intermediate_steps)\n\u001b[1;32m   1165\u001b[0m     \u001b[38;5;66;03m# Call the LLM to see what to do.\u001b[39;00m\n\u001b[0;32m-> 1166\u001b[0m     output \u001b[38;5;241m=\u001b[39m \u001b[38;5;28;43mself\u001b[39;49m\u001b[38;5;241;43m.\u001b[39;49m\u001b[43magent\u001b[49m\u001b[38;5;241;43m.\u001b[39;49m\u001b[43mplan\u001b[49m\u001b[43m(\u001b[49m\n\u001b[1;32m   1167\u001b[0m \u001b[43m        \u001b[49m\u001b[43mintermediate_steps\u001b[49m\u001b[43m,\u001b[49m\n\u001b[1;32m   1168\u001b[0m \u001b[43m        \u001b[49m\u001b[43mcallbacks\u001b[49m\u001b[38;5;241;43m=\u001b[39;49m\u001b[43mrun_manager\u001b[49m\u001b[38;5;241;43m.\u001b[39;49m\u001b[43mget_child\u001b[49m\u001b[43m(\u001b[49m\u001b[43m)\u001b[49m\u001b[43m \u001b[49m\u001b[38;5;28;43;01mif\u001b[39;49;00m\u001b[43m \u001b[49m\u001b[43mrun_manager\u001b[49m\u001b[43m \u001b[49m\u001b[38;5;28;43;01melse\u001b[39;49;00m\u001b[43m \u001b[49m\u001b[38;5;28;43;01mNone\u001b[39;49;00m\u001b[43m,\u001b[49m\n\u001b[1;32m   1169\u001b[0m \u001b[43m        \u001b[49m\u001b[38;5;241;43m*\u001b[39;49m\u001b[38;5;241;43m*\u001b[39;49m\u001b[43minputs\u001b[49m\u001b[43m,\u001b[49m\n\u001b[1;32m   1170\u001b[0m \u001b[43m    \u001b[49m\u001b[43m)\u001b[49m\n\u001b[1;32m   1171\u001b[0m \u001b[38;5;28;01mexcept\u001b[39;00m OutputParserException \u001b[38;5;28;01mas\u001b[39;00m e:\n\u001b[1;32m   1172\u001b[0m     \u001b[38;5;28;01mif\u001b[39;00m \u001b[38;5;28misinstance\u001b[39m(\u001b[38;5;28mself\u001b[39m\u001b[38;5;241m.\u001b[39mhandle_parsing_errors, \u001b[38;5;28mbool\u001b[39m):\n",
      "File \u001b[0;32m/Volumes/Ajeet/RestaurantBot/RestEnv/lib/python3.11/site-packages/langchain/agents/agent.py:514\u001b[0m, in \u001b[0;36mRunnableMultiActionAgent.plan\u001b[0;34m(self, intermediate_steps, callbacks, **kwargs)\u001b[0m\n\u001b[1;32m    506\u001b[0m final_output: Any \u001b[38;5;241m=\u001b[39m \u001b[38;5;28;01mNone\u001b[39;00m\n\u001b[1;32m    507\u001b[0m \u001b[38;5;28;01mif\u001b[39;00m \u001b[38;5;28mself\u001b[39m\u001b[38;5;241m.\u001b[39mstream_runnable:\n\u001b[1;32m    508\u001b[0m     \u001b[38;5;66;03m# Use streaming to make sure that the underlying LLM is invoked in a\u001b[39;00m\n\u001b[1;32m    509\u001b[0m     \u001b[38;5;66;03m# streaming\u001b[39;00m\n\u001b[0;32m   (...)\u001b[0m\n\u001b[1;32m    512\u001b[0m     \u001b[38;5;66;03m# Because the response from the plan is not a generator, we need to\u001b[39;00m\n\u001b[1;32m    513\u001b[0m     \u001b[38;5;66;03m# accumulate the output into final output and return that.\u001b[39;00m\n\u001b[0;32m--> 514\u001b[0m \u001b[43m    \u001b[49m\u001b[38;5;28;43;01mfor\u001b[39;49;00m\u001b[43m \u001b[49m\u001b[43mchunk\u001b[49m\u001b[43m \u001b[49m\u001b[38;5;129;43;01min\u001b[39;49;00m\u001b[43m \u001b[49m\u001b[38;5;28;43mself\u001b[39;49m\u001b[38;5;241;43m.\u001b[39;49m\u001b[43mrunnable\u001b[49m\u001b[38;5;241;43m.\u001b[39;49m\u001b[43mstream\u001b[49m\u001b[43m(\u001b[49m\u001b[43minputs\u001b[49m\u001b[43m,\u001b[49m\u001b[43m \u001b[49m\u001b[43mconfig\u001b[49m\u001b[38;5;241;43m=\u001b[39;49m\u001b[43m{\u001b[49m\u001b[38;5;124;43m\"\u001b[39;49m\u001b[38;5;124;43mcallbacks\u001b[39;49m\u001b[38;5;124;43m\"\u001b[39;49m\u001b[43m:\u001b[49m\u001b[43m \u001b[49m\u001b[43mcallbacks\u001b[49m\u001b[43m}\u001b[49m\u001b[43m)\u001b[49m\u001b[43m:\u001b[49m\n\u001b[1;32m    515\u001b[0m \u001b[43m        \u001b[49m\u001b[38;5;28;43;01mif\u001b[39;49;00m\u001b[43m \u001b[49m\u001b[43mfinal_output\u001b[49m\u001b[43m \u001b[49m\u001b[38;5;129;43;01mis\u001b[39;49;00m\u001b[43m \u001b[49m\u001b[38;5;28;43;01mNone\u001b[39;49;00m\u001b[43m:\u001b[49m\n\u001b[1;32m    516\u001b[0m \u001b[43m            \u001b[49m\u001b[43mfinal_output\u001b[49m\u001b[43m \u001b[49m\u001b[38;5;241;43m=\u001b[39;49m\u001b[43m \u001b[49m\u001b[43mchunk\u001b[49m\n",
      "File \u001b[0;32m/Volumes/Ajeet/RestaurantBot/RestEnv/lib/python3.11/site-packages/langchain_core/runnables/base.py:2875\u001b[0m, in \u001b[0;36mRunnableSequence.stream\u001b[0;34m(self, input, config, **kwargs)\u001b[0m\n\u001b[1;32m   2869\u001b[0m \u001b[38;5;28;01mdef\u001b[39;00m \u001b[38;5;21mstream\u001b[39m(\n\u001b[1;32m   2870\u001b[0m     \u001b[38;5;28mself\u001b[39m,\n\u001b[1;32m   2871\u001b[0m     \u001b[38;5;28minput\u001b[39m: Input,\n\u001b[1;32m   2872\u001b[0m     config: Optional[RunnableConfig] \u001b[38;5;241m=\u001b[39m \u001b[38;5;28;01mNone\u001b[39;00m,\n\u001b[1;32m   2873\u001b[0m     \u001b[38;5;241m*\u001b[39m\u001b[38;5;241m*\u001b[39mkwargs: Optional[Any],\n\u001b[1;32m   2874\u001b[0m ) \u001b[38;5;241m-\u001b[39m\u001b[38;5;241m>\u001b[39m Iterator[Output]:\n\u001b[0;32m-> 2875\u001b[0m     \u001b[38;5;28;01myield from\u001b[39;00m \u001b[38;5;28mself\u001b[39m\u001b[38;5;241m.\u001b[39mtransform(\u001b[38;5;28miter\u001b[39m([\u001b[38;5;28minput\u001b[39m]), config, \u001b[38;5;241m*\u001b[39m\u001b[38;5;241m*\u001b[39mkwargs)\n",
      "File \u001b[0;32m/Volumes/Ajeet/RestaurantBot/RestEnv/lib/python3.11/site-packages/langchain_core/runnables/base.py:2862\u001b[0m, in \u001b[0;36mRunnableSequence.transform\u001b[0;34m(self, input, config, **kwargs)\u001b[0m\n\u001b[1;32m   2856\u001b[0m \u001b[38;5;28;01mdef\u001b[39;00m \u001b[38;5;21mtransform\u001b[39m(\n\u001b[1;32m   2857\u001b[0m     \u001b[38;5;28mself\u001b[39m,\n\u001b[1;32m   2858\u001b[0m     \u001b[38;5;28minput\u001b[39m: Iterator[Input],\n\u001b[1;32m   2859\u001b[0m     config: Optional[RunnableConfig] \u001b[38;5;241m=\u001b[39m \u001b[38;5;28;01mNone\u001b[39;00m,\n\u001b[1;32m   2860\u001b[0m     \u001b[38;5;241m*\u001b[39m\u001b[38;5;241m*\u001b[39mkwargs: Optional[Any],\n\u001b[1;32m   2861\u001b[0m ) \u001b[38;5;241m-\u001b[39m\u001b[38;5;241m>\u001b[39m Iterator[Output]:\n\u001b[0;32m-> 2862\u001b[0m     \u001b[38;5;28;01myield from\u001b[39;00m \u001b[38;5;28mself\u001b[39m\u001b[38;5;241m.\u001b[39m_transform_stream_with_config(\n\u001b[1;32m   2863\u001b[0m         \u001b[38;5;28minput\u001b[39m,\n\u001b[1;32m   2864\u001b[0m         \u001b[38;5;28mself\u001b[39m\u001b[38;5;241m.\u001b[39m_transform,\n\u001b[1;32m   2865\u001b[0m         patch_config(config, run_name\u001b[38;5;241m=\u001b[39m(config \u001b[38;5;129;01mor\u001b[39;00m {})\u001b[38;5;241m.\u001b[39mget(\u001b[38;5;124m\"\u001b[39m\u001b[38;5;124mrun_name\u001b[39m\u001b[38;5;124m\"\u001b[39m) \u001b[38;5;129;01mor\u001b[39;00m \u001b[38;5;28mself\u001b[39m\u001b[38;5;241m.\u001b[39mname),\n\u001b[1;32m   2866\u001b[0m         \u001b[38;5;241m*\u001b[39m\u001b[38;5;241m*\u001b[39mkwargs,\n\u001b[1;32m   2867\u001b[0m     )\n",
      "File \u001b[0;32m/Volumes/Ajeet/RestaurantBot/RestEnv/lib/python3.11/site-packages/langchain_core/runnables/base.py:1881\u001b[0m, in \u001b[0;36mRunnable._transform_stream_with_config\u001b[0;34m(self, input, transformer, config, run_type, **kwargs)\u001b[0m\n\u001b[1;32m   1879\u001b[0m \u001b[38;5;28;01mtry\u001b[39;00m:\n\u001b[1;32m   1880\u001b[0m     \u001b[38;5;28;01mwhile\u001b[39;00m \u001b[38;5;28;01mTrue\u001b[39;00m:\n\u001b[0;32m-> 1881\u001b[0m         chunk: Output \u001b[38;5;241m=\u001b[39m context\u001b[38;5;241m.\u001b[39mrun(\u001b[38;5;28mnext\u001b[39m, iterator)  \u001b[38;5;66;03m# type: ignore\u001b[39;00m\n\u001b[1;32m   1882\u001b[0m         \u001b[38;5;28;01myield\u001b[39;00m chunk\n\u001b[1;32m   1883\u001b[0m         \u001b[38;5;28;01mif\u001b[39;00m final_output_supported:\n",
      "File \u001b[0;32m/Volumes/Ajeet/RestaurantBot/RestEnv/lib/python3.11/site-packages/langchain_core/runnables/base.py:2826\u001b[0m, in \u001b[0;36mRunnableSequence._transform\u001b[0;34m(self, input, run_manager, config)\u001b[0m\n\u001b[1;32m   2817\u001b[0m \u001b[38;5;28;01mfor\u001b[39;00m step \u001b[38;5;129;01min\u001b[39;00m steps:\n\u001b[1;32m   2818\u001b[0m     final_pipeline \u001b[38;5;241m=\u001b[39m step\u001b[38;5;241m.\u001b[39mtransform(\n\u001b[1;32m   2819\u001b[0m         final_pipeline,\n\u001b[1;32m   2820\u001b[0m         patch_config(\n\u001b[0;32m   (...)\u001b[0m\n\u001b[1;32m   2823\u001b[0m         ),\n\u001b[1;32m   2824\u001b[0m     )\n\u001b[0;32m-> 2826\u001b[0m \u001b[43m\u001b[49m\u001b[38;5;28;43;01mfor\u001b[39;49;00m\u001b[43m \u001b[49m\u001b[43moutput\u001b[49m\u001b[43m \u001b[49m\u001b[38;5;129;43;01min\u001b[39;49;00m\u001b[43m \u001b[49m\u001b[43mfinal_pipeline\u001b[49m\u001b[43m:\u001b[49m\n\u001b[1;32m   2827\u001b[0m \u001b[43m    \u001b[49m\u001b[38;5;28;43;01myield\u001b[39;49;00m\u001b[43m \u001b[49m\u001b[43moutput\u001b[49m\n",
      "File \u001b[0;32m/Volumes/Ajeet/RestaurantBot/RestEnv/lib/python3.11/site-packages/langchain_core/runnables/base.py:1282\u001b[0m, in \u001b[0;36mRunnable.transform\u001b[0;34m(self, input, config, **kwargs)\u001b[0m\n\u001b[1;32m   1279\u001b[0m final: Input\n\u001b[1;32m   1280\u001b[0m got_first_val \u001b[38;5;241m=\u001b[39m \u001b[38;5;28;01mFalse\u001b[39;00m\n\u001b[0;32m-> 1282\u001b[0m \u001b[43m\u001b[49m\u001b[38;5;28;43;01mfor\u001b[39;49;00m\u001b[43m \u001b[49m\u001b[43michunk\u001b[49m\u001b[43m \u001b[49m\u001b[38;5;129;43;01min\u001b[39;49;00m\u001b[43m \u001b[49m\u001b[38;5;28;43minput\u001b[39;49m\u001b[43m:\u001b[49m\n\u001b[1;32m   1283\u001b[0m \u001b[43m    \u001b[49m\u001b[38;5;66;43;03m# The default implementation of transform is to buffer input and\u001b[39;49;00m\n\u001b[1;32m   1284\u001b[0m \u001b[43m    \u001b[49m\u001b[38;5;66;43;03m# then call stream.\u001b[39;49;00m\n\u001b[1;32m   1285\u001b[0m \u001b[43m    \u001b[49m\u001b[38;5;66;43;03m# It'll attempt to gather all input into a single chunk using\u001b[39;49;00m\n\u001b[1;32m   1286\u001b[0m \u001b[43m    \u001b[49m\u001b[38;5;66;43;03m# the `+` operator.\u001b[39;49;00m\n\u001b[1;32m   1287\u001b[0m \u001b[43m    \u001b[49m\u001b[38;5;66;43;03m# If the input is not addable, then we'll assume that we can\u001b[39;49;00m\n\u001b[1;32m   1288\u001b[0m \u001b[43m    \u001b[49m\u001b[38;5;66;43;03m# only operate on the last chunk,\u001b[39;49;00m\n\u001b[1;32m   1289\u001b[0m \u001b[43m    \u001b[49m\u001b[38;5;66;43;03m# and we'll iterate until we get to the last chunk.\u001b[39;49;00m\n\u001b[1;32m   1290\u001b[0m \u001b[43m    \u001b[49m\u001b[38;5;28;43;01mif\u001b[39;49;00m\u001b[43m \u001b[49m\u001b[38;5;129;43;01mnot\u001b[39;49;00m\u001b[43m \u001b[49m\u001b[43mgot_first_val\u001b[49m\u001b[43m:\u001b[49m\n\u001b[1;32m   1291\u001b[0m \u001b[43m        \u001b[49m\u001b[43mfinal\u001b[49m\u001b[43m \u001b[49m\u001b[38;5;241;43m=\u001b[39;49m\u001b[43m \u001b[49m\u001b[43michunk\u001b[49m\n",
      "File \u001b[0;32m/Volumes/Ajeet/RestaurantBot/RestEnv/lib/python3.11/site-packages/langchain_core/runnables/base.py:4736\u001b[0m, in \u001b[0;36mRunnableBindingBase.transform\u001b[0;34m(self, input, config, **kwargs)\u001b[0m\n\u001b[1;32m   4730\u001b[0m \u001b[38;5;28;01mdef\u001b[39;00m \u001b[38;5;21mtransform\u001b[39m(\n\u001b[1;32m   4731\u001b[0m     \u001b[38;5;28mself\u001b[39m,\n\u001b[1;32m   4732\u001b[0m     \u001b[38;5;28minput\u001b[39m: Iterator[Input],\n\u001b[1;32m   4733\u001b[0m     config: Optional[RunnableConfig] \u001b[38;5;241m=\u001b[39m \u001b[38;5;28;01mNone\u001b[39;00m,\n\u001b[1;32m   4734\u001b[0m     \u001b[38;5;241m*\u001b[39m\u001b[38;5;241m*\u001b[39mkwargs: Any,\n\u001b[1;32m   4735\u001b[0m ) \u001b[38;5;241m-\u001b[39m\u001b[38;5;241m>\u001b[39m Iterator[Output]:\n\u001b[0;32m-> 4736\u001b[0m     \u001b[38;5;28;01myield from\u001b[39;00m \u001b[38;5;28mself\u001b[39m\u001b[38;5;241m.\u001b[39mbound\u001b[38;5;241m.\u001b[39mtransform(\n\u001b[1;32m   4737\u001b[0m         \u001b[38;5;28minput\u001b[39m,\n\u001b[1;32m   4738\u001b[0m         \u001b[38;5;28mself\u001b[39m\u001b[38;5;241m.\u001b[39m_merge_configs(config),\n\u001b[1;32m   4739\u001b[0m         \u001b[38;5;241m*\u001b[39m\u001b[38;5;241m*\u001b[39m{\u001b[38;5;241m*\u001b[39m\u001b[38;5;241m*\u001b[39m\u001b[38;5;28mself\u001b[39m\u001b[38;5;241m.\u001b[39mkwargs, \u001b[38;5;241m*\u001b[39m\u001b[38;5;241m*\u001b[39mkwargs},\n\u001b[1;32m   4740\u001b[0m     )\n",
      "File \u001b[0;32m/Volumes/Ajeet/RestaurantBot/RestEnv/lib/python3.11/site-packages/langchain_core/runnables/base.py:1300\u001b[0m, in \u001b[0;36mRunnable.transform\u001b[0;34m(self, input, config, **kwargs)\u001b[0m\n\u001b[1;32m   1297\u001b[0m             final \u001b[38;5;241m=\u001b[39m ichunk\n\u001b[1;32m   1299\u001b[0m \u001b[38;5;28;01mif\u001b[39;00m got_first_val:\n\u001b[0;32m-> 1300\u001b[0m     \u001b[38;5;28;01myield from\u001b[39;00m \u001b[38;5;28mself\u001b[39m\u001b[38;5;241m.\u001b[39mstream(final, config, \u001b[38;5;241m*\u001b[39m\u001b[38;5;241m*\u001b[39mkwargs)\n",
      "File \u001b[0;32m/Volumes/Ajeet/RestaurantBot/RestEnv/lib/python3.11/site-packages/langchain_core/language_models/chat_models.py:249\u001b[0m, in \u001b[0;36mBaseChatModel.stream\u001b[0;34m(self, input, config, stop, **kwargs)\u001b[0m\n\u001b[1;32m    242\u001b[0m \u001b[38;5;28;01mexcept\u001b[39;00m \u001b[38;5;167;01mBaseException\u001b[39;00m \u001b[38;5;28;01mas\u001b[39;00m e:\n\u001b[1;32m    243\u001b[0m     run_manager\u001b[38;5;241m.\u001b[39mon_llm_error(\n\u001b[1;32m    244\u001b[0m         e,\n\u001b[1;32m    245\u001b[0m         response\u001b[38;5;241m=\u001b[39mLLMResult(\n\u001b[1;32m    246\u001b[0m             generations\u001b[38;5;241m=\u001b[39m[[generation]] \u001b[38;5;28;01mif\u001b[39;00m generation \u001b[38;5;28;01melse\u001b[39;00m []\n\u001b[1;32m    247\u001b[0m         ),\n\u001b[1;32m    248\u001b[0m     )\n\u001b[0;32m--> 249\u001b[0m     \u001b[38;5;28;01mraise\u001b[39;00m e\n\u001b[1;32m    250\u001b[0m \u001b[38;5;28;01melse\u001b[39;00m:\n\u001b[1;32m    251\u001b[0m     run_manager\u001b[38;5;241m.\u001b[39mon_llm_end(LLMResult(generations\u001b[38;5;241m=\u001b[39m[[generation]]))\n",
      "File \u001b[0;32m/Volumes/Ajeet/RestaurantBot/RestEnv/lib/python3.11/site-packages/langchain_core/language_models/chat_models.py:229\u001b[0m, in \u001b[0;36mBaseChatModel.stream\u001b[0;34m(self, input, config, stop, **kwargs)\u001b[0m\n\u001b[1;32m    227\u001b[0m generation: Optional[ChatGenerationChunk] \u001b[38;5;241m=\u001b[39m \u001b[38;5;28;01mNone\u001b[39;00m\n\u001b[1;32m    228\u001b[0m \u001b[38;5;28;01mtry\u001b[39;00m:\n\u001b[0;32m--> 229\u001b[0m \u001b[43m    \u001b[49m\u001b[38;5;28;43;01mfor\u001b[39;49;00m\u001b[43m \u001b[49m\u001b[43mchunk\u001b[49m\u001b[43m \u001b[49m\u001b[38;5;129;43;01min\u001b[39;49;00m\u001b[43m \u001b[49m\u001b[38;5;28;43mself\u001b[39;49m\u001b[38;5;241;43m.\u001b[39;49m\u001b[43m_stream\u001b[49m\u001b[43m(\u001b[49m\u001b[43mmessages\u001b[49m\u001b[43m,\u001b[49m\u001b[43m \u001b[49m\u001b[43mstop\u001b[49m\u001b[38;5;241;43m=\u001b[39;49m\u001b[43mstop\u001b[49m\u001b[43m,\u001b[49m\u001b[43m \u001b[49m\u001b[38;5;241;43m*\u001b[39;49m\u001b[38;5;241;43m*\u001b[39;49m\u001b[43mkwargs\u001b[49m\u001b[43m)\u001b[49m\u001b[43m:\u001b[49m\n\u001b[1;32m    230\u001b[0m \u001b[43m        \u001b[49m\u001b[38;5;28;43;01mif\u001b[39;49;00m\u001b[43m \u001b[49m\u001b[43mchunk\u001b[49m\u001b[38;5;241;43m.\u001b[39;49m\u001b[43mmessage\u001b[49m\u001b[38;5;241;43m.\u001b[39;49m\u001b[43mid\u001b[49m\u001b[43m \u001b[49m\u001b[38;5;129;43;01mis\u001b[39;49;00m\u001b[43m \u001b[49m\u001b[38;5;28;43;01mNone\u001b[39;49;00m\u001b[43m:\u001b[49m\n\u001b[1;32m    231\u001b[0m \u001b[43m            \u001b[49m\u001b[43mchunk\u001b[49m\u001b[38;5;241;43m.\u001b[39;49m\u001b[43mmessage\u001b[49m\u001b[38;5;241;43m.\u001b[39;49m\u001b[43mid\u001b[49m\u001b[43m \u001b[49m\u001b[38;5;241;43m=\u001b[39;49m\u001b[43m \u001b[49m\u001b[38;5;124;43mf\u001b[39;49m\u001b[38;5;124;43m\"\u001b[39;49m\u001b[38;5;124;43mrun-\u001b[39;49m\u001b[38;5;132;43;01m{\u001b[39;49;00m\u001b[43mrun_manager\u001b[49m\u001b[38;5;241;43m.\u001b[39;49m\u001b[43mrun_id\u001b[49m\u001b[38;5;132;43;01m}\u001b[39;49;00m\u001b[38;5;124;43m\"\u001b[39;49m\n",
      "File \u001b[0;32m/Volumes/Ajeet/RestaurantBot/RestEnv/lib/python3.11/site-packages/langchain_openai/chat_models/base.py:507\u001b[0m, in \u001b[0;36mChatOpenAI._stream\u001b[0;34m(self, messages, stop, run_manager, **kwargs)\u001b[0m\n\u001b[1;32m    505\u001b[0m default_chunk_class \u001b[38;5;241m=\u001b[39m AIMessageChunk\n\u001b[1;32m    506\u001b[0m \u001b[38;5;28;01mwith\u001b[39;00m \u001b[38;5;28mself\u001b[39m\u001b[38;5;241m.\u001b[39mclient\u001b[38;5;241m.\u001b[39mcreate(messages\u001b[38;5;241m=\u001b[39mmessage_dicts, \u001b[38;5;241m*\u001b[39m\u001b[38;5;241m*\u001b[39mparams) \u001b[38;5;28;01mas\u001b[39;00m response:\n\u001b[0;32m--> 507\u001b[0m \u001b[43m    \u001b[49m\u001b[38;5;28;43;01mfor\u001b[39;49;00m\u001b[43m \u001b[49m\u001b[43mchunk\u001b[49m\u001b[43m \u001b[49m\u001b[38;5;129;43;01min\u001b[39;49;00m\u001b[43m \u001b[49m\u001b[43mresponse\u001b[49m\u001b[43m:\u001b[49m\n\u001b[1;32m    508\u001b[0m \u001b[43m        \u001b[49m\u001b[38;5;28;43;01mif\u001b[39;49;00m\u001b[43m \u001b[49m\u001b[38;5;129;43;01mnot\u001b[39;49;00m\u001b[43m \u001b[49m\u001b[38;5;28;43misinstance\u001b[39;49m\u001b[43m(\u001b[49m\u001b[43mchunk\u001b[49m\u001b[43m,\u001b[49m\u001b[43m \u001b[49m\u001b[38;5;28;43mdict\u001b[39;49m\u001b[43m)\u001b[49m\u001b[43m:\u001b[49m\n\u001b[1;32m    509\u001b[0m \u001b[43m            \u001b[49m\u001b[43mchunk\u001b[49m\u001b[43m \u001b[49m\u001b[38;5;241;43m=\u001b[39;49m\u001b[43m \u001b[49m\u001b[43mchunk\u001b[49m\u001b[38;5;241;43m.\u001b[39;49m\u001b[43mmodel_dump\u001b[49m\u001b[43m(\u001b[49m\u001b[43m)\u001b[49m\n",
      "File \u001b[0;32m/Volumes/Ajeet/RestaurantBot/RestEnv/lib/python3.11/site-packages/openai/_streaming.py:46\u001b[0m, in \u001b[0;36mStream.__iter__\u001b[0;34m(self)\u001b[0m\n\u001b[1;32m     45\u001b[0m \u001b[38;5;28;01mdef\u001b[39;00m \u001b[38;5;21m__iter__\u001b[39m(\u001b[38;5;28mself\u001b[39m) \u001b[38;5;241m-\u001b[39m\u001b[38;5;241m>\u001b[39m Iterator[_T]:\n\u001b[0;32m---> 46\u001b[0m \u001b[43m    \u001b[49m\u001b[38;5;28;43;01mfor\u001b[39;49;00m\u001b[43m \u001b[49m\u001b[43mitem\u001b[49m\u001b[43m \u001b[49m\u001b[38;5;129;43;01min\u001b[39;49;00m\u001b[43m \u001b[49m\u001b[38;5;28;43mself\u001b[39;49m\u001b[38;5;241;43m.\u001b[39;49m\u001b[43m_iterator\u001b[49m\u001b[43m:\u001b[49m\n\u001b[1;32m     47\u001b[0m \u001b[43m        \u001b[49m\u001b[38;5;28;43;01myield\u001b[39;49;00m\u001b[43m \u001b[49m\u001b[43mitem\u001b[49m\n",
      "File \u001b[0;32m/Volumes/Ajeet/RestaurantBot/RestEnv/lib/python3.11/site-packages/openai/_streaming.py:58\u001b[0m, in \u001b[0;36mStream.__stream__\u001b[0;34m(self)\u001b[0m\n\u001b[1;32m     55\u001b[0m process_data \u001b[38;5;241m=\u001b[39m \u001b[38;5;28mself\u001b[39m\u001b[38;5;241m.\u001b[39m_client\u001b[38;5;241m.\u001b[39m_process_response_data\n\u001b[1;32m     56\u001b[0m iterator \u001b[38;5;241m=\u001b[39m \u001b[38;5;28mself\u001b[39m\u001b[38;5;241m.\u001b[39m_iter_events()\n\u001b[0;32m---> 58\u001b[0m \u001b[43m\u001b[49m\u001b[38;5;28;43;01mfor\u001b[39;49;00m\u001b[43m \u001b[49m\u001b[43msse\u001b[49m\u001b[43m \u001b[49m\u001b[38;5;129;43;01min\u001b[39;49;00m\u001b[43m \u001b[49m\u001b[43miterator\u001b[49m\u001b[43m:\u001b[49m\n\u001b[1;32m     59\u001b[0m \u001b[43m    \u001b[49m\u001b[38;5;28;43;01mif\u001b[39;49;00m\u001b[43m \u001b[49m\u001b[43msse\u001b[49m\u001b[38;5;241;43m.\u001b[39;49m\u001b[43mdata\u001b[49m\u001b[38;5;241;43m.\u001b[39;49m\u001b[43mstartswith\u001b[49m\u001b[43m(\u001b[49m\u001b[38;5;124;43m\"\u001b[39;49m\u001b[38;5;124;43m[DONE]\u001b[39;49m\u001b[38;5;124;43m\"\u001b[39;49m\u001b[43m)\u001b[49m\u001b[43m:\u001b[49m\n\u001b[1;32m     60\u001b[0m \u001b[43m        \u001b[49m\u001b[38;5;28;43;01mbreak\u001b[39;49;00m\n",
      "File \u001b[0;32m/Volumes/Ajeet/RestaurantBot/RestEnv/lib/python3.11/site-packages/openai/_streaming.py:50\u001b[0m, in \u001b[0;36mStream._iter_events\u001b[0;34m(self)\u001b[0m\n\u001b[1;32m     49\u001b[0m \u001b[38;5;28;01mdef\u001b[39;00m \u001b[38;5;21m_iter_events\u001b[39m(\u001b[38;5;28mself\u001b[39m) \u001b[38;5;241m-\u001b[39m\u001b[38;5;241m>\u001b[39m Iterator[ServerSentEvent]:\n\u001b[0;32m---> 50\u001b[0m     \u001b[38;5;28;01myield from\u001b[39;00m \u001b[38;5;28mself\u001b[39m\u001b[38;5;241m.\u001b[39m_decoder\u001b[38;5;241m.\u001b[39miter_bytes(\u001b[38;5;28mself\u001b[39m\u001b[38;5;241m.\u001b[39mresponse\u001b[38;5;241m.\u001b[39miter_bytes())\n",
      "File \u001b[0;32m/Volumes/Ajeet/RestaurantBot/RestEnv/lib/python3.11/site-packages/openai/_streaming.py:280\u001b[0m, in \u001b[0;36mSSEDecoder.iter_bytes\u001b[0;34m(self, iterator)\u001b[0m\n\u001b[1;32m    278\u001b[0m \u001b[38;5;28;01mdef\u001b[39;00m \u001b[38;5;21miter_bytes\u001b[39m(\u001b[38;5;28mself\u001b[39m, iterator: Iterator[\u001b[38;5;28mbytes\u001b[39m]) \u001b[38;5;241m-\u001b[39m\u001b[38;5;241m>\u001b[39m Iterator[ServerSentEvent]:\n\u001b[1;32m    279\u001b[0m \u001b[38;5;250m    \u001b[39m\u001b[38;5;124;03m\"\"\"Given an iterator that yields raw binary data, iterate over it & yield every event encountered\"\"\"\u001b[39;00m\n\u001b[0;32m--> 280\u001b[0m \u001b[43m    \u001b[49m\u001b[38;5;28;43;01mfor\u001b[39;49;00m\u001b[43m \u001b[49m\u001b[43mchunk\u001b[49m\u001b[43m \u001b[49m\u001b[38;5;129;43;01min\u001b[39;49;00m\u001b[43m \u001b[49m\u001b[38;5;28;43mself\u001b[39;49m\u001b[38;5;241;43m.\u001b[39;49m\u001b[43m_iter_chunks\u001b[49m\u001b[43m(\u001b[49m\u001b[43miterator\u001b[49m\u001b[43m)\u001b[49m\u001b[43m:\u001b[49m\n\u001b[1;32m    281\u001b[0m \u001b[43m        \u001b[49m\u001b[38;5;66;43;03m# Split before decoding so splitlines() only uses \\r and \\n\u001b[39;49;00m\n\u001b[1;32m    282\u001b[0m \u001b[43m        \u001b[49m\u001b[38;5;28;43;01mfor\u001b[39;49;00m\u001b[43m \u001b[49m\u001b[43mraw_line\u001b[49m\u001b[43m \u001b[49m\u001b[38;5;129;43;01min\u001b[39;49;00m\u001b[43m \u001b[49m\u001b[43mchunk\u001b[49m\u001b[38;5;241;43m.\u001b[39;49m\u001b[43msplitlines\u001b[49m\u001b[43m(\u001b[49m\u001b[43m)\u001b[49m\u001b[43m:\u001b[49m\n\u001b[1;32m    283\u001b[0m \u001b[43m            \u001b[49m\u001b[43mline\u001b[49m\u001b[43m \u001b[49m\u001b[38;5;241;43m=\u001b[39;49m\u001b[43m \u001b[49m\u001b[43mraw_line\u001b[49m\u001b[38;5;241;43m.\u001b[39;49m\u001b[43mdecode\u001b[49m\u001b[43m(\u001b[49m\u001b[38;5;124;43m\"\u001b[39;49m\u001b[38;5;124;43mutf-8\u001b[39;49m\u001b[38;5;124;43m\"\u001b[39;49m\u001b[43m)\u001b[49m\n",
      "File \u001b[0;32m/Volumes/Ajeet/RestaurantBot/RestEnv/lib/python3.11/site-packages/openai/_streaming.py:291\u001b[0m, in \u001b[0;36mSSEDecoder._iter_chunks\u001b[0;34m(self, iterator)\u001b[0m\n\u001b[1;32m    289\u001b[0m \u001b[38;5;250m\u001b[39m\u001b[38;5;124;03m\"\"\"Given an iterator that yields raw binary data, iterate over it and yield individual SSE chunks\"\"\"\u001b[39;00m\n\u001b[1;32m    290\u001b[0m data \u001b[38;5;241m=\u001b[39m \u001b[38;5;124mb\u001b[39m\u001b[38;5;124m\"\u001b[39m\u001b[38;5;124m\"\u001b[39m\n\u001b[0;32m--> 291\u001b[0m \u001b[43m\u001b[49m\u001b[38;5;28;43;01mfor\u001b[39;49;00m\u001b[43m \u001b[49m\u001b[43mchunk\u001b[49m\u001b[43m \u001b[49m\u001b[38;5;129;43;01min\u001b[39;49;00m\u001b[43m \u001b[49m\u001b[43miterator\u001b[49m\u001b[43m:\u001b[49m\n\u001b[1;32m    292\u001b[0m \u001b[43m    \u001b[49m\u001b[38;5;28;43;01mfor\u001b[39;49;00m\u001b[43m \u001b[49m\u001b[43mline\u001b[49m\u001b[43m \u001b[49m\u001b[38;5;129;43;01min\u001b[39;49;00m\u001b[43m \u001b[49m\u001b[43mchunk\u001b[49m\u001b[38;5;241;43m.\u001b[39;49m\u001b[43msplitlines\u001b[49m\u001b[43m(\u001b[49m\u001b[43mkeepends\u001b[49m\u001b[38;5;241;43m=\u001b[39;49m\u001b[38;5;28;43;01mTrue\u001b[39;49;00m\u001b[43m)\u001b[49m\u001b[43m:\u001b[49m\n\u001b[1;32m    293\u001b[0m \u001b[43m        \u001b[49m\u001b[43mdata\u001b[49m\u001b[43m \u001b[49m\u001b[38;5;241;43m+\u001b[39;49m\u001b[38;5;241;43m=\u001b[39;49m\u001b[43m \u001b[49m\u001b[43mline\u001b[49m\n",
      "File \u001b[0;32m/Volumes/Ajeet/RestaurantBot/RestEnv/lib/python3.11/site-packages/httpx/_models.py:829\u001b[0m, in \u001b[0;36mResponse.iter_bytes\u001b[0;34m(self, chunk_size)\u001b[0m\n\u001b[1;32m    827\u001b[0m chunker \u001b[38;5;241m=\u001b[39m ByteChunker(chunk_size\u001b[38;5;241m=\u001b[39mchunk_size)\n\u001b[1;32m    828\u001b[0m \u001b[38;5;28;01mwith\u001b[39;00m request_context(request\u001b[38;5;241m=\u001b[39m\u001b[38;5;28mself\u001b[39m\u001b[38;5;241m.\u001b[39m_request):\n\u001b[0;32m--> 829\u001b[0m \u001b[43m    \u001b[49m\u001b[38;5;28;43;01mfor\u001b[39;49;00m\u001b[43m \u001b[49m\u001b[43mraw_bytes\u001b[49m\u001b[43m \u001b[49m\u001b[38;5;129;43;01min\u001b[39;49;00m\u001b[43m \u001b[49m\u001b[38;5;28;43mself\u001b[39;49m\u001b[38;5;241;43m.\u001b[39;49m\u001b[43miter_raw\u001b[49m\u001b[43m(\u001b[49m\u001b[43m)\u001b[49m\u001b[43m:\u001b[49m\n\u001b[1;32m    830\u001b[0m \u001b[43m        \u001b[49m\u001b[43mdecoded\u001b[49m\u001b[43m \u001b[49m\u001b[38;5;241;43m=\u001b[39;49m\u001b[43m \u001b[49m\u001b[43mdecoder\u001b[49m\u001b[38;5;241;43m.\u001b[39;49m\u001b[43mdecode\u001b[49m\u001b[43m(\u001b[49m\u001b[43mraw_bytes\u001b[49m\u001b[43m)\u001b[49m\n\u001b[1;32m    831\u001b[0m \u001b[43m        \u001b[49m\u001b[38;5;28;43;01mfor\u001b[39;49;00m\u001b[43m \u001b[49m\u001b[43mchunk\u001b[49m\u001b[43m \u001b[49m\u001b[38;5;129;43;01min\u001b[39;49;00m\u001b[43m \u001b[49m\u001b[43mchunker\u001b[49m\u001b[38;5;241;43m.\u001b[39;49m\u001b[43mdecode\u001b[49m\u001b[43m(\u001b[49m\u001b[43mdecoded\u001b[49m\u001b[43m)\u001b[49m\u001b[43m:\u001b[49m\n",
      "File \u001b[0;32m/Volumes/Ajeet/RestaurantBot/RestEnv/lib/python3.11/site-packages/httpx/_models.py:883\u001b[0m, in \u001b[0;36mResponse.iter_raw\u001b[0;34m(self, chunk_size)\u001b[0m\n\u001b[1;32m    880\u001b[0m chunker \u001b[38;5;241m=\u001b[39m ByteChunker(chunk_size\u001b[38;5;241m=\u001b[39mchunk_size)\n\u001b[1;32m    882\u001b[0m \u001b[38;5;28;01mwith\u001b[39;00m request_context(request\u001b[38;5;241m=\u001b[39m\u001b[38;5;28mself\u001b[39m\u001b[38;5;241m.\u001b[39m_request):\n\u001b[0;32m--> 883\u001b[0m \u001b[43m    \u001b[49m\u001b[38;5;28;43;01mfor\u001b[39;49;00m\u001b[43m \u001b[49m\u001b[43mraw_stream_bytes\u001b[49m\u001b[43m \u001b[49m\u001b[38;5;129;43;01min\u001b[39;49;00m\u001b[43m \u001b[49m\u001b[38;5;28;43mself\u001b[39;49m\u001b[38;5;241;43m.\u001b[39;49m\u001b[43mstream\u001b[49m\u001b[43m:\u001b[49m\n\u001b[1;32m    884\u001b[0m \u001b[43m        \u001b[49m\u001b[38;5;28;43mself\u001b[39;49m\u001b[38;5;241;43m.\u001b[39;49m\u001b[43m_num_bytes_downloaded\u001b[49m\u001b[43m \u001b[49m\u001b[38;5;241;43m+\u001b[39;49m\u001b[38;5;241;43m=\u001b[39;49m\u001b[43m \u001b[49m\u001b[38;5;28;43mlen\u001b[39;49m\u001b[43m(\u001b[49m\u001b[43mraw_stream_bytes\u001b[49m\u001b[43m)\u001b[49m\n\u001b[1;32m    885\u001b[0m \u001b[43m        \u001b[49m\u001b[38;5;28;43;01mfor\u001b[39;49;00m\u001b[43m \u001b[49m\u001b[43mchunk\u001b[49m\u001b[43m \u001b[49m\u001b[38;5;129;43;01min\u001b[39;49;00m\u001b[43m \u001b[49m\u001b[43mchunker\u001b[49m\u001b[38;5;241;43m.\u001b[39;49m\u001b[43mdecode\u001b[49m\u001b[43m(\u001b[49m\u001b[43mraw_stream_bytes\u001b[49m\u001b[43m)\u001b[49m\u001b[43m:\u001b[49m\n",
      "File \u001b[0;32m/Volumes/Ajeet/RestaurantBot/RestEnv/lib/python3.11/site-packages/httpx/_client.py:126\u001b[0m, in \u001b[0;36mBoundSyncStream.__iter__\u001b[0;34m(self)\u001b[0m\n\u001b[1;32m    125\u001b[0m \u001b[38;5;28;01mdef\u001b[39;00m \u001b[38;5;21m__iter__\u001b[39m(\u001b[38;5;28mself\u001b[39m) \u001b[38;5;241m-\u001b[39m\u001b[38;5;241m>\u001b[39m typing\u001b[38;5;241m.\u001b[39mIterator[\u001b[38;5;28mbytes\u001b[39m]:\n\u001b[0;32m--> 126\u001b[0m \u001b[43m    \u001b[49m\u001b[38;5;28;43;01mfor\u001b[39;49;00m\u001b[43m \u001b[49m\u001b[43mchunk\u001b[49m\u001b[43m \u001b[49m\u001b[38;5;129;43;01min\u001b[39;49;00m\u001b[43m \u001b[49m\u001b[38;5;28;43mself\u001b[39;49m\u001b[38;5;241;43m.\u001b[39;49m\u001b[43m_stream\u001b[49m\u001b[43m:\u001b[49m\n\u001b[1;32m    127\u001b[0m \u001b[43m        \u001b[49m\u001b[38;5;28;43;01myield\u001b[39;49;00m\u001b[43m \u001b[49m\u001b[43mchunk\u001b[49m\n",
      "File \u001b[0;32m/Volumes/Ajeet/RestaurantBot/RestEnv/lib/python3.11/site-packages/httpx/_transports/default.py:113\u001b[0m, in \u001b[0;36mResponseStream.__iter__\u001b[0;34m(self)\u001b[0m\n\u001b[1;32m    111\u001b[0m \u001b[38;5;28;01mdef\u001b[39;00m \u001b[38;5;21m__iter__\u001b[39m(\u001b[38;5;28mself\u001b[39m) \u001b[38;5;241m-\u001b[39m\u001b[38;5;241m>\u001b[39m typing\u001b[38;5;241m.\u001b[39mIterator[\u001b[38;5;28mbytes\u001b[39m]:\n\u001b[1;32m    112\u001b[0m     \u001b[38;5;28;01mwith\u001b[39;00m map_httpcore_exceptions():\n\u001b[0;32m--> 113\u001b[0m \u001b[43m        \u001b[49m\u001b[38;5;28;43;01mfor\u001b[39;49;00m\u001b[43m \u001b[49m\u001b[43mpart\u001b[49m\u001b[43m \u001b[49m\u001b[38;5;129;43;01min\u001b[39;49;00m\u001b[43m \u001b[49m\u001b[38;5;28;43mself\u001b[39;49m\u001b[38;5;241;43m.\u001b[39;49m\u001b[43m_httpcore_stream\u001b[49m\u001b[43m:\u001b[49m\n\u001b[1;32m    114\u001b[0m \u001b[43m            \u001b[49m\u001b[38;5;28;43;01myield\u001b[39;49;00m\u001b[43m \u001b[49m\u001b[43mpart\u001b[49m\n",
      "File \u001b[0;32m/Volumes/Ajeet/RestaurantBot/RestEnv/lib/python3.11/site-packages/httpcore/_sync/connection_pool.py:367\u001b[0m, in \u001b[0;36mPoolByteStream.__iter__\u001b[0;34m(self)\u001b[0m\n\u001b[1;32m    365\u001b[0m \u001b[38;5;28;01mexcept\u001b[39;00m \u001b[38;5;167;01mBaseException\u001b[39;00m \u001b[38;5;28;01mas\u001b[39;00m exc:\n\u001b[1;32m    366\u001b[0m     \u001b[38;5;28mself\u001b[39m\u001b[38;5;241m.\u001b[39mclose()\n\u001b[0;32m--> 367\u001b[0m     \u001b[38;5;28;01mraise\u001b[39;00m exc \u001b[38;5;28;01mfrom\u001b[39;00m \u001b[38;5;28;01mNone\u001b[39;00m\n",
      "File \u001b[0;32m/Volumes/Ajeet/RestaurantBot/RestEnv/lib/python3.11/site-packages/httpcore/_sync/connection_pool.py:363\u001b[0m, in \u001b[0;36mPoolByteStream.__iter__\u001b[0;34m(self)\u001b[0m\n\u001b[1;32m    361\u001b[0m \u001b[38;5;28;01mdef\u001b[39;00m \u001b[38;5;21m__iter__\u001b[39m(\u001b[38;5;28mself\u001b[39m) \u001b[38;5;241m-\u001b[39m\u001b[38;5;241m>\u001b[39m Iterator[\u001b[38;5;28mbytes\u001b[39m]:\n\u001b[1;32m    362\u001b[0m     \u001b[38;5;28;01mtry\u001b[39;00m:\n\u001b[0;32m--> 363\u001b[0m \u001b[43m        \u001b[49m\u001b[38;5;28;43;01mfor\u001b[39;49;00m\u001b[43m \u001b[49m\u001b[43mpart\u001b[49m\u001b[43m \u001b[49m\u001b[38;5;129;43;01min\u001b[39;49;00m\u001b[43m \u001b[49m\u001b[38;5;28;43mself\u001b[39;49m\u001b[38;5;241;43m.\u001b[39;49m\u001b[43m_stream\u001b[49m\u001b[43m:\u001b[49m\n\u001b[1;32m    364\u001b[0m \u001b[43m            \u001b[49m\u001b[38;5;28;43;01myield\u001b[39;49;00m\u001b[43m \u001b[49m\u001b[43mpart\u001b[49m\n\u001b[1;32m    365\u001b[0m     \u001b[38;5;28;01mexcept\u001b[39;00m \u001b[38;5;167;01mBaseException\u001b[39;00m \u001b[38;5;28;01mas\u001b[39;00m exc:\n",
      "File \u001b[0;32m/Volumes/Ajeet/RestaurantBot/RestEnv/lib/python3.11/site-packages/httpcore/_sync/http11.py:349\u001b[0m, in \u001b[0;36mHTTP11ConnectionByteStream.__iter__\u001b[0;34m(self)\u001b[0m\n\u001b[1;32m    347\u001b[0m \u001b[38;5;28;01mwith\u001b[39;00m ShieldCancellation():\n\u001b[1;32m    348\u001b[0m     \u001b[38;5;28mself\u001b[39m\u001b[38;5;241m.\u001b[39mclose()\n\u001b[0;32m--> 349\u001b[0m \u001b[38;5;28;01mraise\u001b[39;00m exc\n",
      "File \u001b[0;32m/Volumes/Ajeet/RestaurantBot/RestEnv/lib/python3.11/site-packages/httpcore/_sync/http11.py:341\u001b[0m, in \u001b[0;36mHTTP11ConnectionByteStream.__iter__\u001b[0;34m(self)\u001b[0m\n\u001b[1;32m    339\u001b[0m \u001b[38;5;28;01mtry\u001b[39;00m:\n\u001b[1;32m    340\u001b[0m     \u001b[38;5;28;01mwith\u001b[39;00m Trace(\u001b[38;5;124m\"\u001b[39m\u001b[38;5;124mreceive_response_body\u001b[39m\u001b[38;5;124m\"\u001b[39m, logger, \u001b[38;5;28mself\u001b[39m\u001b[38;5;241m.\u001b[39m_request, kwargs):\n\u001b[0;32m--> 341\u001b[0m \u001b[43m        \u001b[49m\u001b[38;5;28;43;01mfor\u001b[39;49;00m\u001b[43m \u001b[49m\u001b[43mchunk\u001b[49m\u001b[43m \u001b[49m\u001b[38;5;129;43;01min\u001b[39;49;00m\u001b[43m \u001b[49m\u001b[38;5;28;43mself\u001b[39;49m\u001b[38;5;241;43m.\u001b[39;49m\u001b[43m_connection\u001b[49m\u001b[38;5;241;43m.\u001b[39;49m\u001b[43m_receive_response_body\u001b[49m\u001b[43m(\u001b[49m\u001b[38;5;241;43m*\u001b[39;49m\u001b[38;5;241;43m*\u001b[39;49m\u001b[43mkwargs\u001b[49m\u001b[43m)\u001b[49m\u001b[43m:\u001b[49m\n\u001b[1;32m    342\u001b[0m \u001b[43m            \u001b[49m\u001b[38;5;28;43;01myield\u001b[39;49;00m\u001b[43m \u001b[49m\u001b[43mchunk\u001b[49m\n\u001b[1;32m    343\u001b[0m \u001b[38;5;28;01mexcept\u001b[39;00m \u001b[38;5;167;01mBaseException\u001b[39;00m \u001b[38;5;28;01mas\u001b[39;00m exc:\n\u001b[1;32m    344\u001b[0m     \u001b[38;5;66;03m# If we get an exception while streaming the response,\u001b[39;00m\n\u001b[1;32m    345\u001b[0m     \u001b[38;5;66;03m# we want to close the response (and possibly the connection)\u001b[39;00m\n\u001b[1;32m    346\u001b[0m     \u001b[38;5;66;03m# before raising that exception.\u001b[39;00m\n",
      "File \u001b[0;32m/Volumes/Ajeet/RestaurantBot/RestEnv/lib/python3.11/site-packages/httpcore/_sync/http11.py:210\u001b[0m, in \u001b[0;36mHTTP11Connection._receive_response_body\u001b[0;34m(self, request)\u001b[0m\n\u001b[1;32m    207\u001b[0m timeout \u001b[38;5;241m=\u001b[39m timeouts\u001b[38;5;241m.\u001b[39mget(\u001b[38;5;124m\"\u001b[39m\u001b[38;5;124mread\u001b[39m\u001b[38;5;124m\"\u001b[39m, \u001b[38;5;28;01mNone\u001b[39;00m)\n\u001b[1;32m    209\u001b[0m \u001b[38;5;28;01mwhile\u001b[39;00m \u001b[38;5;28;01mTrue\u001b[39;00m:\n\u001b[0;32m--> 210\u001b[0m     event \u001b[38;5;241m=\u001b[39m \u001b[38;5;28;43mself\u001b[39;49m\u001b[38;5;241;43m.\u001b[39;49m\u001b[43m_receive_event\u001b[49m\u001b[43m(\u001b[49m\u001b[43mtimeout\u001b[49m\u001b[38;5;241;43m=\u001b[39;49m\u001b[43mtimeout\u001b[49m\u001b[43m)\u001b[49m\n\u001b[1;32m    211\u001b[0m     \u001b[38;5;28;01mif\u001b[39;00m \u001b[38;5;28misinstance\u001b[39m(event, h11\u001b[38;5;241m.\u001b[39mData):\n\u001b[1;32m    212\u001b[0m         \u001b[38;5;28;01myield\u001b[39;00m \u001b[38;5;28mbytes\u001b[39m(event\u001b[38;5;241m.\u001b[39mdata)\n",
      "File \u001b[0;32m/Volumes/Ajeet/RestaurantBot/RestEnv/lib/python3.11/site-packages/httpcore/_sync/http11.py:224\u001b[0m, in \u001b[0;36mHTTP11Connection._receive_event\u001b[0;34m(self, timeout)\u001b[0m\n\u001b[1;32m    221\u001b[0m     event \u001b[38;5;241m=\u001b[39m \u001b[38;5;28mself\u001b[39m\u001b[38;5;241m.\u001b[39m_h11_state\u001b[38;5;241m.\u001b[39mnext_event()\n\u001b[1;32m    223\u001b[0m \u001b[38;5;28;01mif\u001b[39;00m event \u001b[38;5;129;01mis\u001b[39;00m h11\u001b[38;5;241m.\u001b[39mNEED_DATA:\n\u001b[0;32m--> 224\u001b[0m     data \u001b[38;5;241m=\u001b[39m \u001b[38;5;28;43mself\u001b[39;49m\u001b[38;5;241;43m.\u001b[39;49m\u001b[43m_network_stream\u001b[49m\u001b[38;5;241;43m.\u001b[39;49m\u001b[43mread\u001b[49m\u001b[43m(\u001b[49m\n\u001b[1;32m    225\u001b[0m \u001b[43m        \u001b[49m\u001b[38;5;28;43mself\u001b[39;49m\u001b[38;5;241;43m.\u001b[39;49m\u001b[43mREAD_NUM_BYTES\u001b[49m\u001b[43m,\u001b[49m\u001b[43m \u001b[49m\u001b[43mtimeout\u001b[49m\u001b[38;5;241;43m=\u001b[39;49m\u001b[43mtimeout\u001b[49m\n\u001b[1;32m    226\u001b[0m \u001b[43m    \u001b[49m\u001b[43m)\u001b[49m\n\u001b[1;32m    228\u001b[0m     \u001b[38;5;66;03m# If we feed this case through h11 we'll raise an exception like:\u001b[39;00m\n\u001b[1;32m    229\u001b[0m     \u001b[38;5;66;03m#\u001b[39;00m\n\u001b[1;32m    230\u001b[0m     \u001b[38;5;66;03m#     httpcore.RemoteProtocolError: can't handle event type\u001b[39;00m\n\u001b[0;32m   (...)\u001b[0m\n\u001b[1;32m    234\u001b[0m     \u001b[38;5;66;03m# perspective. Instead we handle this case distinctly and treat\u001b[39;00m\n\u001b[1;32m    235\u001b[0m     \u001b[38;5;66;03m# it as a ConnectError.\u001b[39;00m\n\u001b[1;32m    236\u001b[0m     \u001b[38;5;28;01mif\u001b[39;00m data \u001b[38;5;241m==\u001b[39m \u001b[38;5;124mb\u001b[39m\u001b[38;5;124m\"\u001b[39m\u001b[38;5;124m\"\u001b[39m \u001b[38;5;129;01mand\u001b[39;00m \u001b[38;5;28mself\u001b[39m\u001b[38;5;241m.\u001b[39m_h11_state\u001b[38;5;241m.\u001b[39mtheir_state \u001b[38;5;241m==\u001b[39m h11\u001b[38;5;241m.\u001b[39mSEND_RESPONSE:\n",
      "File \u001b[0;32m/Volumes/Ajeet/RestaurantBot/RestEnv/lib/python3.11/site-packages/httpcore/_backends/sync.py:126\u001b[0m, in \u001b[0;36mSyncStream.read\u001b[0;34m(self, max_bytes, timeout)\u001b[0m\n\u001b[1;32m    124\u001b[0m \u001b[38;5;28;01mwith\u001b[39;00m map_exceptions(exc_map):\n\u001b[1;32m    125\u001b[0m     \u001b[38;5;28mself\u001b[39m\u001b[38;5;241m.\u001b[39m_sock\u001b[38;5;241m.\u001b[39msettimeout(timeout)\n\u001b[0;32m--> 126\u001b[0m     \u001b[38;5;28;01mreturn\u001b[39;00m \u001b[38;5;28;43mself\u001b[39;49m\u001b[38;5;241;43m.\u001b[39;49m\u001b[43m_sock\u001b[49m\u001b[38;5;241;43m.\u001b[39;49m\u001b[43mrecv\u001b[49m\u001b[43m(\u001b[49m\u001b[43mmax_bytes\u001b[49m\u001b[43m)\u001b[49m\n",
      "File \u001b[0;32m/Volumes/Ajeet/RestaurantBot/RestEnv/lib/python3.11/ssl.py:1263\u001b[0m, in \u001b[0;36mSSLSocket.recv\u001b[0;34m(self, buflen, flags)\u001b[0m\n\u001b[1;32m   1259\u001b[0m     \u001b[38;5;28;01mif\u001b[39;00m flags \u001b[38;5;241m!=\u001b[39m \u001b[38;5;241m0\u001b[39m:\n\u001b[1;32m   1260\u001b[0m         \u001b[38;5;28;01mraise\u001b[39;00m \u001b[38;5;167;01mValueError\u001b[39;00m(\n\u001b[1;32m   1261\u001b[0m             \u001b[38;5;124m\"\u001b[39m\u001b[38;5;124mnon-zero flags not allowed in calls to recv() on \u001b[39m\u001b[38;5;132;01m%s\u001b[39;00m\u001b[38;5;124m\"\u001b[39m \u001b[38;5;241m%\u001b[39m\n\u001b[1;32m   1262\u001b[0m             \u001b[38;5;28mself\u001b[39m\u001b[38;5;241m.\u001b[39m\u001b[38;5;18m__class__\u001b[39m)\n\u001b[0;32m-> 1263\u001b[0m     \u001b[38;5;28;01mreturn\u001b[39;00m \u001b[38;5;28;43mself\u001b[39;49m\u001b[38;5;241;43m.\u001b[39;49m\u001b[43mread\u001b[49m\u001b[43m(\u001b[49m\u001b[43mbuflen\u001b[49m\u001b[43m)\u001b[49m\n\u001b[1;32m   1264\u001b[0m \u001b[38;5;28;01melse\u001b[39;00m:\n\u001b[1;32m   1265\u001b[0m     \u001b[38;5;28;01mreturn\u001b[39;00m \u001b[38;5;28msuper\u001b[39m()\u001b[38;5;241m.\u001b[39mrecv(buflen, flags)\n",
      "File \u001b[0;32m/Volumes/Ajeet/RestaurantBot/RestEnv/lib/python3.11/ssl.py:1136\u001b[0m, in \u001b[0;36mSSLSocket.read\u001b[0;34m(self, len, buffer)\u001b[0m\n\u001b[1;32m   1134\u001b[0m         \u001b[38;5;28;01mreturn\u001b[39;00m \u001b[38;5;28mself\u001b[39m\u001b[38;5;241m.\u001b[39m_sslobj\u001b[38;5;241m.\u001b[39mread(\u001b[38;5;28mlen\u001b[39m, buffer)\n\u001b[1;32m   1135\u001b[0m     \u001b[38;5;28;01melse\u001b[39;00m:\n\u001b[0;32m-> 1136\u001b[0m         \u001b[38;5;28;01mreturn\u001b[39;00m \u001b[38;5;28;43mself\u001b[39;49m\u001b[38;5;241;43m.\u001b[39;49m\u001b[43m_sslobj\u001b[49m\u001b[38;5;241;43m.\u001b[39;49m\u001b[43mread\u001b[49m\u001b[43m(\u001b[49m\u001b[38;5;28;43mlen\u001b[39;49m\u001b[43m)\u001b[49m\n\u001b[1;32m   1137\u001b[0m \u001b[38;5;28;01mexcept\u001b[39;00m SSLError \u001b[38;5;28;01mas\u001b[39;00m x:\n\u001b[1;32m   1138\u001b[0m     \u001b[38;5;28;01mif\u001b[39;00m x\u001b[38;5;241m.\u001b[39margs[\u001b[38;5;241m0\u001b[39m] \u001b[38;5;241m==\u001b[39m SSL_ERROR_EOF \u001b[38;5;129;01mand\u001b[39;00m \u001b[38;5;28mself\u001b[39m\u001b[38;5;241m.\u001b[39msuppress_ragged_eofs:\n",
      "\u001b[0;31mKeyboardInterrupt\u001b[0m: "
     ]
    }
   ],
   "source": [
    "agent_with_chat_history.invoke({\"input\":\" I want to order burger and  Momo\"},\n",
    "    config={\"configurable\": {\"session_id\": \"<foo>\"}})"
   ]
  },
  {
   "cell_type": "code",
   "execution_count": null,
   "metadata": {},
   "outputs": [
    {
     "name": "stdout",
     "output_type": "stream",
     "text": [
      "\n",
      "\n",
      "\u001b[1m> Entering new AgentExecutor chain...\u001b[0m\n",
      "\u001b[32;1m\u001b[1;3m\n",
      "Invoking: `FoodverifyTool` with `fried chicken sandwich`\n",
      "\n",
      "\n",
      "\u001b[0mfried chicken sandwich\n",
      "\u001b[38;5;200m\u001b[1;3m{'response': 'Which type of burger would you like to order? Here are the available options:', 'available_options': [{'food_name': 'Cheese Burger', 'price': 13.95}, {'food_name': 'Bacon and Cheddar Burger', 'price': 14.95}, {'food_name': 'Blue cheese Burger', 'price': 17.2}, {'food_name': 'Mushroom cheddar Burger', 'price': 14.95}, {'food_name': 'Mini Burger Sampler', 'price': 14.95}, {'food_name': 'Mexi Burger', 'price': 13.95}, {'food_name': 'Whiskey BBQ Burger', 'price': 15}]}\u001b[0m\u001b[32;1m\u001b[1;3m{\"message\": \"We don't have fried chicken sandwich. Would you like to order something else? Here are the available options for burgers:\", \"available_options\": [{\"food_name\": \"Cheese Burger\", \"price\": 13.95}, {\"food_name\": \"Bacon and Cheddar Burger\", \"price\": 14.95}, {\"food_name\": \"Blue cheese Burger\", \"price\": 17.2}, {\"food_name\": \"Mushroom cheddar Burger\", \"price\": 14.95}, {\"food_name\": \"Mini Burger Sampler\", \"price\": 14.95}, {\"food_name\": \"Mexi Burger\", \"price\": 13.95}, {\"food_name\": \"Whiskey BBQ Burger\", \"price\": 15}]}\u001b[0m\n",
      "\n",
      "\u001b[1m> Finished chain.\u001b[0m\n"
     ]
    },
    {
     "data": {
      "text/plain": [
       "{'input': 'Do you have fried chicken sandwich?',\n",
       " 'chat_history': [HumanMessage(content='I want to order a Burger'),\n",
       "  AIMessage(content='{\"message\": \"Which type of burger would you like to order? Here are the available'),\n",
       "  HumanMessage(content=' I want to order burger and  Momo'),\n",
       "  AIMessage(content='{\"message\": \"Please provide your delivery address for the order.\"}')],\n",
       " 'output': '{\"message\": \"We don\\'t have fried chicken sandwich. Would you like to order something else? Here are the available options for burgers:\", \"available_options\": [{\"food_name\": \"Cheese Burger\", \"price\": 13.95}, {\"food_name\": \"Bacon and Cheddar Burger\", \"price\": 14.95}, {\"food_name\": \"Blue cheese Burger\", \"price\": 17.2}, {\"food_name\": \"Mushroom cheddar Burger\", \"price\": 14.95}, {\"food_name\": \"Mini Burger Sampler\", \"price\": 14.95}, {\"food_name\": \"Mexi Burger\", \"price\": 13.95}, {\"food_name\": \"Whiskey BBQ Burger\", \"price\": 15}]}'}"
      ]
     },
     "execution_count": 25,
     "metadata": {},
     "output_type": "execute_result"
    }
   ],
   "source": [
    "agent_with_chat_history.invoke({\"input\":\"Do you have fried chicken sandwich?\"},\n",
    "    config={\"configurable\": {\"session_id\": \"<foo>\"}},\n",
    "                               )\n"
   ]
  },
  {
   "cell_type": "code",
   "execution_count": null,
   "metadata": {},
   "outputs": [
    {
     "name": "stdout",
     "output_type": "stream",
     "text": [
      "\n",
      "\n",
      "\u001b[1m> Entering new AgentExecutor chain...\u001b[0m\n",
      "\u001b[32;1m\u001b[1;3m{\"message\": \"Please provide your delivery address for the order.\"}\u001b[0m\n",
      "\n",
      "\u001b[1m> Finished chain.\u001b[0m\n"
     ]
    },
    {
     "data": {
      "text/plain": [
       "{'input': 'I want to order momo',\n",
       " 'chat_history': [HumanMessage(content='I want to order a Burger'),\n",
       "  AIMessage(content='{\"message\": \"Which type of burger would you like to order? Here are the available'),\n",
       "  HumanMessage(content=' I want to order burger and  Momo'),\n",
       "  AIMessage(content='{\"message\": \"Please provide your delivery address for the order.\"}'),\n",
       "  HumanMessage(content='Do you have fried chicken sandwich?'),\n",
       "  AIMessage(content='{\"message\": \"We don\\'t have fried chicken sandwich. Would you like to order something else? Here are the available options for burgers:\", \"available_options\": [{\"food_name\": \"Cheese Burger\", \"price\": 13.95}, {\"food_name\": \"Bacon and Cheddar Burger\", \"price\": 14.95}, {\"food_name\": \"Blue cheese Burger\", \"price\": 17.2}, {\"food_name\": \"Mushroom cheddar Burger\", \"price\": 14.95}, {\"food_name\": \"Mini Burger Sampler\", \"price\": 14.95}, {\"food_name\": \"Mexi Burger\", \"price\": 13.95}, {\"food_name\": \"Whiskey BBQ Burger\", \"price\": 15}]}')],\n",
       " 'output': '{\"message\": \"Please provide your delivery address for the order.\"}'}"
      ]
     },
     "execution_count": 26,
     "metadata": {},
     "output_type": "execute_result"
    }
   ],
   "source": [
    "agent_with_chat_history.invoke({\"input\":\"I want to order momo\"},\n",
    "    config={\"configurable\": {\"session_id\": \"<foo>\"}})\n"
   ]
  },
  {
   "cell_type": "code",
   "execution_count": null,
   "metadata": {},
   "outputs": [
    {
     "name": "stdout",
     "output_type": "stream",
     "text": [
      "\n",
      "\n",
      "\u001b[1m> Entering new AgentExecutor chain...\u001b[0m\n",
      "\u001b[32;1m\u001b[1;3m{\"message\": \"We have a variety of shakes available. Here are some options:\", \"available_options\": [{\"shake_name\": \"Chocolate Shake\", \"price\": 5.95}, {\"shake_name\": \"Vanilla Shake\", \"price\": 5.95}, {\"shake_name\": \"Strawberry Shake\", \"price\": 5.95}, {\"shake_name\": \"Banana Shake\", \"price\": 5.95}, {\"shake_name\": \"Mango Shake\", \"price\": 5.95}]}\u001b[0m\n",
      "\n",
      "\u001b[1m> Finished chain.\u001b[0m\n"
     ]
    },
    {
     "data": {
      "text/plain": [
       "{'input': 'Suggest me some Shakes',\n",
       " 'chat_history': [HumanMessage(content='I want to order a Burger'),\n",
       "  AIMessage(content='{\"message\": \"Which type of burger would you like to order? Here are the available'),\n",
       "  HumanMessage(content=' I want to order burger and  Momo'),\n",
       "  AIMessage(content='{\"message\": \"Please provide your delivery address for the order.\"}'),\n",
       "  HumanMessage(content='Do you have fried chicken sandwich?'),\n",
       "  AIMessage(content='{\"message\": \"We don\\'t have fried chicken sandwich. Would you like to order something else? Here are the available options for burgers:\", \"available_options\": [{\"food_name\": \"Cheese Burger\", \"price\": 13.95}, {\"food_name\": \"Bacon and Cheddar Burger\", \"price\": 14.95}, {\"food_name\": \"Blue cheese Burger\", \"price\": 17.2}, {\"food_name\": \"Mushroom cheddar Burger\", \"price\": 14.95}, {\"food_name\": \"Mini Burger Sampler\", \"price\": 14.95}, {\"food_name\": \"Mexi Burger\", \"price\": 13.95}, {\"food_name\": \"Whiskey BBQ Burger\", \"price\": 15}]}'),\n",
       "  HumanMessage(content='I want to order momo'),\n",
       "  AIMessage(content='{\"message\": \"Please provide your delivery address for the order.\"}'),\n",
       "  HumanMessage(content='Suggest me some Shakes'),\n",
       "  AIMessage(content='{\"message\": \"We have a variety of shakes available. Here are some options:\", \"available_options\": [{\"shake_name\": \"Chocolate Shake\", \"price\": 5.95}, {\"shake_name\": \"Vanilla Shake\", \"price\": 5.95}, {\"shake_name\": \"Strawberry Shake\", \"price\": 5.95}, {\"shake_name\": \"Banana Shake\", \"price\": 5.95}, {\"shake_name\": \"Mango Shake\", \"price\": 5.95}]}'),\n",
       "  HumanMessage(content='Cheese Pizza.'),\n",
       "  AIMessage(content='{\"message\": \"We don\\'t have Cheese Pizza. Would you like to order something else? Here are the available options for shakes:\", \"available_options\": [{\"shake_name\": \"Chocolate Shake\", \"price\": 5.95}, {\"shake_name\": \"Vanilla Shake\", \"price\": 5.95}, {\"shake_name\": \"Strawberry Shake\", \"price\": 5.95}, {\"shake_name\": \"Banana Shake\", \"price\": 5.95}, {\"shake_name\": \"Mango Shake\", \"price\": 5.95}]}'),\n",
       "  HumanMessage(content='Cheese Pizza.'),\n",
       "  AIMessage(content='{\"message\": \"We don\\'t have Cheese Pizza. Would you like to order something else? Here are the available options for shakes:\", \"available_options\": [{\"shake_name\": \"Chocolate Shake\", \"price\": 5.95}, {\"shake_name\": \"Vanilla Shake\", \"price\": 5.95}, {\"shake_name\": \"Strawberry Shake\", \"price\": 5.95}, {\"shake_name\": \"Banana Shake\", \"price\": 5.95}, {\"shake_name\": \"Mango Shake\", \"price\": 5.95}]}'),\n",
       "  HumanMessage(content='Cheese Pizza.'),\n",
       "  AIMessage(content='{\"message\": \"We don\\'t have Cheese Pizza. Would you like to order something else? Here are the available options for burgers:\", \"available_options\": [{\"food_name\": \"Cheese Burger\", \"price\": 13.95}, {\"food_name\": \"Bacon and Cheddar Burger\", \"price\": 14.95}, {\"food_name\": \"Blue cheese Burger\", \"price\": 17.2}, {\"food_name\": \"Mushroom cheddar Burger\", \"price\": 14.95}, {\"food_name\": \"Mini Burger Sampler\", \"price\": 14.95}, {\"food_name\": \"Mexi Burger\", \"price\": 13.95}, {\"food_name\": \"Whiskey BBQ Burger\", \"price\": 15}]}'),\n",
       "  HumanMessage(content='Cheese Pizza.'),\n",
       "  AIMessage(content='{\"message\": \"We don\\'t have Cheese Pizza. Would you like to order something else? Here are the available options for burgers:\", \"available_options\": [{\"food_name\": \"Cheese Burger\", \"price\": 13.95}, {\"food_name\": \"Bacon and Cheddar Burger\", \"price\": 14.95}, {\"food_name\": \"Blue cheese Burger\", \"price\": 17.2}, {\"food_name\": \"Mushroom cheddar Burger\", \"price\": 14.95}, {\"food_name\": \"Mini Burger Sampler\", \"price\": 14.95}, {\"food_name\": \"Mexi Burger\", \"price\": 13.95}, {\"food_name\": \"Whiskey BBQ Burger\", \"price\": 15}]}'),\n",
       "  HumanMessage(content='Cheese Pizza.'),\n",
       "  AIMessage(content='{\"message\": \"We don\\'t have Cheese Pizza. Would you like to order something else? Here are the available options for burgers:\", \"available_options\": [{\"food_name\": \"Cheese Burger\", \"price\": 13.95}, {\"food_name\": \"Bacon and Cheddar Burger\", \"price\": 14.95}, {\"food_name\": \"Blue cheese Burger\", \"price\": 17.2}, {\"food_name\": \"Mushroom cheddar Burger\", \"price\": 14.95}, {\"food_name\": \"Mini Burger Sampler\", \"price\": 14.95}, {\"food_name\": \"Mexi Burger\", \"price\": 13.95}, {\"food_name\": \"Whiskey BBQ Burger\", \"price\": 15}]}'),\n",
       "  HumanMessage(content='Cheese Pizza.'),\n",
       "  AIMessage(content='{\"message\": \"We don\\'t have Cheese Pizza. Would you like to order something else? Here are the available options for burgers:\", \"available_options\": [{\"food_name\": \"Cheese Burger\", \"price\": 13.95}, {\"food_name\": \"Bacon and Cheddar Burger\", \"price\": 14.95}, {\"food_name\": \"Blue cheese Burger\", \"price\": 17.2}, {\"food_name\": \"Mushroom cheddar Burger\", \"price\": 14.95}, {\"food_name\": \"Mini Burger Sampler\", \"price\": 14.95}, {\"food_name\": \"Mexi Burger\", \"price\": 13.95}, {\"food_name\": \"Whiskey BBQ Burger\", \"price\": 15}]}'),\n",
       "  HumanMessage(content='Cheese Pizza.'),\n",
       "  AIMessage(content='{\"message\": \"We don\\'t have Cheese Pizza. Would you like to order something else? Here are the available options for burgers:\", \"available_options\": [{\"food_name\": \"Cheese Burger\", \"price\": 13.95}, {\"food_name\": \"Bacon and Cheddar Burger\", \"price\": 14.95}, {\"food_name\": \"Blue cheese Burger\", \"price\": 17.2}, {\"food_name\": \"Mushroom cheddar Burger\", \"price\": 14.95}, {\"food_name\": \"Mini Burger Sampler\", \"price\": 14.95}, {\"food_name\": \"Mexi Burger\", \"price\": 13.95}, {\"food_name\": \"Whiskey BBQ Burger\", \"price\": 15}]}'),\n",
       "  HumanMessage(content='Cheese Pizza.'),\n",
       "  AIMessage(content='{\"message\": \"We don\\'t have Cheese Pizza. Would you like to order something else? Here are the available options for burgers:\", \"available_options\": [{\"food_name\": \"Cheese Burger\", \"price\": 13.95}, {\"food_name\": \"Bacon and Cheddar Burger\", \"price\": 14.95}, {\"food_name\": \"Blue cheese Burger\", \"price\": 17.2}, {\"food_name\": \"Mushroom cheddar Burger\", \"price\": 14.95}, {\"food_name\": \"Mini Burger Sampler\", \"price\": 14.95}, {\"food_name\": \"Mexi Burger\", \"price\": 13.95}, {\"food_name\": \"Whiskey BBQ Burger\", \"price\": 15}]}'),\n",
       "  HumanMessage(content='Cheese Pizza.'),\n",
       "  AIMessage(content='{\"message\": \"We don\\'t have Cheese Pizza. Would you like to order something else? Here are the available options for burgers:\", \"available_options\": [{\"food_name\": \"Cheese Burger\", \"price\": 13.95}, {\"food_name\": \"Bacon and Cheddar Burger\", \"price\": 14.95}, {\"food_name\": \"Blue cheese Burger\", \"price\": 17.2}, {\"food_name\": \"Mushroom cheddar Burger\", \"price\": 14.95}, {\"food_name\": \"Mini Burger Sampler\", \"price\": 14.95}, {\"food_name\": \"Mexi Burger\", \"price\": 13.95}, {\"food_name\": \"Whiskey BBQ Burger\", \"price\": 15}]}'),\n",
       "  HumanMessage(content='Cheese Pizza.'),\n",
       "  AIMessage(content='{\"message\": \"We don\\'t have Cheese Pizza. Would you like to order something else? Here are the available options for burgers:\", \"available_options\": [{\"food_name\": \"Cheese Burger\", \"price\": 13.95}, {\"food_name\": \"Bacon and Cheddar Burger\", \"price\": 14.95}, {\"food_name\": \"Blue cheese Burger\", \"price\": 17.2}, {\"food_name\": \"Mushroom cheddar Burger\", \"price\": 14.95}, {\"food_name\": \"Mini Burger Sampler\", \"price\": 14.95}, {\"food_name\": \"Mexi Burger\", \"price\": 13.95}, {\"food_name\": \"Whiskey BBQ Burger\", \"price\": 15}]}'),\n",
       "  HumanMessage(content='Cheese Pizza.'),\n",
       "  AIMessage(content='{\"message\": \"We don\\'t have Cheese Pizza. Would you like to order something else? Here are the available options for burgers:\", \"available_options\": [{\"food_name\": \"Cheese Burger\", \"price\": 13.95}, {\"food_name\": \"Bacon and Cheddar Burger\", \"price\": 14.95}, {\"food_name\": \"Blue cheese Burger\", \"price\": 17.2}, {\"food_name\": \"Mushroom cheddar Burger\", \"price\": 14.95}, {\"food_name\": \"Mini Burger Sampler\", \"price\": 14.95}, {\"food_name\": \"Mexi Burger\", \"price\": 13.95}, {\"food_name\": \"Whiskey BBQ Burger\", \"price\": 15}]}')],\n",
       " 'output': '{\"message\": \"We have a variety of shakes available. Here are some options:\", \"available_options\": [{\"shake_name\": \"Chocolate Shake\", \"price\": 5.95}, {\"shake_name\": \"Vanilla Shake\", \"price\": 5.95}, {\"shake_name\": \"Strawberry Shake\", \"price\": 5.95}, {\"shake_name\": \"Banana Shake\", \"price\": 5.95}, {\"shake_name\": \"Mango Shake\", \"price\": 5.95}]}'}"
      ]
     },
     "execution_count": 40,
     "metadata": {},
     "output_type": "execute_result"
    }
   ],
   "source": [
    "outp  = agent_with_chat_history.invoke({\"input\":\"Suggest me some Shakes\"},\n",
    "    config={\"configurable\": {\"session_id\": \"<foo>\"}})\n",
    "outp"
   ]
  },
  {
   "cell_type": "code",
   "execution_count": null,
   "metadata": {},
   "outputs": [
    {
     "name": "stdout",
     "output_type": "stream",
     "text": [
      "\n",
      "\n",
      "\u001b[1m> Entering new AgentExecutor chain...\u001b[0m\n",
      "\u001b[32;1m\u001b[1;3m{\"message\": \"We don't have Cheese Pizza. Would you like to order something else? Here are the available options for burgers:\", \"available_options\": [{\"food_name\": \"Cheese Burger\", \"price\": 13.95}, {\"food_name\": \"Bacon and Cheddar Burger\", \"price\": 14.95}, {\"food_name\": \"Blue cheese Burger\", \"price\": 17.2}, {\"food_name\": \"Mushroom cheddar Burger\", \"price\": 14.95}, {\"food_name\": \"Mini Burger Sampler\", \"price\": 14.95}, {\"food_name\": \"Mexi Burger\", \"price\": 13.95}, {\"food_name\": \"Whiskey BBQ Burger\", \"price\": 15}]}\u001b[0m\n",
      "\n",
      "\u001b[1m> Finished chain.\u001b[0m\n"
     ]
    },
    {
     "data": {
      "text/plain": [
       "{'message': \"We don't have Cheese Pizza. Would you like to order something else? Here are the available options for burgers:\",\n",
       " 'available_options': [{'food_name': 'Cheese Burger', 'price': 13.95},\n",
       "  {'food_name': 'Bacon and Cheddar Burger', 'price': 14.95},\n",
       "  {'food_name': 'Blue cheese Burger', 'price': 17.2},\n",
       "  {'food_name': 'Mushroom cheddar Burger', 'price': 14.95},\n",
       "  {'food_name': 'Mini Burger Sampler', 'price': 14.95},\n",
       "  {'food_name': 'Mexi Burger', 'price': 13.95},\n",
       "  {'food_name': 'Whiskey BBQ Burger', 'price': 15}]}"
      ]
     },
     "execution_count": 39,
     "metadata": {},
     "output_type": "execute_result"
    }
   ],
   "source": [
    "output = agent_with_chat_history.invoke({\"input\":\"Cheese Pizza.\"},\n",
    "    config={\"configurable\": {\"session_id\": \"<foo>\"}})\n",
    "import json\n",
    "json.loads(output.get('output'))"
   ]
  },
  {
   "cell_type": "code",
   "execution_count": null,
   "metadata": {},
   "outputs": [],
   "source": []
  },
  {
   "cell_type": "code",
   "execution_count": null,
   "metadata": {},
   "outputs": [],
   "source": []
  },
  {
   "cell_type": "code",
   "execution_count": null,
   "metadata": {},
   "outputs": [],
   "source": []
  },
  {
   "cell_type": "code",
   "execution_count": null,
   "metadata": {},
   "outputs": [
    {
     "name": "stdout",
     "output_type": "stream",
     "text": [
      "\n",
      "\n",
      "\u001b[1m> Entering new AgentExecutor chain...\u001b[0m\n",
      "\u001b[32;1m\u001b[1;3m\n",
      "Invoking: `deliveryaddress` with `delivery`\n",
      "\n",
      "\n",
      "\u001b[0m\n",
      "\n",
      "\u001b[1m> Entering new LLMChain chain...\u001b[0m\n",
      "Prompt after formatting:\n",
      "\u001b[32;1m\u001b[1;3mHuman:  You are a smart assistant waiter in a ABC restaurant.When the user says he is finished with ordering, Ask the user whether he/she wants delivery or dine-in.Your role is mentioned below:\n",
      "       Ask the user for their address if the user says delivery. The user input is given in three backticks: ```delivery```\n",
      "       If the user says dine-in tell them Thankyou and ask no further question.\n",
      "      \u001b[0m\n",
      "\n",
      "\u001b[1m> Finished chain.\u001b[0m\n",
      "address='yes'\n",
      "\u001b[36;1m\u001b[1;3maddress='yes'\u001b[0m\u001b[32;1m\u001b[1;3mPlease provide your delivery address.\u001b[0m\n",
      "\n",
      "\u001b[1m> Finished chain.\u001b[0m\n"
     ]
    },
    {
     "data": {
      "text/plain": [
       "{'input': 'delivery', 'output': 'Please provide your delivery address.'}"
      ]
     },
     "execution_count": 30,
     "metadata": {},
     "output_type": "execute_result"
    }
   ],
   "source": [
    "{\n",
    "    \"response\": \"Burger is available in the menu. Here are the available options:\",\n",
    "    \"available_options\": [\n",
    "        {\n",
    "            \"food_name\": \"Cheese Burger\",\n",
    "            \"price\": 13.95\n",
    "        },\n",
    "        {\n",
    "            \"food_name\": \"Bacon and Cheddar Burger\",\n",
    "            \"price\": 14.95\n",
    "        },\n",
    "        {\n",
    "            \"food_name\": \"Blue cheese Burger\",\n",
    "            \"price\": 17.2\n",
    "        },\n",
    "        {\n",
    "            \"food_name\": \"Mushroom cheddar Burger\",\n",
    "            \"price\": 14.95\n",
    "        },\n",
    "        {\n",
    "            \"food_name\": \"Mini Burger Sampler\",\n",
    "            \"price\": 14.95\n",
    "        },\n",
    "        {\n",
    "            \"food_name\": \"Mexi Burger\",\n",
    "            \"price\": 13.95\n",
    "        },\n",
    "        {\n",
    "            \"food_name\": \"Whiskey BBQ Burger\",\n",
    "            \"price\": 15\n",
    "        }\n",
    "    ]\n",
    "}\n",
    "\n",
    "def ask_services():\n",
    "    first_prompt1 = ChatPromptTemplate.from_template(\n",
    "       \"\"\" You are a smart assistant waiter in a ABC restaurant.When the user says he is finished with ordering, Ask the user whether he/she wants delivery or dine-in.Your role is mentioned below:\n",
    "       Ask the user for their address if the user says delivery. The user input is given in three backticks: ```{input}```\n",
    "       If the user says dine-in tell them Thankyou and ask no further question.\n",
    "      \"\"\"\n",
    "    )\n",
    "    chain = LLMChain(llm = llm, prompt=first_prompt1, verbose=True)\n",
    "    convs = chain.run(\"delivery\")\n",
    "    return convs\n",
    "\n",
    "class address(BaseModel):\n",
    "    address:str=Field(description=\"This is the address of the customers in case of delivery.\")\n",
    "\n",
    "\n",
    "def record_address(user_input):\n",
    "    user_input=input(ask_services())\n",
    "    chain=create_tagging_chain_pydantic(address,llm)\n",
    "    response=chain.run(user_input)\n",
    "    print(response)\n",
    "    return response\n",
    "\n",
    "\n",
    "delivery_tool=Tool(\n",
    "    name='deliveryaddress',\n",
    "    func=record_address,\n",
    "    description=\"A tool that asks for address if user says delivery.\"\n",
    ")\n",
    "\n",
    "\n",
    "agent = create_tool_calling_agent(llm, tools, prompt)\n",
    "\n",
    "agent_executor = AgentExecutor(\n",
    "    tools= tools, \n",
    "    agent= agent, \n",
    "    max_iterations= 5, \n",
    "    return_intermediate_steps= False, \n",
    "    verbose=True, \n",
    "    early_stopping_method ='generate')\n",
    "agent_executor.invoke({\"input\":\"delivery\"})"
   ]
  },
  {
   "cell_type": "code",
   "execution_count": null,
   "metadata": {},
   "outputs": [],
   "source": []
  },
  {
   "cell_type": "code",
   "execution_count": null,
   "metadata": {},
   "outputs": [],
   "source": []
  },
  {
   "cell_type": "code",
   "execution_count": null,
   "metadata": {},
   "outputs": [],
   "source": []
  },
  {
   "cell_type": "code",
   "execution_count": null,
   "metadata": {},
   "outputs": [],
   "source": []
  },
  {
   "cell_type": "code",
   "execution_count": null,
   "metadata": {},
   "outputs": [],
   "source": []
  },
  {
   "cell_type": "code",
   "execution_count": null,
   "metadata": {},
   "outputs": [],
   "source": []
  },
  {
   "cell_type": "code",
   "execution_count": null,
   "metadata": {},
   "outputs": [],
   "source": []
  }
 ],
 "metadata": {
  "kernelspec": {
   "display_name": "Python 3",
   "language": "python",
   "name": "python3"
  },
  "language_info": {
   "codemirror_mode": {
    "name": "ipython",
    "version": 3
   },
   "file_extension": ".py",
   "mimetype": "text/x-python",
   "name": "python",
   "nbconvert_exporter": "python",
   "pygments_lexer": "ipython3",
   "version": "3.11.0"
  }
 },
 "nbformat": 4,
 "nbformat_minor": 2
}
